{
 "cells": [
  {
   "cell_type": "code",
   "execution_count": 1,
   "metadata": {},
   "outputs": [
    {
     "name": "stderr",
     "output_type": "stream",
     "text": [
      "c:\\users\\admin\\appdata\\local\\programs\\python\\python36\\lib\\site-packages\\IPython\\core\\interactiveshell.py:2785: DtypeWarning: Columns (0) have mixed types. Specify dtype option on import or set low_memory=False.\n",
      "  interactivity=interactivity, compiler=compiler, result=result)\n"
     ]
    }
   ],
   "source": [
    "\n",
    "import re\n",
    "import pandas as pd\n",
    "normal_ac=pd.read_csv('D:/study/Fake/genuine_accounts/users.csv')\n",
    "normal_tweet=pd.read_csv('D:/study/Fake/genuine_accounts/tweets.csv',\n",
    "                         encoding='utf-8')\n",
    "spam_ac2 = pd.read_csv('D:/study/Fake/social_spambots_2/users.csv')"
   ]
  },
  {
   "cell_type": "code",
   "execution_count": 2,
   "metadata": {},
   "outputs": [
    {
     "name": "stdout",
     "output_type": "stream",
     "text": [
      "<bound method DataFrame.sum of             id   text  user_id  num_hashtags  num_mentions\n",
      "0        False  False    False         False         False\n",
      "1        False  False    False         False         False\n",
      "2        False  False    False         False         False\n",
      "3        False  False    False         False         False\n",
      "4        False  False    False         False         False\n",
      "5        False  False    False         False         False\n",
      "6        False  False    False         False         False\n",
      "7        False  False    False         False         False\n",
      "8        False  False    False         False         False\n",
      "9        False  False    False         False         False\n",
      "10       False  False    False         False         False\n",
      "11       False  False    False         False         False\n",
      "12       False  False    False         False         False\n",
      "13       False  False    False         False         False\n",
      "14       False  False    False         False         False\n",
      "15       False  False    False         False         False\n",
      "16       False  False    False         False         False\n",
      "17       False  False    False         False         False\n",
      "18       False  False    False         False         False\n",
      "19       False  False    False         False         False\n",
      "20       False  False    False         False         False\n",
      "21       False  False    False         False         False\n",
      "22       False  False    False         False         False\n",
      "23       False  False    False         False         False\n",
      "24       False  False    False         False         False\n",
      "25       False  False    False         False         False\n",
      "26       False  False    False         False         False\n",
      "27       False  False    False         False         False\n",
      "28       False  False    False         False         False\n",
      "29       False  False    False         False         False\n",
      "...        ...    ...      ...           ...           ...\n",
      "2839331  False  False    False         False         False\n",
      "2839332  False  False    False         False         False\n",
      "2839333  False  False    False         False         False\n",
      "2839334  False  False    False         False         False\n",
      "2839335  False  False    False         False         False\n",
      "2839336  False  False    False         False         False\n",
      "2839337  False  False    False         False         False\n",
      "2839338  False  False    False         False         False\n",
      "2839339  False  False    False         False         False\n",
      "2839340  False  False    False         False         False\n",
      "2839341  False  False    False         False         False\n",
      "2839342  False  False    False         False         False\n",
      "2839343  False  False    False         False         False\n",
      "2839344  False  False    False         False         False\n",
      "2839345  False  False    False         False         False\n",
      "2839346  False  False    False         False         False\n",
      "2839347  False  False    False         False         False\n",
      "2839348  False  False    False         False         False\n",
      "2839349  False  False    False         False         False\n",
      "2839350  False  False    False         False         False\n",
      "2839351  False  False    False         False         False\n",
      "2839352  False  False    False         False         False\n",
      "2839353  False  False    False         False         False\n",
      "2839354  False  False    False         False         False\n",
      "2839355  False  False    False         False         False\n",
      "2839356  False  False    False         False         False\n",
      "2839357  False  False    False         False         False\n",
      "2839358  False  False    False         False         False\n",
      "2839359  False  False    False         False         False\n",
      "2839360  False  False    False         False         False\n",
      "\n",
      "[2826790 rows x 5 columns]>\n"
     ]
    }
   ],
   "source": [
    "normal_tweet=normal_tweet[['id','text','user_id','num_hashtags','num_mentions']]\n",
    "normal_tweet.dropna(axis=0,how='any',inplace=True)\n",
    "print(normal_tweet.isnull().sum)"
   ]
  },
  {
   "cell_type": "code",
   "execution_count": 3,
   "metadata": {},
   "outputs": [
    {
     "data": {
      "text/plain": [
       "3474"
      ]
     },
     "execution_count": 3,
     "metadata": {},
     "output_type": "execute_result"
    }
   ],
   "source": [
    "len(normal_ac)"
   ]
  },
  {
   "cell_type": "code",
   "execution_count": 47,
   "metadata": {},
   "outputs": [
    {
     "name": "stdout",
     "output_type": "stream",
     "text": [
      "showing info https://raw.githubusercontent.com/nltk/nltk_data/gh-pages/index.xml\n"
     ]
    },
    {
     "data": {
      "text/plain": [
       "True"
      ]
     },
     "execution_count": 47,
     "metadata": {},
     "output_type": "execute_result"
    }
   ],
   "source": [
    "nltk.download()"
   ]
  },
  {
   "cell_type": "code",
   "execution_count": 3,
   "metadata": {},
   "outputs": [],
   "source": [
    "\n",
    "import numpy as np\n",
    "\n",
    "text = normal_tweet[['id', 'text']]\n",
    "text = np.array(text)\n",
    "text = text.tolist()\n",
    "URLs=[]\n",
    "ids=[]\n",
    "# test=text[5]\n",
    "# print(text)\n",
    "p2 = re.compile(r'(?:http|ftp|https)://(?:[\\w_-]+(?:(?:\\.[\\w_-]+)+))'\n",
    "                r'(?:[\\w.,@?^=%&:/~+#-]*[\\w@?^=%&/~+#-])?')\n",
    "# print(p2.findall(urls[6][1]))\n",
    "for i in text:\n",
    "    url=p2.findall(i[1])\n",
    "    i[1]=p2.sub('',i[1])\n",
    "    if len(url)>1:\n",
    "        for j in url:\n",
    "            ids.append(i[0])\n",
    "            URLs.append([i[0],j])\n",
    "\n",
    "\n",
    "\n"
   ]
  },
  {
   "cell_type": "code",
   "execution_count": 17,
   "metadata": {
    "collapsed": true
   },
   "outputs": [
    {
     "name": "stdout",
     "output_type": "stream",
     "text": [
      "                         id                                             tweets\n",
      "0        593932392663912449  RT : Speaking about Jews and comedy tonight at...\n",
      "1        593895316719423488  This age/face recognition thing..no reason pla...\n",
      "2        593880638069018624  Only upside of the moment I can think of is th...\n",
      "3        593847955536252928  If you're going to think about+create experien...\n",
      "4        593847687847350272  Watching a thread on FB about possible future ...\n",
      "5        593819412660101121                                        Don't. Ok? \n",
      "6        593814612820119552  RT : #enoughsenough \"Surprise! Woody Allen’s n...\n",
      "7        593750651449905152  RT : Kriss Kross once rapped \"some of them try...\n",
      "8        593750427792867329  RT : Watch Baltimore native  speak on Race in ...\n",
      "9        593742580774371329    I didn't realize anyone has ever made it to ...\n",
      "10       593659318479687680  RT : Here's my one paragraph review of the new...\n",
      "11       593654865689124865   I stand by you. I don't want men telling me w...\n",
      "12       593584377218473984                                   Thank you Becca.\n",
      "13       593579247110782976   I dont' ask for RTs gen, but my friend  is a ...\n",
      "14       593578595370438657  Not only$ but acts+messages from people that s...\n",
      "15       593578251722690560  To live with untreated PTSD is to feel like yo...\n",
      "16       593578041936220160   is also a Columbine survivor. Miles away from...\n",
      "17       593577845814796289   is old skool web. A good web citizen. A maker...\n",
      "18       593577605615325184  One reason my life has gotten better is the su...\n",
      "19       593573786374381569  RT : Jon Stewart got it RIGHT again! Watch the...\n",
      "20       593564272917024768                                         Thank you.\n",
      "21       593556802517671936  RT : Hundreds of people are in Union Square ab...\n",
      "22       593538473732087808  \"Sexy. But crazy.\" I play with makeup for the ...\n",
      "23       593538345298440193  \"Sexy. But crazy.\" I play with makeup for the ...\n",
      "24       593538277749202944  \"Sexy. But crazy.\"  I play with makeup for the...\n",
      "25       593505172678053888   When will OTHS stop with the sound system in ...\n",
      "26       593503983022440450  Infuriating to have the Oakland PD tell me the...\n",
      "27       593503379332009986  The best part of heading to Toronto for a mont...\n",
      "28       593503217167663105  Oakland Tech is once again got the stadium lev...\n",
      "29       593468542932131841         The Seinfeld series is going to be on Hulu\n",
      "...                     ...                                                ...\n",
      "2826760  425412787443990529  The #ValidationBoard just launched! FREE tool ...\n",
      "2826761  546865092965711872   Photo: Yep, that’s me in the upper right corner \n",
      "2826762  588114188456894466  This Treadmill Is As Close As It Gets To Runni...\n",
      "2826763  578840617830260736  RT : A British Bren Gun Carrier moving through...\n",
      "2826764  546829811604533248                The Daily Lifestyle Mashup is out! \n",
      "2826765  425382097679679488   keen to chat about hosting a Lean Startup wee...\n",
      "2826766  578840464599707648  La homeopatía mata, pero no por intentar suici...\n",
      "2826767  588113696439803905  Obvious but #MiaZ should sing #LovingYou by #M...\n",
      "2826768  546821260164874242         RT : Free yourself from pleasure and pain.\n",
      "2826769  425143660389228544  RT : I hope everyone is safe and well, after t...\n",
      "2826770  578839313452007424  ¿Cuál es tu desayuno favorito? — Panocha, merm...\n",
      "2826771  546784698681544705  \"Just remember that sometimes, the way you thi...\n",
      "2826772  588113467065905152  VIDEO: Shipment of groceries en route to ISS: ...\n",
      "2826773  423757433064796160                   you got the \"little\" part right!\n",
      "2826774  546765135667531776  \"This is the chemical formula for love: C8H11N...\n",
      "2826775  578835893097754625  cual es el punto medio entre vendedor ambulant...\n",
      "2826776  546543951138652161                                The #Buddha on PBS \n",
      "2826777  588097320547385344  NYC Murder Trial: The Problem With Confessions...\n",
      "2826778  423599225268498434  Need a good laugh today?  Watch this!    #giga...\n",
      "2826779  578834500546879488  ¿Si llegas a saber que Perico era sordo, tú pa...\n",
      "2826780  546467411151818752                The Daily Lifestyle Mashup is out! \n",
      "2826781  578753565520429057   Que pena :( si en el futuro viajo yo o algún ...\n",
      "2826782  588094712730509313  Energy Australia's and Origin Energy's toxic e...\n",
      "2826783  546451328302448640  RT : You too shall pass away. Knowing this, ho...\n",
      "2826784  423596027052961792  Is it true ?  2014 is going to be huge for us,...\n",
      "2826785  546418822677532673  \"When a woman no longer gets frustrated and up...\n",
      "2826786  546379158251929600  \"Here’s the key to living a good life: “Meet a...\n",
      "2826787  578751592213700608  RT : #SabiasQue el nombre real del penacho de ...\n",
      "2826788  546379003465314306  \"If someone says they have their shit together...\n",
      "2826789  588093827501527040  How to Train Your Coral: Imagine you are in th...\n",
      "\n",
      "[2826790 rows x 2 columns]\n"
     ]
    }
   ],
   "source": [
    "import nltk\n",
    "from nltk.corpus import stopwords\n",
    "from nltk.tokenize import word_tokenize\n",
    "def remove_pattern(input_txt, pattern):\n",
    "    r = re.findall(pattern, input_txt)\n",
    "    for i in r:\n",
    "        input_txt = re.sub(i, '', input_txt)\n",
    "\n",
    "    return input_txt\n",
    "text=pd.DataFrame(text,columns=['id','tweets'])\n",
    "\n",
    "text['tweets']=np.vectorize(remove_pattern)(text['tweets'].astype(str), \"@[\\w]*\")\n",
    "print(text)\n",
    "# def remove_pattern(input_txt, pattern):\n",
    "#     r = re.findall(pattern, input_txt)\n",
    "#     for i in r:\n",
    "#         input_txt = re.sub(i, '', input_txt)\n",
    "# \n",
    "#     return input_txt  \n",
    "# # remove twitter handles (@user)\n",
    "# text['tweets'] = np.vectorize(remove_pattern)(text['tweets'], \"@[\\w]*\")\n"
   ]
  },
  {
   "cell_type": "code",
   "execution_count": 4,
   "metadata": {
    "collapsed": true
   },
   "outputs": [
    {
     "name": "stderr",
     "output_type": "stream",
     "text": [
      "IOPub data rate exceeded.\n",
      "The notebook server will temporarily stop sending output\n",
      "to the client in order to avoid crashing it.\n",
      "To change this limit, set the config variable\n",
      "`--NotebookApp.iopub_data_rate_limit`.\n",
      "\n",
      "Current values:\n",
      "NotebookApp.iopub_data_rate_limit=1000000.0 (bytes/sec)\n",
      "NotebookApp.rate_limit_window=3.0 (secs)\n",
      "\n"
     ]
    }
   ],
   "source": [
    "print(text)\n",
    "# URLS=pd.DataFrame(URLs,columns=['id','url'])\n",
    "# print(URLS)"
   ]
  },
  {
   "cell_type": "code",
   "execution_count": 5,
   "metadata": {
    "collapsed": true
   },
   "outputs": [
    {
     "name": "stdout",
     "output_type": "stream",
     "text": [
      "88012\n",
      "88012\n"
     ]
    }
   ],
   "source": [
    "print(len(URLs))\n",
    "print(len(ids))"
   ]
  },
  {
   "cell_type": "code",
   "execution_count": 5,
   "metadata": {},
   "outputs": [
    {
     "ename": "ModuleNotFoundError",
     "evalue": "No module named 'requests'",
     "output_type": "error",
     "traceback": [
      "\u001b[1;31m---------------------------------------------------------------------------\u001b[0m",
      "\u001b[1;31mModuleNotFoundError\u001b[0m                       Traceback (most recent call last)",
      "\u001b[1;32m<ipython-input-5-4360949b98fe>\u001b[0m in \u001b[0;36m<module>\u001b[1;34m()\u001b[0m\n\u001b[0;32m      1\u001b[0m \u001b[1;32mfrom\u001b[0m \u001b[0mmultiprocessing\u001b[0m \u001b[1;32mimport\u001b[0m \u001b[0mPool\u001b[0m\u001b[1;33m\u001b[0m\u001b[0m\n\u001b[1;32m----> 2\u001b[1;33m \u001b[1;32mimport\u001b[0m \u001b[0mSpamDetection\u001b[0m\u001b[1;33m\u001b[0m\u001b[0m\n\u001b[0m\u001b[0;32m      3\u001b[0m \u001b[1;32mimport\u001b[0m \u001b[0mrequests\u001b[0m\u001b[1;33m\u001b[0m\u001b[0m\n\u001b[0;32m      4\u001b[0m \u001b[1;33m\u001b[0m\u001b[0m\n\u001b[0;32m      5\u001b[0m \u001b[1;33m\u001b[0m\u001b[0m\n",
      "\u001b[1;32md:\\study\\python\\Spamdetection\\SpamDetection.py\u001b[0m in \u001b[0;36m<module>\u001b[1;34m()\u001b[0m\n\u001b[0;32m      2\u001b[0m \u001b[1;32mimport\u001b[0m \u001b[0mpandas\u001b[0m \u001b[1;32mas\u001b[0m \u001b[0mpd\u001b[0m\u001b[1;33m\u001b[0m\u001b[0m\n\u001b[0;32m      3\u001b[0m \u001b[1;33m\u001b[0m\u001b[0m\n\u001b[1;32m----> 4\u001b[1;33m \u001b[1;32mimport\u001b[0m \u001b[0mrequests\u001b[0m\u001b[1;33m\u001b[0m\u001b[0m\n\u001b[0m\u001b[0;32m      5\u001b[0m \u001b[1;32mimport\u001b[0m \u001b[0murlexpander\u001b[0m\u001b[1;33m\u001b[0m\u001b[0m\n\u001b[0;32m      6\u001b[0m \u001b[1;32mimport\u001b[0m \u001b[0mmultiprocessing\u001b[0m\u001b[1;33m\u001b[0m\u001b[0m\n",
      "\u001b[1;31mModuleNotFoundError\u001b[0m: No module named 'requests'"
     ]
    }
   ],
   "source": [
    "from multiprocessing import Pool\n",
    "import SpamDetection \n",
    "import requests\n",
    " \n",
    "\n",
    "processor = 10\n",
    "result = []\n",
    "p = Pool(processor)\n",
    "count=0\n",
    "for i in range(processor):\n",
    "    count=count+1\n",
    "    url=p.apply_async(SpamDetection.run, args=(URLs, i, processor,))\n",
    "    print(str(i) + ' processor started !')\n",
    "    result.append(url)\n",
    "p.close()\n",
    "p.join()\n"
   ]
  },
  {
   "cell_type": "code",
   "execution_count": null,
   "metadata": {
    "collapsed": true
   },
   "outputs": [
    {
     "ename": "AttributeError",
     "evalue": "'str' object has no attribute 'apply'",
     "output_type": "error",
     "traceback": [
      "\u001b[1;31m---------------------------------------------------------------------------\u001b[0m",
      "\u001b[1;31mRemoteTraceback\u001b[0m                           Traceback (most recent call last)",
      "\u001b[1;31mRemoteTraceback\u001b[0m: \n\"\"\"\nTraceback (most recent call last):\n  File \"C:\\Users\\admin\\AppData\\Local\\Programs\\Python\\Python36\\lib\\multiprocessing\\pool.py\", line 119, in worker\n    result = (True, func(*args, **kwds))\n  File \"D:\\study\\python\\Spamdetection\\SpamDetection.py\", line 31, in run\n    i[1] = i[1].apply(FinalUrl)\nAttributeError: 'str' object has no attribute 'apply'\n\"\"\"",
      "\nThe above exception was the direct cause of the following exception:\n",
      "\u001b[1;31mAttributeError\u001b[0m                            Traceback (most recent call last)",
      "\u001b[1;32m<ipython-input-6-01c36ede475a>\u001b[0m in \u001b[0;36m<module>\u001b[1;34m\u001b[0m\n\u001b[0;32m      1\u001b[0m \u001b[1;32mfor\u001b[0m \u001b[0mi\u001b[0m \u001b[1;32min\u001b[0m \u001b[0mresult\u001b[0m\u001b[1;33m:\u001b[0m\u001b[1;33m\u001b[0m\u001b[0m\n\u001b[1;32m----> 2\u001b[1;33m     \u001b[0mprint\u001b[0m\u001b[1;33m(\u001b[0m\u001b[0mi\u001b[0m\u001b[1;33m.\u001b[0m\u001b[0mget\u001b[0m\u001b[1;33m(\u001b[0m\u001b[1;33m)\u001b[0m\u001b[1;33m)\u001b[0m\u001b[1;33m\u001b[0m\u001b[0m\n\u001b[0m",
      "\u001b[1;32m~\\AppData\\Local\\Programs\\Python\\Python36\\lib\\multiprocessing\\pool.py\u001b[0m in \u001b[0;36mget\u001b[1;34m(self, timeout)\u001b[0m\n\u001b[0;32m    642\u001b[0m             \u001b[1;32mreturn\u001b[0m \u001b[0mself\u001b[0m\u001b[1;33m.\u001b[0m\u001b[0m_value\u001b[0m\u001b[1;33m\u001b[0m\u001b[0m\n\u001b[0;32m    643\u001b[0m         \u001b[1;32melse\u001b[0m\u001b[1;33m:\u001b[0m\u001b[1;33m\u001b[0m\u001b[0m\n\u001b[1;32m--> 644\u001b[1;33m             \u001b[1;32mraise\u001b[0m \u001b[0mself\u001b[0m\u001b[1;33m.\u001b[0m\u001b[0m_value\u001b[0m\u001b[1;33m\u001b[0m\u001b[0m\n\u001b[0m\u001b[0;32m    645\u001b[0m \u001b[1;33m\u001b[0m\u001b[0m\n\u001b[0;32m    646\u001b[0m     \u001b[1;32mdef\u001b[0m \u001b[0m_set\u001b[0m\u001b[1;33m(\u001b[0m\u001b[0mself\u001b[0m\u001b[1;33m,\u001b[0m \u001b[0mi\u001b[0m\u001b[1;33m,\u001b[0m \u001b[0mobj\u001b[0m\u001b[1;33m)\u001b[0m\u001b[1;33m:\u001b[0m\u001b[1;33m\u001b[0m\u001b[0m\n",
      "\u001b[1;31mAttributeError\u001b[0m: 'str' object has no attribute 'apply'"
     ]
    }
   ],
   "source": [
    "len(result)"
   ]
  },
  {
   "cell_type": "code",
   "execution_count": null,
   "metadata": {},
   "outputs": [],
   "source": []
  }
 ],
 "metadata": {
  "kernelspec": {
   "display_name": "Python 3",
   "language": "python",
   "name": "python3"
  },
  "language_info": {
   "codemirror_mode": {
    "name": "ipython",
    "version": 3
   },
   "file_extension": ".py",
   "mimetype": "text/x-python",
   "name": "python",
   "nbconvert_exporter": "python",
   "pygments_lexer": "ipython3",
   "version": "3.6.3"
  }
 },
 "nbformat": 4,
 "nbformat_minor": 1
}
