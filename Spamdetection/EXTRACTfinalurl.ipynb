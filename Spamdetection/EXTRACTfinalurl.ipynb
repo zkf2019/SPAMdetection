{
 "cells": [
  {
   "cell_type": "code",
   "execution_count": 2,
   "metadata": {
    "collapsed": true
   },
   "outputs": [
    {
     "name": "stderr",
     "output_type": "stream",
     "text": [
      "D:\\study\\python\\venv\\lib\\site-packages\\IPython\\core\\interactiveshell.py:3049: DtypeWarning: Columns (0) have mixed types. Specify dtype option on import or set low_memory=False.\n  interactivity=interactivity, compiler=compiler, result=result)\n"
     ]
    }
   ],
   "source": [
    "import re\n",
    "import pandas as pd\n",
    "normal_ac=pd.read_csv('D:/study/Fake/genuine_accounts/users.csv')\n",
    "normal_tweet=pd.read_csv('D:/study/Fake/genuine_accounts/tweets.csv',\n",
    "                         encoding='utf-8')\n"
   ]
  },
  {
   "cell_type": "code",
   "execution_count": 3,
   "metadata": {},
   "outputs": [
    {
     "name": "stderr",
     "output_type": "stream",
     "text": [
      "D:\\study\\python\\venv\\lib\\site-packages\\IPython\\core\\interactiveshell.py:3049: DtypeWarning: Columns (10) have mixed types. Specify dtype option on import or set low_memory=False.\n  interactivity=interactivity, compiler=compiler, result=result)\n"
     ]
    },
    {
     "name": "stderr",
     "output_type": "stream",
     "text": [
      "D:\\study\\python\\venv\\lib\\site-packages\\IPython\\core\\interactiveshell.py:3049: DtypeWarning: Columns (7,10) have mixed types. Specify dtype option on import or set low_memory=False.\n  interactivity=interactivity, compiler=compiler, result=result)\n"
     ]
    }
   ],
   "source": [
    "spam_tweet1=pd.read_csv('D:/study/Fake/social_spambots_1/tweets.csv')\n",
    "spam_user1=pd.read_csv('D:/study/Fake/social_spambots_1/users.csv')\n",
    "spam_tweet2=pd.read_csv('D:/study/Fake/social_spambots_2/tweets.csv')\n",
    "spam_user2 = pd.read_csv('D:/study/Fake/social_spambots_2/users.csv')\n",
    "spam_tweet3=pd.read_csv('D:/study/Fake/social_spambots_3/tweets.csv')\n",
    "spam_user3= pd.read_csv('D:/study/Fake/social_spambots_3/users.csv')\n"
   ]
  },
  {
   "cell_type": "code",
   "execution_count": 4,
   "metadata": {
    "collapsed": true
   },
   "outputs": [],
   "source": [
    "spamtweet=pd.concat([spam_tweet1,spam_tweet2,spam_tweet3],axis=0)\n",
    "spamtweet=spamtweet[['id','text','user_id','num_hashtags',\n",
    "                           'num_mentions','num_urls']]\n",
    "spamtweet.dropna(axis=0,how='any',inplace=True)\n"
   ]
  },
  {
   "cell_type": "code",
   "execution_count": 7,
   "metadata": {
    "collapsed": true
   },
   "outputs": [
    {
     "name": "stdout",
     "output_type": "stream",
     "text": [
      "                   id                                               text  \\\n0  532627591686275072   I Pooh - In silenzio 1968 http://t.co/ahvQxUqTws   \n1  532624255058706432                             http://t.co/HyI5EQKz6Q   \n2  532513524460052480  Tutti a tavola, con il filetto di baccalà. htt...   \n3  532297646669852672                             http://t.co/NAHQ4l2pUy   \n4  532295960807100416       Gold - Spandau Ballet http://t.co/o8ZJHt7Neu   \n5  531892406275543040  Le grandi varianti regionali di un pesce chiam...   \n6  531892384221908992                             http://t.co/5zjKTwsLST   \n7  531564612995788800                             http://t.co/dNkWiNfA16   \n8  531205051705212928  Ruggero de I Timidi - Padre e Figlio (Video) h...   \n9  531204847358713857  Falco - Der Kommisar - Musica degli anni 80 ht...   \n\n    user_id  num_hashtags  num_mentions  num_urls                finalurl  \n0  24858289             0             0         1  http://t.co/ahvQxUqTws  \n1  24858289             0             0         1  http://t.co/HyI5EQKz6Q  \n2  24858289             0             0         1  http://t.co/aHHbFXJbIS  \n3  24858289             0             0         1  http://t.co/NAHQ4l2pUy  \n4  24858289             0             0         1  http://t.co/o8ZJHt7Neu  \n5  24858289             0             0         1  http://t.co/qTe0I9IzU5  \n6  24858289             0             0         1  http://t.co/5zjKTwsLST  \n7  24858289             0             0         1  http://t.co/dNkWiNfA16  \n8  24858289             0             0         1  http://t.co/riutWINwKZ  \n9  24858289             0             0         1  http://t.co/e6PkjXRdBz  \n"
     ]
    }
   ],
   "source": [
    "import  numpy as np\n",
    "p2 = re.compile(r'(?:http|ftp|https)://(?:[\\w_-]+(?:(?:\\.[\\w_-]+)+))'\n",
    "                r'(?:[\\w.,@?^=%&:/~+#-]*[\\w@?^=%&/~+#-])?')\n",
    "def findurl(text):\n",
    "    url=p2.findall(text)\n",
    "    if len(url)<1:\n",
    "        url=np.nan\n",
    "    else:\n",
    "        url=\",\".join(url)\n",
    "    return url\n",
    "def removeurl(text):\n",
    "    text=re.sub(p2,'',text)\n",
    "    return text\n",
    "spamtweet['finalurl']=spamtweet['text'].apply(findurl)\n",
    "spamtweet.dropna(inplace=True)\n",
    "print(spamtweet.head(10))"
   ]
  },
  {
   "cell_type": "code",
   "execution_count": 86,
   "metadata": {
    "collapsed": true
   },
   "outputs": [
    {
     "name": "stdout",
     "output_type": "stream",
     "text": [
      "                         id  \\\n374      510133890334593024   \n375      510133303526318080   \n590      498431291306803201   \n822      488319738209398784   \n1373     442405265594261504   \n2048     332191723579138049   \n2155     306821507865268224   \n2469     166238846986620928   \n2708     523065293829324801   \n2780     520587419062927361   \n3230     495217842266988546   \n4018     462869706081595392   \n4271     453078435007848448   \n4474     443794657483710464   \n4872     429924968835870720   \n5030     424996204666445824   \n5195     414683954210676736   \n5335     408990985428160513   \n5823     527911451428945920   \n5836     526446565062238208   \n6084     517676274072825857   \n6802     495570030310850561   \n6977     490415502380912641   \n7294     482873167875416065   \n7393     479342204473708544   \n7513     475912417319596032   \n7682     471145106914148353   \n7715     470616752460558336   \n7824     468302706147602432   \n7845     467987422500777985   \n...                     ...   \n1412711  515199390232088577   \n1412716  514837308848504832   \n1412725  514421537387327488   \n1412730  514059172208738304   \n1412748  512617279373451264   \n1412760  512043593826320386   \n1412773  511522685168656384   \n1412779  510488489646096384   \n1412784  510126039910350849   \n1412791  509461425346338816   \n1412793  509099109643714560   \n1412796  509038642548178944   \n1412803  507919871091695616   \n1413071  480051235681492992   \n1413177  469236468331061248   \n1413196  467394329057968128   \n1413265  458700744624181248   \n1413277  456532451787931648   \n1413279  455753241528381440   \n1413283  454684294041329665   \n1413311  451797365083893760   \n1413313  451742304144203776   \n1413332  448107315749584897   \n1417562  519506518287601664   \n1417568  518830377029632000   \n1417693  504491271927627777   \n1417716  503253635804184576   \n1417739  501864651077201920   \n1417758  501154936970039297   \n1418093  469490569967071232   \n\n                                                      text     user_id  \\\n374       http://t.co/iZNukamecZ... http://t.co/y2u9oBRFyw    24858289   \n375          http://t.co/C7885GEz4M http://t.co/d6c8aB16pD    24858289   \n590          http://t.co/mig5wf8f0h http://t.co/QyeE8vUVDA    24858289   \n822          http://t.co/lcD5vNGEkP http://t.co/N2oe3u9Nlw    24858289   \n1373         http://t.co/tMXIhuJpXo http://t.co/ws7CtJAf3G    24858289   \n2048         http://t.co/Ya8UNlNVSy http://t.co/wbBmtpP2k9    24858289   \n2155     Sono a Cavalcavia Pietro Bembo, Padova.  Guida...    24858289   \n2469     I'm using Viber to make free phone calls, and ...    24858289   \n2708     RT @DettoFattoRai2: Siamo pronti per la #video...    33212890   \n2780     RT @WEWomenForExpo: Alle 17.30 @vitaindiretta ...    33212890   \n3230     #beachwear #curvy in my blog http://t.co/ld1kQ...    33212890   \n4018     RT @LivingonAir1: Intervista a Elisa D'Ospina,...    33212890   \n4271     “@mujermagnolia: http://t.co/5oGr8A6mvA http:/...    33212890   \n4474     RT @GiuntiEditore: Ad aprile in libreria #unav...    33212890   \n4872     RT @GiornaleVicenza: VICENZA. Offerta shock di...    33212890   \n5030     RT @Sans_Retouches: Had the pleasure to interv...    33212890   \n5195     http://t.co/oEZkqAponO \"Dentro ai miei sogni o...    33212890   \n5335     My wishes for 2014: stop prejudice in fashion ...    33212890   \n5823     Banksy denies Banksy impostor's claim to http:...    39773427   \n5836     The legacy of http://t.co/MnFKeRReLa http://t....    39773427   \n6084     'If you're like #Madonna, then you're properly...    39773427   \n6802     Grasswire, un nuovo strumento di fact-checking...    39773427   \n6977     Impressions of Gaza Noam Chomsky http://t.co/o...    39773427   \n7294     RT @Mov5Stelle: Il messaggio di Di Battista pe...    39773427   \n7393     Mai visto niente di più facile dal convertitor...    39773427   \n7513     RT @Mov5Stelle: Livorno e Civitavecchia sono 5...    39773427   \n7682     Per iniziare la giornata prendo un caffè, per ...    39773427   \n7715     http://t.co/7PIH20JSzZ  [3262 accounts gov #Ne...    39773427   \n7824     RT @Mov5Stelle: Ragazzi, devo assolutamente da...    39773427   \n7845     12 Cool 35mm Film Cameras to Buy http://t.co/u...    39773427   \n...                                                    ...         ...   \n1412711  We believe in personal development; so we help...  2361494688   \n1412716  Corporate social responsibility in our busines...  2361494688   \n1412725  Home grown, global bound. #WeCare http://t.co/...  2361494688   \n1412730  Here's a peek into what the GK family is like:...  2361494688   \n1412748  We're at your finger tips. Only a click away :...  2361494688   \n1412760  We are here for you every step of the way :-)....  2361494688   \n1412773  We appreciate your feedback. Drop us a line vi...  2361494688   \n1412779  In everything we do you come first :-). Find o...  2361494688   \n1412784  We care about the future. Find out how: http:/...  2361494688   \n1412791  Service first: Service to you, service to our ...  2361494688   \n1412793  We are in your community and at you service. f...  2361494688   \n1412796  Today is being celebrated as international Lit...  2361494688   \n1412803  Check out new website for more on the GK Youth...  2361494688   \n1413071  We run for education. We run to change the wor...  2361494688   \n1413177  Should You Join LinkedIn's Expanded Influencer...  2361494688   \n1413196  Why Growing Your Business Through Franchising ...  2361494688   \n1413265  Dangers of Giving Your Home to Your Children -...  2361494688   \n1413277  STETHS hammer Vere for T20 title - Sport - htt...  2361494688   \n1413279  How to Make Great Decisions (Most of the Time)...  2361494688   \n1413283  Henry's ton leads Wolmer's to Twenty/20 win ov...  2361494688   \n1413311  RT@First_Global Open a bank account with FGB a...  2361494688   \n1413313  Eltham assume reins in Grace Shield final - Sp...  2361494688   \n1413332  STETHS revel in cricket triumph - Regional - h...  2361494688   \n1417562  We gotta hear this! @Z953VAN @Beat945 @Jimmy F...  2429405521   \n1417568  RT @Raptors: http://t.co/rpvd2PSOeZ previews t...  2429405521   \n1417693  RT @TD_Canada: Save in style! Shop at http://t...  2429405521   \n1417716  RT @MarriottBloor: Everything is #irie in #Mis...  2429405521   \n1417739  RT @TD_Canada: Shop at http://t.co/Zh6ZIb2tUB ...  2429405521   \n1417758  RT @kobebryant: Check the temp, Rovell. No bat...  2429405521   \n1418093  RT @BloombergNews: Obama has heard about the L...  2429405521   \n\n         num_hashtags  num_mentions  num_urls  \\\n374                 0             0         2   \n375                 0             0         2   \n590                 0             0         2   \n822                 0             0         2   \n1373                0             0         2   \n2048                0             0         2   \n2155                0             0         2   \n2469                0             0         2   \n2708                1             2         2   \n2780                1             5         2   \n3230                2             0         2   \n4018                0             1         2   \n4271                2             0         2   \n4474                1             2         2   \n4872                0             1         2   \n5030                1             1         2   \n5195                0             0         2   \n5335                0             0         2   \n5823                1             0         2   \n5836                0             0         2   \n6084                1             0         2   \n6802                0             0         2   \n6977                0             0         2   \n7294                0             1         2   \n7393                3             0         2   \n7513                0             1         2   \n7682                0             0         2   \n7715                2             0         2   \n7824                0             1         2   \n7845                0             0         2   \n...               ...           ...       ...   \n1412711             1             0         2   \n1412716             1             0         2   \n1412725             1             0         2   \n1412730             0             0         2   \n1412748             1             0         2   \n1412760             1             0         2   \n1412773             1             0         2   \n1412779             0             0         2   \n1412784             0             0         2   \n1412791             1             0         2   \n1412793             1             0         2   \n1412796             1             0         2   \n1412803             1             0         2   \n1413071             1             0         2   \n1413177             0             0         2   \n1413196             0             0         2   \n1413265             0             0         2   \n1413277             0             0         2   \n1413279             0             0         2   \n1413283             0             0         2   \n1413311             0             1         2   \n1413313             2             0         2   \n1413332             0             1         2   \n1417562             0             3         2   \n1417568             3             1         2   \n1417693             0             1         2   \n1417716             4             3         2   \n1417739             0             1         2   \n1417758             2             1         2   \n1418093             0             1         2   \n\n                                                  finalurl  \n374          http://t.co/iZNukamecZ-http://t.co/y2u9oBRFyw  \n375          http://t.co/C7885GEz4M-http://t.co/d6c8aB16pD  \n590          http://t.co/mig5wf8f0h-http://t.co/QyeE8vUVDA  \n822          http://t.co/lcD5vNGEkP-http://t.co/N2oe3u9Nlw  \n1373         http://t.co/tMXIhuJpXo-http://t.co/ws7CtJAf3G  \n2048         http://t.co/Ya8UNlNVSy-http://t.co/wbBmtpP2k9  \n2155         http://t.co/5I3XQ5hMQ7-http://t.co/DAo13pVIPb  \n2469             http://t.co/9uiaiLc6-http://t.co/uE9uQ2M7  \n2708               http://t.co/ksCmVxverW-http://t.co/Lxqz  \n2780         http://t.co/tIEc3zvJiv-http://t.co/mAH24UdGtY  \n3230         http://t.co/ld1kQehUW2-http://t.co/ExtOjXamoj  \n4018                                http://t.co/ol8cHFEII6  \n4271         http://t.co/5oGr8A6mvA-http://t.co/mlDVNF9HAi  \n4474                  http://t.co/ouWTafVOqf-http://t.co/W  \n4872         http://t.co/VRZalk0GUn-http://t.co/9N4iIy4boN  \n5030                                http://t.co/QfGwu9bezH  \n5195         http://t.co/oEZkqAponO-http://t.co/TA7iPUPc3F  \n5335         http://t.co/AyU9u9Qt9f-http://t.co/awMhxZ1xY3  \n5823         http://t.co/DywpLufO0P-http://t.co/usHrnaCicM  \n5836         http://t.co/MnFKeRReLa-http://t.co/xBBkf7Kn0v  \n6084         http://t.co/fBwoKkwHTV-http://t.co/aBZU3XJgpz  \n6802         http://t.co/MldfrBCIBQ-http://t.co/jPgdrU5XCU  \n6977         http://t.co/ogEGShIBfZ-http://t.co/7G5QBvaCMI  \n7294         http://t.co/c39KsQACid-http://t.co/SgAq4ANq38  \n7393         http://t.co/IaziTBBYde-http://t.co/q4QtifvnBq  \n7513                              http://t.co/48fvavQ6RXIn  \n7682         http://t.co/R6NQUBInVe-http://t.co/EYQMNpTTKr  \n7715        http://t.co/7PIH20JSzZ-https://t.co/Banb4ihsR5  \n7824                                http://t.co/yPHTSVdbdN  \n7845         http://t.co/u4VQVyfvQe-http://t.co/5Z05iunITQ  \n...                                                    ...  \n1412711      http://t.co/K6UubKmliY-http://t.co/Aj3jXhlHOJ  \n1412716      http://t.co/z1TviQE8Vz-http://t.co/735i1UGVcm  \n1412725      http://t.co/DJCKfsx5kr-http://t.co/GBWdxBcAdr  \n1412730      http://t.co/QIiCkp5csf-http://t.co/bQGzOFhHWx  \n1412748       http://t.co/CXfORdSyfHhttp://t.co/aLQgX9JDIO  \n1412760      http://t.co/qkz8xqHGmc-http://t.co/1z39JkkZiB  \n1412773      http://t.co/6KNgT4DZcg-http://t.co/Eh30ahH7So  \n1412779      http://t.co/MY71vAYLmp-http://t.co/GOMecy7PxH  \n1412784      http://t.co/jwpCLy1ZqM-http://t.co/M3fi2sYT0T  \n1412791      http://t.co/BRY2xzaoXL-http://t.co/QaA1Ch4Fj7  \n1412793      http://t.co/j06obfVigA-http://t.co/VkEA4syiCy  \n1412796      http://t.co/Tu7yCnp6Xi-http://t.co/X5WucuilI7  \n1412803      http://t.co/j06obfVigA-http://t.co/3gaFe9qNBx  \n1413071      http://t.co/b2jX9lrQ6H-http://t.co/TMCOuZyapy  \n1413177      http://t.co/HNOSFC1Qkq-http://t.co/wdCWJANHh2  \n1413196      http://t.co/HNOSFC1Qkq-http://t.co/rTnKDNGGrn  \n1413265      http://t.co/w9rY3RpLsZ-http://t.co/lJVM2XHizC  \n1413277      http://t.co/uPnf42NE7h-http://t.co/hq7XIQGLPJ  \n1413279      http://t.co/lqyKvJuHzS-http://t.co/097BT9d1dK  \n1413283      http://t.co/WEjLWMPT3n-http://t.co/QaWUJUevi6  \n1413311      http://t.co/4R3r5nAOSG-http://t.co/5RtFifNNZO  \n1413313      http://t.co/WEjLWMPT3n-http://t.co/JBOWAjpWru  \n1413332      http://t.co/uPnf42NE7h-http://t.co/hli0LO3fq2  \n1417562      http://t.co/VFJmTTqlZl-http://t.co/mhlXC0bqCo  \n1417568      http://t.co/rpvd2PSOeZ-http://t.co/1McqNVl5if  \n1417693            http://t.co/Zh6ZIb2tUB-http://t.co/Bide  \n1417716                 http://t.co/UWAu5HJJmZ-http://t.co  \n1417739      http://t.co/Zh6ZIb2tUB-http://t.co/Bide7Bkxuz  \n1417758                     http://t.co/806x6xRpx5https://  \n1418093  http://t.co/Wkq0Ifhzol-http://t.co/s6tmT50cWd-...  \n\n[4628 rows x 7 columns]"
     ]
    },
    {
     "name": "stdout",
     "output_type": "stream",
     "text": [
      "\n"
     ]
    }
   ],
   "source": [
    "print(spamtweet[spamtweet['num_urls']>1])"
   ]
  },
  {
   "cell_type": "code",
   "execution_count": 8,
   "metadata": {
    "collapsed": true
   },
   "outputs": [
    {
     "name": "stdout",
     "output_type": "stream",
     "text": [
      "                   id                                               text  \\\n0  532627591686275072   I Pooh - In silenzio 1968 http://t.co/ahvQxUqTws   \n1  532627591686275072   I Pooh - In silenzio 1968 http://t.co/ahvQxUqTws   \n2  532627591686275072   I Pooh - In silenzio 1968 http://t.co/ahvQxUqTws   \n3  532613365307547649   Mother daughter java time http://t.co/iPNFLGY2dA   \n4  532613365307547649   Mother daughter java time http://t.co/iPNFLGY2dA   \n5  532613365307547649   Mother daughter java time http://t.co/iPNFLGY2dA   \n6  532626057124651008  Am postat o fotografie nouă pe Facebook http:/...   \n7  532626057124651008  Am postat o fotografie nouă pe Facebook http:/...   \n8  532626057124651008  Am postat o fotografie nouă pe Facebook http:/...   \n9  532624255058706432                             http://t.co/HyI5EQKz6Q   \n\n    user_id  num_hashtags  num_mentions  num_urls                finalurl  \n0  24858289             0             0         1  http://t.co/ahvQxUqTws  \n1  24858289             0             0         1  http://t.co/iPNFLGY2dA  \n2  24858289             0             0         1  http://t.co/Pfbffeys8e  \n3  16195340             0             0         1  http://t.co/ahvQxUqTws  \n4  16195340             0             0         1  http://t.co/iPNFLGY2dA  \n5  16195340             0             0         1  http://t.co/Pfbffeys8e  \n6  16282004             0             0         1  http://t.co/ahvQxUqTws  \n7  16282004             0             0         1  http://t.co/iPNFLGY2dA  \n8  16282004             0             0         1  http://t.co/Pfbffeys8e  \n9  24858289             0             0         1  http://t.co/HyI5EQKz6Q  \n"
     ]
    }
   ],
   "source": [
    "spamtweet = spamtweet.drop('finalurl', axis=1).join(spamtweet['finalurl']\n",
    "                                                    .str.split(\",\", expand=True).stack()\n",
    "                                                    .reset_index(level=1, drop=True)\n",
    "                                                    .rename('finalurl'))\n",
    "spamtweet=spamtweet.reset_index(drop=True)\n",
    "print(spamtweet.head(10))\n"
   ]
  },
  {
   "cell_type": "code",
   "execution_count": 9,
   "metadata": {
    "collapsed": true
   },
   "outputs": [
    {
     "name": "stdout",
     "output_type": "stream",
     "text": [
      "912135\n"
     ]
    }
   ],
   "source": [
    "\n",
    "print(len(spamtweet))"
   ]
  },
  {
   "cell_type": "code",
   "execution_count": 2,
   "metadata": {
    "collapsed": true
   },
   "outputs": [
    {
     "name": "stdout",
     "output_type": "stream",
     "text": [
      "                    id                                               text  \\\n0   593932392663912449  RT @morningJewshow: Speaking about Jews and co...   \n1   593895316719423488  This age/face recognition thing..no reason pla...   \n2   593880638069018624  Only upside of the moment I can think of is th...   \n3   593847955536252928  If you're going to think about+create experien...   \n4   593847687847350272  Watching a thread on FB about possible future ...   \n5   593819412660101121                 Don't. Ok? https://t.co/uTXrJ6zvdN   \n6   593814612820119552  RT @SanFranciscoBA: #enoughsenough \"Surprise! ...   \n7   593750651449905152  RT @thepatrickwalsh: Kriss Kross once rapped \"...   \n8   593750427792867329  RT @TheAtlanticPOL: Watch Baltimore native @ta...   \n9   593742580774371329  @thelancearthur @hotdogsladies I didn't realiz...   \n10  593659318479687680  RT @sippey: Here's my one paragraph review of ...   \n11  593654865689124865  @wkamaubell I stand by you. I don't want men t...   \n12  593584377218473984                       @frogtosser Thank you Becca.   \n13  593579247110782976  @MMFlint I dont' ask for RTs gen, but my frien...   \n14  593578595370438657  Not only$ but acts+messages from people that s...   \n15  593578251722690560  To live with untreated PTSD is to feel like yo...   \n16  593578041936220160  @frakintosh is also a Columbine survivor. Mile...   \n17  593577845814796289  @frakintosh is old skool web. A good web citiz...   \n18  593577605615325184  One reason my life has gotten better is the su...   \n19  593573786374381569  RT @FINALLEVEL: Jon Stewart got it RIGHT again...   \n20  593564272917024768                                  @deray Thank you.   \n21  593556802517671936  RT @iamsakuma: Hundreds of people are in Union...   \n22  593538473732087808  \"Sexy. But crazy.\" I play with makeup for the ...   \n23  593538345298440193  \"Sexy. But crazy.\" I play with makeup for the ...   \n24  593538277749202944  \"Sexy. But crazy.\"  I play with makeup for the...   \n25  593505172678053888  @leadership_tech When will OTHS stop with the ...   \n26  593503983022440450  Infuriating to have the Oakland PD tell me the...   \n27  593503379332009986  The best part of heading to Toronto for a mont...   \n28  593503217167663105  Oakland Tech is once again got the stadium lev...   \n29  593468542932131841  The Seinfeld series is going to be on Huluhttp...   \n..                 ...                                                ...   \n70  592770605340094464  RT @dearsarah: @heathr similarly, though the m...   \n71  592770558019907584  the web I love MT @kenyatta   so @jah came to ...   \n72  592769122347409408  @dearsarah this reminds me of how people respo...   \n73  592768752019709953                       @burstofbeaden congrats Jon!   \n74  592748434035240961  One of my fave pages on the Net: @nytimes shor...   \n75  592735616556732416  @RippleCreekNW @sprawlgeek I disagree that tec...   \n76  592651950404960256  RT @JohnMaloney: Always a Fagen fan but his Co...   \n77  592465961350926336  Twitter doesn't have a good enough history re ...   \n78  592443144660078592  If you don't believe in hell, it's hard to fin...   \n79  592431418673729536  Really twitter? Who wrote this encapsulation o...   \n80  592429368854519808  @page88 interesting the way the world of capit...   \n81  592429132299960320  Great piece from @page88 on taking spiritualit...   \n82  592374376030277632  @Documentally the maintenance change is very a...   \n83  592193097041248256  @JenaFriedman I'm guessing hundreds to 1000 bu...   \n84  592163525549641729  RT @TheEconomist: American airlines' quality r...   \n85  592151359509565440  RT @larrybobsf: Sunday in #Berlin: Vaginal Dav...   \n86  592121116669317120  Picked up another spectacular middle-aged acco...   \n87  592066498316800000  @ElisaC @sprawlgeek privileging of corporate l...   \n88  592066306683248640  @ElisaC @sprawlgeek are we to do things togeth...   \n89  592066038910488576  @ElisaC @sprawlgeek I believe it's bigger and ...   \n90  592065792838995968  @ElisaC @sprawlgeek ...sustained value. Disman...   \n91  592065639948296192  @ElisaC @sprawlgeek I think a lot I the proble...   \n92  592020360989577216  @sarahgranger @ElisaC @dooce it's just what ma...   \n93  592019967949701120  @sprawlgeek @ElisaC @mylifeasaghost @RippleCre...   \n94  592019780153974784  @ElisaC I saw women do the same thing re: Holl...   \n95  592019587090108416  Oy vey. The price. “@ElisaC: @heathr Hey, I se...   \n96  592019482429689856                @RippleCreekNW thanks that's v kind   \n97  592015135872405504  @ElisaC the web felt clearly like it was about...   \n98  592014913658191876  @ElisaC that's really interesting.Early web ti...   \n99  592014517644570625  RT @ElisaC: @heathr Ah. See I was in more trad...   \n\n     user_id  num_hashtags  num_mentions  num_urls  \n0   678033.0           0.0           1.0       0.0  \n1   678033.0           0.0           0.0       0.0  \n2   678033.0           2.0           0.0       0.0  \n3   678033.0           2.0           0.0       0.0  \n4   678033.0           0.0           0.0       0.0  \n5   678033.0           0.0           0.0       1.0  \n6   678033.0           1.0           1.0       1.0  \n7   678033.0           0.0           1.0       0.0  \n8   678033.0           0.0           3.0       1.0  \n9   678033.0           0.0           2.0       0.0  \n10  678033.0           0.0           1.0       1.0  \n11  678033.0           0.0           1.0       0.0  \n12  678033.0           0.0           1.0       0.0  \n13  678033.0           0.0           2.0       1.0  \n14  678033.0           1.0           1.0       1.0  \n15  678033.0           1.0           0.0       1.0  \n16  678033.0           1.0           1.0       1.0  \n17  678033.0           0.0           2.0       1.0  \n18  678033.0           1.0           1.0       1.0  \n19  678033.0           2.0           1.0       1.0  \n20  678033.0           0.0           1.0       0.0  \n21  678033.0           1.0           1.0       0.0  \n22  678033.0           1.0           1.0       1.0  \n23  678033.0           1.0           0.0       1.0  \n24  678033.0           1.0           0.0       1.0  \n25  678033.0           0.0           1.0       0.0  \n26  678033.0           0.0           0.0       0.0  \n27  678033.0           0.0           1.0       0.0  \n28  678033.0           0.0           0.0       0.0  \n29  678033.0           1.0           0.0       1.0  \n..       ...           ...           ...       ...  \n70  678033.0           0.0           2.0       0.0  \n71  678033.0           0.0           2.0       1.0  \n72  678033.0           0.0           1.0       0.0  \n73  678033.0           0.0           1.0       0.0  \n74  678033.0           0.0           1.0       1.0  \n75  678033.0           0.0           2.0       0.0  \n76  678033.0           0.0           1.0       1.0  \n77  678033.0           0.0           2.0       0.0  \n78  678033.0           2.0           0.0       0.0  \n79  678033.0           0.0           4.0       0.0  \n80  678033.0           0.0           1.0       0.0  \n81  678033.0           0.0           1.0       1.0  \n82  678033.0           0.0           1.0       0.0  \n83  678033.0           0.0           1.0       0.0  \n84  678033.0           0.0           1.0       1.0  \n85  678033.0           1.0           1.0       2.0  \n86  678033.0           2.0           0.0       0.0  \n87  678033.0           0.0           2.0       0.0  \n88  678033.0           0.0           2.0       0.0  \n89  678033.0           0.0           2.0       0.0  \n90  678033.0           0.0           2.0       0.0  \n91  678033.0           0.0           2.0       0.0  \n92  678033.0           0.0           3.0       0.0  \n93  678033.0           0.0           4.0       0.0  \n94  678033.0           0.0           1.0       0.0  \n95  678033.0           1.0           2.0       0.0  \n96  678033.0           0.0           1.0       0.0  \n97  678033.0           0.0           2.0       0.0  \n98  678033.0           0.0           1.0       0.0  \n99  678033.0           0.0           2.0       0.0  \n\n[100 rows x 6 columns]\n"
     ]
    },
    {
     "name": "stderr",
     "output_type": "stream",
     "text": [
      "D:\\study\\python\\venv\\lib\\site-packages\\ipykernel_launcher.py:3: SettingWithCopyWarning: \nA value is trying to be set on a copy of a slice from a DataFrame\n\nSee the caveats in the documentation: http://pandas.pydata.org/pandas-docs/stable/indexing.html#indexing-view-versus-copy\n  This is separate from the ipykernel package so we can avoid doing imports until\n"
     ]
    }
   ],
   "source": [
    "normaltweet=normal_tweet[['id','text','user_id','num_hashtags',\n",
    "                           'num_mentions','num_urls']]\n",
    "normaltweet.dropna(axis=0,how='any',inplace=True)\n",
    "print(normaltweet.head(100))"
   ]
  },
  {
   "cell_type": "code",
   "execution_count": 4,
   "metadata": {
    "collapsed": true
   },
   "outputs": [
    {
     "name": "stdout",
     "output_type": "stream",
     "text": [
      "                    id                                               text  \\\n0   593932392663912449  RT @morningJewshow: Speaking about Jews and co...   \n1   593895316719423488  This age/face recognition thing..no reason pla...   \n2   593880638069018624  Only upside of the moment I can think of is th...   \n3   593847955536252928  If you're going to think about+create experien...   \n4   593847687847350272  Watching a thread on FB about possible future ...   \n5   593819412660101121                 Don't. Ok? https://t.co/uTXrJ6zvdN   \n6   593814612820119552  RT @SanFranciscoBA: #enoughsenough \"Surprise! ...   \n7   593750651449905152  RT @thepatrickwalsh: Kriss Kross once rapped \"...   \n8   593750427792867329  RT @TheAtlanticPOL: Watch Baltimore native @ta...   \n9   593742580774371329  @thelancearthur @hotdogsladies I didn't realiz...   \n10  593659318479687680  RT @sippey: Here's my one paragraph review of ...   \n11  593654865689124865  @wkamaubell I stand by you. I don't want men t...   \n12  593584377218473984                       @frogtosser Thank you Becca.   \n13  593579247110782976  @MMFlint I dont' ask for RTs gen, but my frien...   \n14  593578595370438657  Not only$ but acts+messages from people that s...   \n15  593578251722690560  To live with untreated PTSD is to feel like yo...   \n16  593578041936220160  @frakintosh is also a Columbine survivor. Mile...   \n17  593577845814796289  @frakintosh is old skool web. A good web citiz...   \n18  593577605615325184  One reason my life has gotten better is the su...   \n19  593573786374381569  RT @FINALLEVEL: Jon Stewart got it RIGHT again...   \n20  593564272917024768                                  @deray Thank you.   \n21  593556802517671936  RT @iamsakuma: Hundreds of people are in Union...   \n22  593538473732087808  \"Sexy. But crazy.\" I play with makeup for the ...   \n23  593538345298440193  \"Sexy. But crazy.\" I play with makeup for the ...   \n24  593538277749202944  \"Sexy. But crazy.\"  I play with makeup for the...   \n25  593505172678053888  @leadership_tech When will OTHS stop with the ...   \n26  593503983022440450  Infuriating to have the Oakland PD tell me the...   \n27  593503379332009986  The best part of heading to Toronto for a mont...   \n28  593503217167663105  Oakland Tech is once again got the stadium lev...   \n29  593468542932131841  The Seinfeld series is going to be on Huluhttp...   \n..                 ...                                                ...   \n70  592770605340094464  RT @dearsarah: @heathr similarly, though the m...   \n71  592770558019907584  the web I love MT @kenyatta   so @jah came to ...   \n72  592769122347409408  @dearsarah this reminds me of how people respo...   \n73  592768752019709953                       @burstofbeaden congrats Jon!   \n74  592748434035240961  One of my fave pages on the Net: @nytimes shor...   \n75  592735616556732416  @RippleCreekNW @sprawlgeek I disagree that tec...   \n76  592651950404960256  RT @JohnMaloney: Always a Fagen fan but his Co...   \n77  592465961350926336  Twitter doesn't have a good enough history re ...   \n78  592443144660078592  If you don't believe in hell, it's hard to fin...   \n79  592431418673729536  Really twitter? Who wrote this encapsulation o...   \n80  592429368854519808  @page88 interesting the way the world of capit...   \n81  592429132299960320  Great piece from @page88 on taking spiritualit...   \n82  592374376030277632  @Documentally the maintenance change is very a...   \n83  592193097041248256  @JenaFriedman I'm guessing hundreds to 1000 bu...   \n84  592163525549641729  RT @TheEconomist: American airlines' quality r...   \n85  592151359509565440  RT @larrybobsf: Sunday in #Berlin: Vaginal Dav...   \n86  592121116669317120  Picked up another spectacular middle-aged acco...   \n87  592066498316800000  @ElisaC @sprawlgeek privileging of corporate l...   \n88  592066306683248640  @ElisaC @sprawlgeek are we to do things togeth...   \n89  592066038910488576  @ElisaC @sprawlgeek I believe it's bigger and ...   \n90  592065792838995968  @ElisaC @sprawlgeek ...sustained value. Disman...   \n91  592065639948296192  @ElisaC @sprawlgeek I think a lot I the proble...   \n92  592020360989577216  @sarahgranger @ElisaC @dooce it's just what ma...   \n93  592019967949701120  @sprawlgeek @ElisaC @mylifeasaghost @RippleCre...   \n94  592019780153974784  @ElisaC I saw women do the same thing re: Holl...   \n95  592019587090108416  Oy vey. The price. “@ElisaC: @heathr Hey, I se...   \n96  592019482429689856                @RippleCreekNW thanks that's v kind   \n97  592015135872405504  @ElisaC the web felt clearly like it was about...   \n98  592014913658191876  @ElisaC that's really interesting.Early web ti...   \n99  592014517644570625  RT @ElisaC: @heathr Ah. See I was in more trad...   \n\n     user_id  num_hashtags  num_mentions  num_urls  \n0   678033.0           0.0           1.0       0.0  \n1   678033.0           0.0           0.0       0.0  \n2   678033.0           2.0           0.0       0.0  \n3   678033.0           2.0           0.0       0.0  \n4   678033.0           0.0           0.0       0.0  \n5   678033.0           0.0           0.0       1.0  \n6   678033.0           1.0           1.0       1.0  \n7   678033.0           0.0           1.0       0.0  \n8   678033.0           0.0           3.0       1.0  \n9   678033.0           0.0           2.0       0.0  \n10  678033.0           0.0           1.0       1.0  \n11  678033.0           0.0           1.0       0.0  \n12  678033.0           0.0           1.0       0.0  \n13  678033.0           0.0           2.0       1.0  \n14  678033.0           1.0           1.0       1.0  \n15  678033.0           1.0           0.0       1.0  \n16  678033.0           1.0           1.0       1.0  \n17  678033.0           0.0           2.0       1.0  \n18  678033.0           1.0           1.0       1.0  \n19  678033.0           2.0           1.0       1.0  \n20  678033.0           0.0           1.0       0.0  \n21  678033.0           1.0           1.0       0.0  \n22  678033.0           1.0           1.0       1.0  \n23  678033.0           1.0           0.0       1.0  \n24  678033.0           1.0           0.0       1.0  \n25  678033.0           0.0           1.0       0.0  \n26  678033.0           0.0           0.0       0.0  \n27  678033.0           0.0           1.0       0.0  \n28  678033.0           0.0           0.0       0.0  \n29  678033.0           1.0           0.0       1.0  \n..       ...           ...           ...       ...  \n70  678033.0           0.0           2.0       0.0  \n71  678033.0           0.0           2.0       1.0  \n72  678033.0           0.0           1.0       0.0  \n73  678033.0           0.0           1.0       0.0  \n74  678033.0           0.0           1.0       1.0  \n75  678033.0           0.0           2.0       0.0  \n76  678033.0           0.0           1.0       1.0  \n77  678033.0           0.0           2.0       0.0  \n78  678033.0           2.0           0.0       0.0  \n79  678033.0           0.0           4.0       0.0  \n80  678033.0           0.0           1.0       0.0  \n81  678033.0           0.0           1.0       1.0  \n82  678033.0           0.0           1.0       0.0  \n83  678033.0           0.0           1.0       0.0  \n84  678033.0           0.0           1.0       1.0  \n85  678033.0           1.0           1.0       2.0  \n86  678033.0           2.0           0.0       0.0  \n87  678033.0           0.0           2.0       0.0  \n88  678033.0           0.0           2.0       0.0  \n89  678033.0           0.0           2.0       0.0  \n90  678033.0           0.0           2.0       0.0  \n91  678033.0           0.0           2.0       0.0  \n92  678033.0           0.0           3.0       0.0  \n93  678033.0           0.0           4.0       0.0  \n94  678033.0           0.0           1.0       0.0  \n95  678033.0           1.0           2.0       0.0  \n96  678033.0           0.0           1.0       0.0  \n97  678033.0           0.0           2.0       0.0  \n98  678033.0           0.0           1.0       0.0  \n99  678033.0           0.0           2.0       0.0  \n\n[100 rows x 6 columns]\n"
     ]
    }
   ],
   "source": [
    "len(normal_ac)\n",
    "print(normaltweet.head(100))"
   ]
  },
  {
   "cell_type": "code",
   "execution_count": 4,
   "metadata": {
    "collapsed": true
   },
   "outputs": [
    {
     "ename": "NameError",
     "evalue": "name 'nltk' is not defined",
     "traceback": [
      "\u001b[1;31m---------------------------------------------------------------------------\u001b[0m",
      "\u001b[1;31mNameError\u001b[0m                                 Traceback (most recent call last)",
      "\u001b[1;32m<ipython-input-4-6e230a00a763>\u001b[0m in \u001b[0;36m<module>\u001b[1;34m\u001b[0m\n\u001b[1;32m----> 1\u001b[1;33m \u001b[0mnltk\u001b[0m\u001b[1;33m.\u001b[0m\u001b[0mdownload\u001b[0m\u001b[1;33m(\u001b[0m\u001b[1;33m)\u001b[0m\u001b[1;33m\u001b[0m\u001b[0m\n\u001b[0m",
      "\u001b[1;31mNameError\u001b[0m: name 'nltk' is not defined"
     ],
     "output_type": "error"
    }
   ],
   "source": [
    "nltk.download()"
   ]
  },
  {
   "cell_type": "code",
   "execution_count": 5,
   "metadata": {
    "collapsed": true
   },
   "outputs": [
    {
     "name": "stdout",
     "output_type": "stream",
     "text": [
      "2826790\n"
     ]
    }
   ],
   "source": [
    "\n",
    "import numpy as np\n",
    "import re\n",
    "# # test=text[5]\n",
    "# # print(text)\n",
    "p2 = re.compile(r'(?:http|ftp|https)://(?:[\\w_-]+(?:(?:\\.[\\w_-]+)+))'\n",
    "                r'(?:[\\w.,@?^=%&:/~+#-]*[\\w@?^=%&/~+#-])?')\n",
    "\n",
    "         \n",
    "normaltweet['finalurl']=normaltweet['text'].apply(findurl)\n",
    "# normal_tweet['text']=normal_tweet['text'].apply(removeurl)  \n",
    "print(len(normaltweet))\n",
    "\n"
   ]
  },
  {
   "cell_type": "code",
   "execution_count": 8,
   "metadata": {
    "collapsed": true
   },
   "outputs": [
    {
     "name": "stdout",
     "output_type": "stream",
     "text": [
      "729725\n"
     ]
    }
   ],
   "source": [
    "normaltweet.dropna(inplace=True)\n",
    "# print(normaltweet['finalurl'].head(100))\n",
    "print(len(normaltweet))\n"
   ]
  },
  {
   "cell_type": "code",
   "execution_count": 7,
   "metadata": {
    "collapsed": true
   },
   "outputs": [
    {
     "name": "stdout",
     "output_type": "stream",
     "text": [
      "5             https://t.co/uTXrJ6zvdN\n6                         http://t.co\n10            https://t.co/vUcQgXQJEG\n13             http://t.co/SRbhQ3nweH\n14             http://t.co/SRbhQ3nweH\n15          http://t.co/SRbhQ3nweH#fb\n16          http://t.co/SRbhQ3nweH#fb\n17             http://t.co/SRbhQ3nweH\n18          http://t.co/SRbhQ3nweH#fb\n21             http://t.co/r3x5wzEm8J\n22            https://t.co/TF59QK1dmY\n23             http://t.co/zOypKmH5X0\n24             http://t.co/3GEVM4MuSr\n29          http://t.co/YMq9svLI9S#fb\n31            https://t.co/gPmlFysl7X\n35             http://t.co/PS4IsIjBsL\n36                         http://t.c\n37             http://t.co/BQpAghMGqV\n37               http://t.co/VMnJdVr1\n39            https://t.co/R3AhCLW7qy\n40             http://t.co/2xdobenYtf\n40             http://t.co/EeoXqLGJ2E\n44               http://t.co/qObW6uTX\n45            https://t.co/lCtOvC7Tek\n46             http://t.co/sTakTJVgSG\n59             http://t.co/tla2MOGccF\n60             http://t.co/qCkMHLRFky\n61             http://t.co/oN60Ls9J5I\n71             http://t.co/A9ywbHhoSa\n74             http://t.co/VCkjkZ2Dsd\n                    ...              \n217         http://t.co/5D9rAMv8Ah#fb\n218           https://t.co/NU7MZFJEbf\n219           https://t.co/rAHQiLrHTn\n227        https://t.co/rAHQiLrHTn#fb\n229           https://t.co/QyrAPJ0Xwj\n230            http://t.co/RvW2d7Cg7W\n231            http://t.co/U1ITHz7khM\n233           https://t.co/FrryDl8xLy\n241            http://t.co/SqjaCtW65u\n245         http://t.co/dNmJucQaqx#fb\n246           https://t.co/DAqr9gcQPs\n249           https://t.co/inpCGklb1l\n250           https://t.co/OwYS9Oj1kJ\n251                https://t.co/jxRj7\n252            http://t.co/2bqlJZGXPy\n253            http://t.co/V6yQjS7BvF\n254           https://t.co/hf4SbzFiAR\n256                   http://t.co/XnZ\n257    https://t.co/itjoshogETAuction\n257            http://t.co/C64Tka7VmN\n258        https://t.co/xK4PHtMsSf#fb\n259                 http://t.co/7i17z\n261         http://t.co/O0MOdZ7V68#fb\n262                http://t.co/YLY6b8\n265           https://t.co/xcGznyIkng\n267           https://t.co/tiAyGQJcJ3\n268            http://t.co/iyBX8dGl8A\n270            http://t.co/yZpFiJK7Aq\n271            http://t.co/iDg6aqBXkh\n277            http://t.co/newk7RXNxx\nName: finalurl, Length: 100, dtype: object\n"
     ]
    }
   ],
   "source": [
    "normaltweet=normaltweet.drop('finalurl',axis=1).join(normaltweet['finalurl'].str.split(\"-\", expand=True).stack()\n",
    "                                         .reset_index(level=1, drop=True).rename('finalurl'))\n",
    "print(normaltweet['finalurl'].head(100))\n"
   ]
  },
  {
   "cell_type": "code",
   "execution_count": 12,
   "metadata": {},
   "outputs": [
    {
     "name": "stdout",
     "output_type": "stream",
     "text": [
      "22804"
     ]
    },
    {
     "name": "stdout",
     "output_type": "stream",
     "text": [
      "\n"
     ]
    },
    {
     "name": "stdout",
     "output_type": "stream",
     "text": [
      "22804"
     ]
    },
    {
     "name": "stdout",
     "output_type": "stream",
     "text": [
      "\n"
     ]
    },
    {
     "name": "stdout",
     "output_type": "stream",
     "text": [
      "22804"
     ]
    },
    {
     "name": "stdout",
     "output_type": "stream",
     "text": [
      "\n"
     ]
    },
    {
     "name": "stdout",
     "output_type": "stream",
     "text": [
      "22804"
     ]
    },
    {
     "name": "stdout",
     "output_type": "stream",
     "text": [
      "\n"
     ]
    },
    {
     "name": "stdout",
     "output_type": "stream",
     "text": [
      "22804"
     ]
    },
    {
     "name": "stdout",
     "output_type": "stream",
     "text": [
      "\n"
     ]
    },
    {
     "name": "stdout",
     "output_type": "stream",
     "text": [
      "22804"
     ]
    },
    {
     "name": "stdout",
     "output_type": "stream",
     "text": [
      "\n"
     ]
    },
    {
     "name": "stdout",
     "output_type": "stream",
     "text": [
      "22804"
     ]
    },
    {
     "name": "stdout",
     "output_type": "stream",
     "text": [
      "\n"
     ]
    },
    {
     "name": "stdout",
     "output_type": "stream",
     "text": [
      "22804"
     ]
    },
    {
     "name": "stdout",
     "output_type": "stream",
     "text": [
      "\n"
     ]
    },
    {
     "name": "stdout",
     "output_type": "stream",
     "text": [
      "22804"
     ]
    },
    {
     "name": "stdout",
     "output_type": "stream",
     "text": [
      "\n"
     ]
    },
    {
     "name": "stdout",
     "output_type": "stream",
     "text": [
      "22804"
     ]
    },
    {
     "name": "stdout",
     "output_type": "stream",
     "text": [
      "\n"
     ]
    },
    {
     "name": "stdout",
     "output_type": "stream",
     "text": [
      "22804"
     ]
    },
    {
     "name": "stdout",
     "output_type": "stream",
     "text": [
      "\n"
     ]
    },
    {
     "name": "stdout",
     "output_type": "stream",
     "text": [
      "22804"
     ]
    },
    {
     "name": "stdout",
     "output_type": "stream",
     "text": [
      "\n"
     ]
    },
    {
     "name": "stdout",
     "output_type": "stream",
     "text": [
      "22804"
     ]
    },
    {
     "name": "stdout",
     "output_type": "stream",
     "text": [
      "\n"
     ]
    },
    {
     "name": "stdout",
     "output_type": "stream",
     "text": [
      "22804"
     ]
    },
    {
     "name": "stdout",
     "output_type": "stream",
     "text": [
      "\n"
     ]
    },
    {
     "name": "stdout",
     "output_type": "stream",
     "text": [
      "22804"
     ]
    },
    {
     "name": "stdout",
     "output_type": "stream",
     "text": [
      "\n"
     ]
    },
    {
     "name": "stdout",
     "output_type": "stream",
     "text": [
      "22804"
     ]
    },
    {
     "name": "stdout",
     "output_type": "stream",
     "text": [
      "\n"
     ]
    },
    {
     "name": "stdout",
     "output_type": "stream",
     "text": [
      "22804"
     ]
    },
    {
     "name": "stdout",
     "output_type": "stream",
     "text": [
      "\n"
     ]
    },
    {
     "name": "stdout",
     "output_type": "stream",
     "text": [
      "22804"
     ]
    },
    {
     "name": "stdout",
     "output_type": "stream",
     "text": [
      "\n"
     ]
    },
    {
     "name": "stdout",
     "output_type": "stream",
     "text": [
      "22804"
     ]
    },
    {
     "name": "stdout",
     "output_type": "stream",
     "text": [
      "\n"
     ]
    },
    {
     "name": "stdout",
     "output_type": "stream",
     "text": [
      "22804"
     ]
    },
    {
     "name": "stdout",
     "output_type": "stream",
     "text": [
      "\n"
     ]
    },
    {
     "name": "stdout",
     "output_type": "stream",
     "text": [
      "22804"
     ]
    },
    {
     "name": "stdout",
     "output_type": "stream",
     "text": [
      "\n"
     ]
    },
    {
     "name": "stdout",
     "output_type": "stream",
     "text": [
      "22804"
     ]
    },
    {
     "name": "stdout",
     "output_type": "stream",
     "text": [
      "\n"
     ]
    },
    {
     "name": "stdout",
     "output_type": "stream",
     "text": [
      "22804"
     ]
    },
    {
     "name": "stdout",
     "output_type": "stream",
     "text": [
      "\n"
     ]
    },
    {
     "name": "stdout",
     "output_type": "stream",
     "text": [
      "22804"
     ]
    },
    {
     "name": "stdout",
     "output_type": "stream",
     "text": [
      "\n"
     ]
    },
    {
     "name": "stdout",
     "output_type": "stream",
     "text": [
      "22804"
     ]
    },
    {
     "name": "stdout",
     "output_type": "stream",
     "text": [
      "\n"
     ]
    },
    {
     "name": "stdout",
     "output_type": "stream",
     "text": [
      "22804"
     ]
    },
    {
     "name": "stdout",
     "output_type": "stream",
     "text": [
      "\n"
     ]
    },
    {
     "name": "stdout",
     "output_type": "stream",
     "text": [
      "22804"
     ]
    },
    {
     "name": "stdout",
     "output_type": "stream",
     "text": [
      "\n"
     ]
    },
    {
     "name": "stdout",
     "output_type": "stream",
     "text": [
      "22804"
     ]
    },
    {
     "name": "stdout",
     "output_type": "stream",
     "text": [
      "\n"
     ]
    },
    {
     "name": "stdout",
     "output_type": "stream",
     "text": [
      "22804"
     ]
    },
    {
     "name": "stdout",
     "output_type": "stream",
     "text": [
      "\n"
     ]
    },
    {
     "name": "stdout",
     "output_type": "stream",
     "text": [
      "22804"
     ]
    },
    {
     "name": "stdout",
     "output_type": "stream",
     "text": [
      "\n"
     ]
    },
    {
     "name": "stdout",
     "output_type": "stream",
     "text": [
      "22804"
     ]
    },
    {
     "name": "stdout",
     "output_type": "stream",
     "text": [
      "\n"
     ]
    },
    {
     "name": "stdout",
     "output_type": "stream",
     "text": [
      "22804"
     ]
    },
    {
     "name": "stdout",
     "output_type": "stream",
     "text": [
      "\n"
     ]
    },
    {
     "name": "stdout",
     "output_type": "stream",
     "text": [
      "22804"
     ]
    },
    {
     "name": "stdout",
     "output_type": "stream",
     "text": [
      "\n"
     ]
    },
    {
     "name": "stdout",
     "output_type": "stream",
     "text": [
      "22804"
     ]
    },
    {
     "name": "stdout",
     "output_type": "stream",
     "text": [
      "\n"
     ]
    },
    {
     "name": "stdout",
     "output_type": "stream",
     "text": [
      "22804"
     ]
    },
    {
     "name": "stdout",
     "output_type": "stream",
     "text": [
      "\n"
     ]
    },
    {
     "name": "stdout",
     "output_type": "stream",
     "text": [
      "22804"
     ]
    },
    {
     "name": "stdout",
     "output_type": "stream",
     "text": [
      "\n"
     ]
    },
    {
     "name": "stdout",
     "output_type": "stream",
     "text": [
      "22804"
     ]
    },
    {
     "name": "stdout",
     "output_type": "stream",
     "text": [
      "\n"
     ]
    },
    {
     "name": "stdout",
     "output_type": "stream",
     "text": [
      "22804"
     ]
    },
    {
     "name": "stdout",
     "output_type": "stream",
     "text": [
      "\n"
     ]
    },
    {
     "name": "stdout",
     "output_type": "stream",
     "text": [
      "22804"
     ]
    },
    {
     "name": "stdout",
     "output_type": "stream",
     "text": [
      "\n"
     ]
    },
    {
     "name": "stdout",
     "output_type": "stream",
     "text": [
      "22779"
     ]
    },
    {
     "name": "stdout",
     "output_type": "stream",
     "text": [
      "\n"
     ]
    },
    {
     "name": "stdout",
     "output_type": "stream",
     "text": [
      "0 processor started !"
     ]
    },
    {
     "name": "stdout",
     "output_type": "stream",
     "text": [
      "\n"
     ]
    },
    {
     "name": "stdout",
     "output_type": "stream",
     "text": [
      "1 processor started !"
     ]
    },
    {
     "name": "stdout",
     "output_type": "stream",
     "text": [
      "\n"
     ]
    },
    {
     "name": "stdout",
     "output_type": "stream",
     "text": [
      "2 processor started !"
     ]
    },
    {
     "name": "stdout",
     "output_type": "stream",
     "text": [
      "\n"
     ]
    },
    {
     "name": "stdout",
     "output_type": "stream",
     "text": [
      "3 processor started !"
     ]
    },
    {
     "name": "stdout",
     "output_type": "stream",
     "text": [
      "\n"
     ]
    },
    {
     "name": "stdout",
     "output_type": "stream",
     "text": [
      "4 processor started !"
     ]
    },
    {
     "name": "stdout",
     "output_type": "stream",
     "text": [
      "\n"
     ]
    },
    {
     "name": "stdout",
     "output_type": "stream",
     "text": [
      "5 processor started !"
     ]
    },
    {
     "name": "stdout",
     "output_type": "stream",
     "text": [
      "\n"
     ]
    },
    {
     "name": "stdout",
     "output_type": "stream",
     "text": [
      "6 processor started !"
     ]
    },
    {
     "name": "stdout",
     "output_type": "stream",
     "text": [
      "\n"
     ]
    },
    {
     "name": "stdout",
     "output_type": "stream",
     "text": [
      "7 processor started !"
     ]
    },
    {
     "name": "stdout",
     "output_type": "stream",
     "text": [
      "\n"
     ]
    },
    {
     "name": "stdout",
     "output_type": "stream",
     "text": [
      "8 processor started !"
     ]
    },
    {
     "name": "stdout",
     "output_type": "stream",
     "text": [
      "\n"
     ]
    },
    {
     "name": "stdout",
     "output_type": "stream",
     "text": [
      "9 processor started !"
     ]
    },
    {
     "name": "stdout",
     "output_type": "stream",
     "text": [
      "\n"
     ]
    },
    {
     "name": "stdout",
     "output_type": "stream",
     "text": [
      "10 processor started !"
     ]
    },
    {
     "name": "stdout",
     "output_type": "stream",
     "text": [
      "\n"
     ]
    },
    {
     "name": "stdout",
     "output_type": "stream",
     "text": [
      "11 processor started !"
     ]
    },
    {
     "name": "stdout",
     "output_type": "stream",
     "text": [
      "\n"
     ]
    },
    {
     "name": "stdout",
     "output_type": "stream",
     "text": [
      "12 processor started !"
     ]
    },
    {
     "name": "stdout",
     "output_type": "stream",
     "text": [
      "\n"
     ]
    },
    {
     "name": "stdout",
     "output_type": "stream",
     "text": [
      "13 processor started !"
     ]
    },
    {
     "name": "stdout",
     "output_type": "stream",
     "text": [
      "\n"
     ]
    },
    {
     "name": "stdout",
     "output_type": "stream",
     "text": [
      "14 processor started !"
     ]
    },
    {
     "name": "stdout",
     "output_type": "stream",
     "text": [
      "\n"
     ]
    },
    {
     "name": "stdout",
     "output_type": "stream",
     "text": [
      "15 processor started !"
     ]
    },
    {
     "name": "stdout",
     "output_type": "stream",
     "text": [
      "\n"
     ]
    },
    {
     "name": "stdout",
     "output_type": "stream",
     "text": [
      "16 processor started !"
     ]
    },
    {
     "name": "stdout",
     "output_type": "stream",
     "text": [
      "\n"
     ]
    },
    {
     "name": "stdout",
     "output_type": "stream",
     "text": [
      "17 processor started !"
     ]
    },
    {
     "name": "stdout",
     "output_type": "stream",
     "text": [
      "\n"
     ]
    },
    {
     "name": "stdout",
     "output_type": "stream",
     "text": [
      "18 processor started !"
     ]
    },
    {
     "name": "stdout",
     "output_type": "stream",
     "text": [
      "\n"
     ]
    },
    {
     "name": "stdout",
     "output_type": "stream",
     "text": [
      "19 processor started !"
     ]
    },
    {
     "name": "stdout",
     "output_type": "stream",
     "text": [
      "\n"
     ]
    },
    {
     "name": "stdout",
     "output_type": "stream",
     "text": [
      "20 processor started !"
     ]
    },
    {
     "name": "stdout",
     "output_type": "stream",
     "text": [
      "\n"
     ]
    },
    {
     "name": "stdout",
     "output_type": "stream",
     "text": [
      "21 processor started !"
     ]
    },
    {
     "name": "stdout",
     "output_type": "stream",
     "text": [
      "\n"
     ]
    },
    {
     "name": "stdout",
     "output_type": "stream",
     "text": [
      "22 processor started !"
     ]
    },
    {
     "name": "stdout",
     "output_type": "stream",
     "text": [
      "\n"
     ]
    },
    {
     "name": "stdout",
     "output_type": "stream",
     "text": [
      "23 processor started !"
     ]
    },
    {
     "name": "stdout",
     "output_type": "stream",
     "text": [
      "\n"
     ]
    },
    {
     "name": "stdout",
     "output_type": "stream",
     "text": [
      "24 processor started !"
     ]
    },
    {
     "name": "stdout",
     "output_type": "stream",
     "text": [
      "\n"
     ]
    },
    {
     "name": "stdout",
     "output_type": "stream",
     "text": [
      "25 processor started !"
     ]
    },
    {
     "name": "stdout",
     "output_type": "stream",
     "text": [
      "\n"
     ]
    },
    {
     "name": "stdout",
     "output_type": "stream",
     "text": [
      "26 processor started !"
     ]
    },
    {
     "name": "stdout",
     "output_type": "stream",
     "text": [
      "\n"
     ]
    },
    {
     "name": "stdout",
     "output_type": "stream",
     "text": [
      "27 processor started !"
     ]
    },
    {
     "name": "stdout",
     "output_type": "stream",
     "text": [
      "\n"
     ]
    },
    {
     "name": "stdout",
     "output_type": "stream",
     "text": [
      "28 processor started !"
     ]
    },
    {
     "name": "stdout",
     "output_type": "stream",
     "text": [
      "\n"
     ]
    },
    {
     "name": "stdout",
     "output_type": "stream",
     "text": [
      "29 processor started !"
     ]
    },
    {
     "name": "stdout",
     "output_type": "stream",
     "text": [
      "\n"
     ]
    },
    {
     "name": "stdout",
     "output_type": "stream",
     "text": [
      "30 processor started !"
     ]
    },
    {
     "name": "stdout",
     "output_type": "stream",
     "text": [
      "\n"
     ]
    },
    {
     "name": "stdout",
     "output_type": "stream",
     "text": [
      "31 processor started !"
     ]
    },
    {
     "name": "stdout",
     "output_type": "stream",
     "text": [
      "\n"
     ]
    },
    {
     "name": "stdout",
     "output_type": "stream",
     "text": [
      "32 processor started !"
     ]
    },
    {
     "name": "stdout",
     "output_type": "stream",
     "text": [
      "\n"
     ]
    },
    {
     "name": "stdout",
     "output_type": "stream",
     "text": [
      "33 processor started !"
     ]
    },
    {
     "name": "stdout",
     "output_type": "stream",
     "text": [
      "\n"
     ]
    },
    {
     "name": "stdout",
     "output_type": "stream",
     "text": [
      "34 processor started !"
     ]
    },
    {
     "name": "stdout",
     "output_type": "stream",
     "text": [
      "\n"
     ]
    },
    {
     "name": "stdout",
     "output_type": "stream",
     "text": [
      "35 processor started !"
     ]
    },
    {
     "name": "stdout",
     "output_type": "stream",
     "text": [
      "\n"
     ]
    },
    {
     "name": "stdout",
     "output_type": "stream",
     "text": [
      "36 processor started !"
     ]
    },
    {
     "name": "stdout",
     "output_type": "stream",
     "text": [
      "\n"
     ]
    },
    {
     "name": "stdout",
     "output_type": "stream",
     "text": [
      "37 processor started !"
     ]
    },
    {
     "name": "stdout",
     "output_type": "stream",
     "text": [
      "\n"
     ]
    },
    {
     "name": "stdout",
     "output_type": "stream",
     "text": [
      "38 processor started !"
     ]
    },
    {
     "name": "stdout",
     "output_type": "stream",
     "text": [
      "\n"
     ]
    },
    {
     "name": "stdout",
     "output_type": "stream",
     "text": [
      "39 processor started !"
     ]
    },
    {
     "name": "stdout",
     "output_type": "stream",
     "text": [
      "\n"
     ]
    },
    {
     "name": "stdout",
     "output_type": "stream",
     "text": [
      "successful"
     ]
    },
    {
     "name": "stdout",
     "output_type": "stream",
     "text": [
      "\n"
     ]
    }
   ],
   "source": [
    "from multiprocessing import Pool\n",
    "from SpamDetection import run\n",
    "import math\n",
    "res= []\n",
    "count=0\n",
    "processor=40\n",
    "p=Pool(processor)\n",
    "l_data = len(spamtweet)\n",
    "size = math.ceil(l_data / processor)\n",
    "\n",
    "\n",
    "for i in range(processor):\n",
    "    start = size * i\n",
    "    end = (i + 1) * size if (i + 1) * size < l_data else l_data\n",
    "    tmp = spamtweet[start:end]\n",
    "    tmp.to_csv('D:/study/Fake/url_'+str(i)+'.csv',index=False)\n",
    "    print(len(tmp))\n",
    "for i in range(processor):\n",
    "    res.append(p.apply_async(run, args=(i,)))\n",
    "    print(str(i) + ' processor started !')\n",
    "p.close()\n",
    "p.join()      \n",
    "print('successful')\n",
    "\n"
   ]
  },
  {
   "cell_type": "code",
   "execution_count": 13,
   "metadata": {},
   "outputs": [
    {
     "name": "stdout",
     "output_type": "stream",
     "text": [
      "[532627591686275072, 'I Pooh - In silenzio 1968 http://t.co/ahvQxUqTws', 24858289, 0, 0, 1, 'https://www.facebook.com/photo.php?fbid=10152421275472681']"
     ]
    },
    {
     "name": "stdout",
     "output_type": "stream",
     "text": [
      "\n"
     ]
    }
   ],
   "source": [
    "spamfinal=[]\n",
    "for i in res:\n",
    "    spamfinal+=i.get()\n",
    "print(spamfinal[2])\n",
    "\n",
    "\n",
    "spamfinal=pd.DataFrame(spamfinal,columns=['id','text','user_id','num_hashtags',\n",
    "                           'num_mentions','num_urls','finlurl'])"
   ]
  },
  {
   "cell_type": "code",
   "execution_count": 14,
   "metadata": {},
   "outputs": [],
   "source": [
    "spamfinal.to_csv('D:/study/Fake/spamfinal.csv',index=False)"
   ]
  },
  {
   "cell_type": "code",
   "execution_count": 15,
   "metadata": {},
   "outputs": [],
   "source": [
    "spamfinal['text']=spamfinal['text'].apply(removeurl)\n"
   ]
  },
  {
   "cell_type": "code",
   "execution_count": 9,
   "metadata": {
    "collapsed": true
   },
   "outputs": [
    {
     "name": "stdout",
     "output_type": "stream",
     "text": [
      "18244"
     ]
    },
    {
     "name": "stdout",
     "output_type": "stream",
     "text": [
      "\n"
     ]
    },
    {
     "name": "stdout",
     "output_type": "stream",
     "text": [
      "18244"
     ]
    },
    {
     "name": "stdout",
     "output_type": "stream",
     "text": [
      "\n"
     ]
    },
    {
     "name": "stdout",
     "output_type": "stream",
     "text": [
      "18244"
     ]
    },
    {
     "name": "stdout",
     "output_type": "stream",
     "text": [
      "\n"
     ]
    },
    {
     "name": "stdout",
     "output_type": "stream",
     "text": [
      "18244"
     ]
    },
    {
     "name": "stdout",
     "output_type": "stream",
     "text": [
      "\n"
     ]
    },
    {
     "name": "stdout",
     "output_type": "stream",
     "text": [
      "18244"
     ]
    },
    {
     "name": "stdout",
     "output_type": "stream",
     "text": [
      "\n"
     ]
    },
    {
     "name": "stdout",
     "output_type": "stream",
     "text": [
      "18244"
     ]
    },
    {
     "name": "stdout",
     "output_type": "stream",
     "text": [
      "\n"
     ]
    },
    {
     "name": "stdout",
     "output_type": "stream",
     "text": [
      "18244"
     ]
    },
    {
     "name": "stdout",
     "output_type": "stream",
     "text": [
      "\n"
     ]
    },
    {
     "name": "stdout",
     "output_type": "stream",
     "text": [
      "18244"
     ]
    },
    {
     "name": "stdout",
     "output_type": "stream",
     "text": [
      "\n"
     ]
    },
    {
     "name": "stdout",
     "output_type": "stream",
     "text": [
      "18244"
     ]
    },
    {
     "name": "stdout",
     "output_type": "stream",
     "text": [
      "\n"
     ]
    },
    {
     "name": "stdout",
     "output_type": "stream",
     "text": [
      "18244"
     ]
    },
    {
     "name": "stdout",
     "output_type": "stream",
     "text": [
      "\n"
     ]
    },
    {
     "name": "stdout",
     "output_type": "stream",
     "text": [
      "18244"
     ]
    },
    {
     "name": "stdout",
     "output_type": "stream",
     "text": [
      "\n"
     ]
    },
    {
     "name": "stdout",
     "output_type": "stream",
     "text": [
      "18244"
     ]
    },
    {
     "name": "stdout",
     "output_type": "stream",
     "text": [
      "\n"
     ]
    },
    {
     "name": "stdout",
     "output_type": "stream",
     "text": [
      "18244"
     ]
    },
    {
     "name": "stdout",
     "output_type": "stream",
     "text": [
      "\n"
     ]
    },
    {
     "name": "stdout",
     "output_type": "stream",
     "text": [
      "18244"
     ]
    },
    {
     "name": "stdout",
     "output_type": "stream",
     "text": [
      "\n"
     ]
    },
    {
     "name": "stdout",
     "output_type": "stream",
     "text": [
      "18244"
     ]
    },
    {
     "name": "stdout",
     "output_type": "stream",
     "text": [
      "\n"
     ]
    },
    {
     "name": "stdout",
     "output_type": "stream",
     "text": [
      "18244"
     ]
    },
    {
     "name": "stdout",
     "output_type": "stream",
     "text": [
      "\n"
     ]
    },
    {
     "name": "stdout",
     "output_type": "stream",
     "text": [
      "18244"
     ]
    },
    {
     "name": "stdout",
     "output_type": "stream",
     "text": [
      "\n"
     ]
    },
    {
     "name": "stdout",
     "output_type": "stream",
     "text": [
      "18244"
     ]
    },
    {
     "name": "stdout",
     "output_type": "stream",
     "text": [
      "\n"
     ]
    },
    {
     "name": "stdout",
     "output_type": "stream",
     "text": [
      "18244"
     ]
    },
    {
     "name": "stdout",
     "output_type": "stream",
     "text": [
      "\n"
     ]
    },
    {
     "name": "stdout",
     "output_type": "stream",
     "text": [
      "18244"
     ]
    },
    {
     "name": "stdout",
     "output_type": "stream",
     "text": [
      "\n"
     ]
    },
    {
     "name": "stdout",
     "output_type": "stream",
     "text": [
      "18244"
     ]
    },
    {
     "name": "stdout",
     "output_type": "stream",
     "text": [
      "\n"
     ]
    },
    {
     "name": "stdout",
     "output_type": "stream",
     "text": [
      "18244"
     ]
    },
    {
     "name": "stdout",
     "output_type": "stream",
     "text": [
      "\n"
     ]
    },
    {
     "name": "stdout",
     "output_type": "stream",
     "text": [
      "18244"
     ]
    },
    {
     "name": "stdout",
     "output_type": "stream",
     "text": [
      "\n"
     ]
    },
    {
     "name": "stdout",
     "output_type": "stream",
     "text": [
      "18244"
     ]
    },
    {
     "name": "stdout",
     "output_type": "stream",
     "text": [
      "\n"
     ]
    },
    {
     "name": "stdout",
     "output_type": "stream",
     "text": [
      "18244"
     ]
    },
    {
     "name": "stdout",
     "output_type": "stream",
     "text": [
      "\n"
     ]
    },
    {
     "name": "stdout",
     "output_type": "stream",
     "text": [
      "18244"
     ]
    },
    {
     "name": "stdout",
     "output_type": "stream",
     "text": [
      "\n"
     ]
    },
    {
     "name": "stdout",
     "output_type": "stream",
     "text": [
      "18244"
     ]
    },
    {
     "name": "stdout",
     "output_type": "stream",
     "text": [
      "\n"
     ]
    },
    {
     "name": "stdout",
     "output_type": "stream",
     "text": [
      "18244"
     ]
    },
    {
     "name": "stdout",
     "output_type": "stream",
     "text": [
      "\n"
     ]
    },
    {
     "name": "stdout",
     "output_type": "stream",
     "text": [
      "18244"
     ]
    },
    {
     "name": "stdout",
     "output_type": "stream",
     "text": [
      "\n"
     ]
    },
    {
     "name": "stdout",
     "output_type": "stream",
     "text": [
      "18244"
     ]
    },
    {
     "name": "stdout",
     "output_type": "stream",
     "text": [
      "\n"
     ]
    },
    {
     "name": "stdout",
     "output_type": "stream",
     "text": [
      "18244"
     ]
    },
    {
     "name": "stdout",
     "output_type": "stream",
     "text": [
      "\n"
     ]
    },
    {
     "name": "stdout",
     "output_type": "stream",
     "text": [
      "18244"
     ]
    },
    {
     "name": "stdout",
     "output_type": "stream",
     "text": [
      "\n"
     ]
    },
    {
     "name": "stdout",
     "output_type": "stream",
     "text": [
      "18244"
     ]
    },
    {
     "name": "stdout",
     "output_type": "stream",
     "text": [
      "\n"
     ]
    },
    {
     "name": "stdout",
     "output_type": "stream",
     "text": [
      "18244"
     ]
    },
    {
     "name": "stdout",
     "output_type": "stream",
     "text": [
      "\n"
     ]
    },
    {
     "name": "stdout",
     "output_type": "stream",
     "text": [
      "18244"
     ]
    },
    {
     "name": "stdout",
     "output_type": "stream",
     "text": [
      "\n"
     ]
    },
    {
     "name": "stdout",
     "output_type": "stream",
     "text": [
      "18244"
     ]
    },
    {
     "name": "stdout",
     "output_type": "stream",
     "text": [
      "\n"
     ]
    },
    {
     "name": "stdout",
     "output_type": "stream",
     "text": [
      "18244"
     ]
    },
    {
     "name": "stdout",
     "output_type": "stream",
     "text": [
      "\n"
     ]
    },
    {
     "name": "stdout",
     "output_type": "stream",
     "text": [
      "18244"
     ]
    },
    {
     "name": "stdout",
     "output_type": "stream",
     "text": [
      "\n"
     ]
    },
    {
     "name": "stdout",
     "output_type": "stream",
     "text": [
      "18244"
     ]
    },
    {
     "name": "stdout",
     "output_type": "stream",
     "text": [
      "\n"
     ]
    },
    {
     "name": "stdout",
     "output_type": "stream",
     "text": [
      "18209"
     ]
    },
    {
     "name": "stdout",
     "output_type": "stream",
     "text": [
      "\n"
     ]
    },
    {
     "name": "stdout",
     "output_type": "stream",
     "text": [
      "0 processor started !"
     ]
    },
    {
     "name": "stdout",
     "output_type": "stream",
     "text": [
      "\n"
     ]
    },
    {
     "name": "stdout",
     "output_type": "stream",
     "text": [
      "1 processor started !"
     ]
    },
    {
     "name": "stdout",
     "output_type": "stream",
     "text": [
      "\n"
     ]
    },
    {
     "name": "stdout",
     "output_type": "stream",
     "text": [
      "2 processor started !"
     ]
    },
    {
     "name": "stdout",
     "output_type": "stream",
     "text": [
      "\n"
     ]
    },
    {
     "name": "stdout",
     "output_type": "stream",
     "text": [
      "3 processor started !"
     ]
    },
    {
     "name": "stdout",
     "output_type": "stream",
     "text": [
      "\n"
     ]
    },
    {
     "name": "stdout",
     "output_type": "stream",
     "text": [
      "4 processor started !"
     ]
    },
    {
     "name": "stdout",
     "output_type": "stream",
     "text": [
      "\n"
     ]
    },
    {
     "name": "stdout",
     "output_type": "stream",
     "text": [
      "5 processor started !"
     ]
    },
    {
     "name": "stdout",
     "output_type": "stream",
     "text": [
      "\n"
     ]
    },
    {
     "name": "stdout",
     "output_type": "stream",
     "text": [
      "6 processor started !"
     ]
    },
    {
     "name": "stdout",
     "output_type": "stream",
     "text": [
      "\n"
     ]
    },
    {
     "name": "stdout",
     "output_type": "stream",
     "text": [
      "7 processor started !"
     ]
    },
    {
     "name": "stdout",
     "output_type": "stream",
     "text": [
      "\n"
     ]
    },
    {
     "name": "stdout",
     "output_type": "stream",
     "text": [
      "8 processor started !"
     ]
    },
    {
     "name": "stdout",
     "output_type": "stream",
     "text": [
      "\n"
     ]
    },
    {
     "name": "stdout",
     "output_type": "stream",
     "text": [
      "9 processor started !"
     ]
    },
    {
     "name": "stdout",
     "output_type": "stream",
     "text": [
      "\n"
     ]
    },
    {
     "name": "stdout",
     "output_type": "stream",
     "text": [
      "10 processor started !"
     ]
    },
    {
     "name": "stdout",
     "output_type": "stream",
     "text": [
      "\n"
     ]
    },
    {
     "name": "stdout",
     "output_type": "stream",
     "text": [
      "11 processor started !"
     ]
    },
    {
     "name": "stdout",
     "output_type": "stream",
     "text": [
      "\n"
     ]
    },
    {
     "name": "stdout",
     "output_type": "stream",
     "text": [
      "12 processor started !"
     ]
    },
    {
     "name": "stdout",
     "output_type": "stream",
     "text": [
      "\n"
     ]
    },
    {
     "name": "stdout",
     "output_type": "stream",
     "text": [
      "13 processor started !"
     ]
    },
    {
     "name": "stdout",
     "output_type": "stream",
     "text": [
      "\n"
     ]
    },
    {
     "name": "stdout",
     "output_type": "stream",
     "text": [
      "14 processor started !"
     ]
    },
    {
     "name": "stdout",
     "output_type": "stream",
     "text": [
      "\n"
     ]
    },
    {
     "name": "stdout",
     "output_type": "stream",
     "text": [
      "15 processor started !"
     ]
    },
    {
     "name": "stdout",
     "output_type": "stream",
     "text": [
      "\n"
     ]
    },
    {
     "name": "stdout",
     "output_type": "stream",
     "text": [
      "16 processor started !"
     ]
    },
    {
     "name": "stdout",
     "output_type": "stream",
     "text": [
      "\n"
     ]
    },
    {
     "name": "stdout",
     "output_type": "stream",
     "text": [
      "17 processor started !"
     ]
    },
    {
     "name": "stdout",
     "output_type": "stream",
     "text": [
      "\n"
     ]
    },
    {
     "name": "stdout",
     "output_type": "stream",
     "text": [
      "18 processor started !"
     ]
    },
    {
     "name": "stdout",
     "output_type": "stream",
     "text": [
      "\n"
     ]
    },
    {
     "name": "stdout",
     "output_type": "stream",
     "text": [
      "19 processor started !"
     ]
    },
    {
     "name": "stdout",
     "output_type": "stream",
     "text": [
      "\n"
     ]
    },
    {
     "name": "stdout",
     "output_type": "stream",
     "text": [
      "20 processor started !"
     ]
    },
    {
     "name": "stdout",
     "output_type": "stream",
     "text": [
      "\n"
     ]
    },
    {
     "name": "stdout",
     "output_type": "stream",
     "text": [
      "21 processor started !"
     ]
    },
    {
     "name": "stdout",
     "output_type": "stream",
     "text": [
      "\n"
     ]
    },
    {
     "name": "stdout",
     "output_type": "stream",
     "text": [
      "22 processor started !"
     ]
    },
    {
     "name": "stdout",
     "output_type": "stream",
     "text": [
      "\n"
     ]
    },
    {
     "name": "stdout",
     "output_type": "stream",
     "text": [
      "23 processor started !"
     ]
    },
    {
     "name": "stdout",
     "output_type": "stream",
     "text": [
      "\n"
     ]
    },
    {
     "name": "stdout",
     "output_type": "stream",
     "text": [
      "24 processor started !"
     ]
    },
    {
     "name": "stdout",
     "output_type": "stream",
     "text": [
      "\n"
     ]
    },
    {
     "name": "stdout",
     "output_type": "stream",
     "text": [
      "25 processor started !"
     ]
    },
    {
     "name": "stdout",
     "output_type": "stream",
     "text": [
      "\n"
     ]
    },
    {
     "name": "stdout",
     "output_type": "stream",
     "text": [
      "26 processor started !"
     ]
    },
    {
     "name": "stdout",
     "output_type": "stream",
     "text": [
      "\n"
     ]
    },
    {
     "name": "stdout",
     "output_type": "stream",
     "text": [
      "27 processor started !"
     ]
    },
    {
     "name": "stdout",
     "output_type": "stream",
     "text": [
      "\n"
     ]
    },
    {
     "name": "stdout",
     "output_type": "stream",
     "text": [
      "28 processor started !"
     ]
    },
    {
     "name": "stdout",
     "output_type": "stream",
     "text": [
      "\n"
     ]
    },
    {
     "name": "stdout",
     "output_type": "stream",
     "text": [
      "29 processor started !"
     ]
    },
    {
     "name": "stdout",
     "output_type": "stream",
     "text": [
      "\n"
     ]
    },
    {
     "name": "stdout",
     "output_type": "stream",
     "text": [
      "30 processor started !"
     ]
    },
    {
     "name": "stdout",
     "output_type": "stream",
     "text": [
      "\n"
     ]
    },
    {
     "name": "stdout",
     "output_type": "stream",
     "text": [
      "31 processor started !"
     ]
    },
    {
     "name": "stdout",
     "output_type": "stream",
     "text": [
      "\n"
     ]
    },
    {
     "name": "stdout",
     "output_type": "stream",
     "text": [
      "32 processor started !"
     ]
    },
    {
     "name": "stdout",
     "output_type": "stream",
     "text": [
      "\n"
     ]
    },
    {
     "name": "stdout",
     "output_type": "stream",
     "text": [
      "33 processor started !"
     ]
    },
    {
     "name": "stdout",
     "output_type": "stream",
     "text": [
      "\n"
     ]
    },
    {
     "name": "stdout",
     "output_type": "stream",
     "text": [
      "34 processor started !"
     ]
    },
    {
     "name": "stdout",
     "output_type": "stream",
     "text": [
      "\n"
     ]
    },
    {
     "name": "stdout",
     "output_type": "stream",
     "text": [
      "35 processor started !"
     ]
    },
    {
     "name": "stdout",
     "output_type": "stream",
     "text": [
      "\n"
     ]
    },
    {
     "name": "stdout",
     "output_type": "stream",
     "text": [
      "36 processor started !"
     ]
    },
    {
     "name": "stdout",
     "output_type": "stream",
     "text": [
      "\n"
     ]
    },
    {
     "name": "stdout",
     "output_type": "stream",
     "text": [
      "37 processor started !"
     ]
    },
    {
     "name": "stdout",
     "output_type": "stream",
     "text": [
      "\n"
     ]
    },
    {
     "name": "stdout",
     "output_type": "stream",
     "text": [
      "38 processor started !"
     ]
    },
    {
     "name": "stdout",
     "output_type": "stream",
     "text": [
      "\n"
     ]
    },
    {
     "name": "stdout",
     "output_type": "stream",
     "text": [
      "39 processor started !"
     ]
    },
    {
     "name": "stdout",
     "output_type": "stream",
     "text": [
      "\n"
     ]
    },
    {
     "name": "stdout",
     "output_type": "stream",
     "text": [
      "successful"
     ]
    },
    {
     "name": "stdout",
     "output_type": "stream",
     "text": [
      "\n"
     ]
    }
   ],
   "source": [
    "\n",
    "import requests\n",
    "from urlexpander import expand\n",
    "import math\n",
    "# def FinalUrl(url):\n",
    "#     try:\n",
    "#         session = requests.Session()  # so connections are recycled\n",
    "#         resp = session.get(url, allow_redirects=True)\n",
    "#         return resp.url\n",
    "#     except requests.exceptions.TooManyRedirects:\n",
    "#         print('ConnectionError -- please wait 3 seconds')\n",
    "#     except requests.exceptions.ConnectionError:\n",
    "#         print('ChunkedEncodingError -- please wait 3 seconds')\n",
    "#     except requests.exceptions.ConnectTimeout:\n",
    "#         print('ChunkedEncodingError -- please wait 3 seconds')\n",
    "res= []\n",
    "count=0\n",
    "processor=40\n",
    "p=Pool(processor)\n",
    "l_data = len(normaltweet)\n",
    "size = math.ceil(l_data / processor)\n",
    "\n",
    "\n",
    "for i in range(processor):\n",
    "    start = size * i\n",
    "    end = (i + 1) * size if (i + 1) * size < l_data else l_data\n",
    "    tmp = normaltweet[start:end]\n",
    "    tmp.to_csv('D:/study/Fake/url_'+str(i)+'.csv',index=False)\n",
    "    print(len(tmp))\n",
    "for i in range(processor):\n",
    "    res.append(p.apply_async(run, args=(i,)))\n",
    "    print(str(i) + ' processor started !')\n",
    "p.close()\n",
    "p.join()      \n",
    "print('successful')\n"
   ]
  },
  {
   "cell_type": "code",
   "execution_count": null,
   "metadata": {},
   "outputs": [],
   "source": []
  },
  {
   "cell_type": "code",
   "execution_count": 23,
   "metadata": {
    "collapsed": true
   },
   "outputs": [
    {
     "name": "stdout",
     "output_type": "stream",
     "text": [
      "[593659318479687680, \"RT @sippey: Here's my one paragraph review of the new MacBook. https://t.co/vUcQgXQJEG\", 678033.0, 0.0, 1.0, 1.0, 'https://medium.com/@sippey/the-new-macbook-is-an-absolutely-beautiful-computer-unbelievably-thin-ridiculously-light-amazing-f4dc0aee0302']"
     ]
    },
    {
     "name": "stdout",
     "output_type": "stream",
     "text": [
      "\n"
     ]
    }
   ],
   "source": [
    "final=[]\n",
    "for i in res:\n",
    "    final+=i.get()\n",
    "print(final[2])\n",
    "\n",
    "\n",
    "final=pd.DataFrame(final,columns=['id','text','user_id','num_hashtags',\n",
    "                           'num_mentions','num_urls','finalurl'])"
   ]
  },
  {
   "cell_type": "code",
   "execution_count": 24,
   "metadata": {
    "collapsed": true
   },
   "outputs": [
    {
     "name": "stdout",
     "output_type": "stream",
     "text": [
      "<class 'pandas.core.frame.DataFrame'>"
     ]
    },
    {
     "name": "stdout",
     "output_type": "stream",
     "text": [
      "\n"
     ]
    },
    {
     "name": "stdout",
     "output_type": "stream",
     "text": [
      "729725"
     ]
    },
    {
     "name": "stdout",
     "output_type": "stream",
     "text": [
      "\n"
     ]
    }
   ],
   "source": [
    "import string \n",
    "print(type(final))\n",
    "# final.to_csv('D:/study/Fake/normlfinal.csv',index=False)\n",
    "print(len(final))\n",
    "stopwords = [u'rt', u're',u'rts', u'i', u'me', u'my', u'myself', u'we', u'our',               u'ours', u'ourselves', u'you', u'your',\n",
    "             u'yours', u'yourself', u'yourselves', u'he', u'him', u'his', u'himself', u'she', u'her', u'hers',\n",
    "             u'herself', u'it', u'its', u'itself', u'they', u'them', u'their', u'theirs', u'themselves', u'what',\n",
    "             u'which', u'who', u'whom', u'this', u'that', u'these', u'those', u'am', u'is', u'are', u'was', u'were',\n",
    "             u'be', u'been', u'being', u'have', u'has', u'had', u'having', u'do', u'does', u'did', u'doing', u'a',\n",
    "             u'an', u'the', u'and', u'but', u'if', u'or', u'because', u'as', u'until', u'while', u'of', u'at', u'by',\n",
    "             u'for', u'with', u'about', u'against', u'between', u'into', u'through', u'during', u'before', u'after',\n",
    "             u'above', u'below', u'to', u'from', u'up', u'down', u'in', u'out', u'on', u'off', u'over', u'under',\n",
    "             u'again', u'further', u'then', u'once', u'here', u'there', u'when', u'where', u'why', u'how', u'all',\n",
    "             u'any', u'both', u'each', u'few', u'more', u'most', u'other', u'some', u'such', u'no', u'nor', u'not',\n",
    "             u'only', u'own', u'same', u'so', u'than', u'too', u'very', u's', u't', u'can', u'will', u'just', u'don',\n",
    "             u'should', u'now']\n",
    "def token(text):\n",
    "    tokens=[]\n",
    "    remove_spl_char_regex = re.compile('[%s]' % re.escape(string.punctuation))\n",
    "    text = re.sub('http[s]?://(?:[a-zA-Z]|[0-9]|[$-_@.&+]|[!*(),]|(?:%[0-9a-fA-F][0-9a-fA-F]))+', '',\n",
    "                  text)  # to replace url with ''\n",
    "    text = remove_spl_char_regex.sub(\" \", text)  # Remove special characters\n",
    "    text = text.lower()\n",
    "    for word in text.split():\n",
    "        if word not in stopwords \\\n",
    "                and word not in string.punctuation \\\n",
    "                and len(word) > 2 \\\n",
    "                and word != '``':\n",
    "            tokens.append(word)\n",
    "    return tokens\n",
    "\n",
    "final['text']=final['text'].apply(token)"
   ]
  },
  {
   "cell_type": "code",
   "execution_count": 16,
   "metadata": {
    "collapsed": true
   },
   "outputs": [
    {
     "name": "stdout",
     "output_type": "stream",
     "text": [
      "id                                    3474\nname                                  3473\nscreen_name                           3474\nstatuses_count                        3474\nfollowers_count                       3474\nfriends_count                         3474\nfavourites_count                      3474\nlisted_count                          3474\nurl                                   1266\nlang                                  3474\ntime_zone                             2475\nlocation                              2365\ndefault_profile                       1032\ndefault_profile_image                   13\ngeo_enabled                           2155\nprofile_image_url                     3474\nprofile_banner_url                    3165\nprofile_use_background_image          3084\nprofile_background_image_url_https    3474\nprofile_text_color                    3474\nprofile_image_url_https               3474\nprofile_sidebar_border_color          3474\nprofile_background_tile               1307\nprofile_sidebar_fill_color            3474\nprofile_background_image_url          3474\nprofile_background_color              3474\nprofile_link_color                    3474\nutc_offset                            2475\nis_translator                            1\nfollow_request_sent                      0\nprotected                               78\nverified                                11\nnotifications                            0\ndescription                           3095\ncontributors_enabled                     0\nfollowing                                0\ncreated_at                            3474\ntimestamp                             3474\ncrawled_at                            3474\nupdated                               3474\ntest_set_1                            3474\ntest_set_2                            3474\ndtype: int64"
     ]
    },
    {
     "name": "stdout",
     "output_type": "stream",
     "text": [
      "\n"
     ]
    }
   ],
   "source": [
    "print(normal_ac[''].count())"
   ]
  },
  {
   "cell_type": "code",
   "execution_count": 38,
   "metadata": {},
   "outputs": [],
   "source": [
    "text=pd.merge(final,normal_ac,left_on='user_id',right_on='id')"
   ]
  },
  {
   "cell_type": "code",
   "execution_count": 41,
   "metadata": {},
   "outputs": [
    {
     "name": "stdout",
     "output_type": "stream",
     "text": [
      "                 id_x                                               text  \\\n0  593819412660101121                                                 []   \n1  593814612820119552  [sanfranciscoba, enoughsenough, surprise, wood...   \n2  593659318479687680     [sippey, one, paragraph, review, new, macbook]   \n3  593579247110782976  [mmflint, dont, ask, rts, gen, friend, frakint...   \n4  593578595370438657  [acts, messages, people, say, still, matter, p...   \n5  593578251722690560  [live, untreated, ptsd, feel, like, might, die...   \n6  593578041936220160  [frakintosh, also, columbine, survivor, miles,...   \n7  593577845814796289  [frakintosh, old, skool, web, good, web, citiz...   \n8  593577605615325184  [one, reason, life, gotten, better, support, d...   \n9  593556802517671936  [iamsakuma, hundreds, people, union, square, m...   \n\n    user_id  num_hashtags  num_mentions  num_urls  \\\n0  678033.0           0.0           0.0       1.0   \n1  678033.0           1.0           1.0       1.0   \n2  678033.0           0.0           1.0       1.0   \n3  678033.0           0.0           2.0       1.0   \n4  678033.0           1.0           1.0       1.0   \n5  678033.0           1.0           0.0       1.0   \n6  678033.0           1.0           1.0       1.0   \n7  678033.0           0.0           2.0       1.0   \n8  678033.0           1.0           1.0       1.0   \n9  678033.0           1.0           1.0       0.0   \n\n                                             finlurl    id_y          name  \\\n0            https://www.instagram.com/p/2Gzq09K0MM/  678033  Heather Gold   \n1                                      https://t.co/  678033  Heather Gold   \n2  https://medium.com/@sippey/the-new-macbook-is-...  678033  Heather Gold   \n3                    https://www.gofundme.com/jaydot  678033  Heather Gold   \n4                    https://www.gofundme.com/jaydot  678033  Heather Gold   \n5                 https://www.gofundme.com/jaydot#fb  678033  Heather Gold   \n6                 https://www.gofundme.com/jaydot#fb  678033  Heather Gold   \n7                    https://www.gofundme.com/jaydot  678033  Heather Gold   \n8                 https://www.gofundme.com/jaydot#fb  678033  Heather Gold   \n9  https://twitter.com/iamsakuma/status/593555504...  678033  Heather Gold   \n\n  screen_name  ...  notifications  \\\n0      heathr  ...            NaN   \n1      heathr  ...            NaN   \n2      heathr  ...            NaN   \n3      heathr  ...            NaN   \n4      heathr  ...            NaN   \n5      heathr  ...            NaN   \n6      heathr  ...            NaN   \n7      heathr  ...            NaN   \n8      heathr  ...            NaN   \n9      heathr  ...            NaN   \n\n                                         description  contributors_enabled  \\\n0  Comic. Writer. Speaker. My heart is hardwired ...                   NaN   \n1  Comic. Writer. Speaker. My heart is hardwired ...                   NaN   \n2  Comic. Writer. Speaker. My heart is hardwired ...                   NaN   \n3  Comic. Writer. Speaker. My heart is hardwired ...                   NaN   \n4  Comic. Writer. Speaker. My heart is hardwired ...                   NaN   \n5  Comic. Writer. Speaker. My heart is hardwired ...                   NaN   \n6  Comic. Writer. Speaker. My heart is hardwired ...                   NaN   \n7  Comic. Writer. Speaker. My heart is hardwired ...                   NaN   \n8  Comic. Writer. Speaker. My heart is hardwired ...                   NaN   \n9  Comic. Writer. Speaker. My heart is hardwired ...                   NaN   \n\n   following                      created_at            timestamp  \\\n0        NaN  Mon Jan 22 01:57:38 +0000 2007  2007-01-22 02:57:38   \n1        NaN  Mon Jan 22 01:57:38 +0000 2007  2007-01-22 02:57:38   \n2        NaN  Mon Jan 22 01:57:38 +0000 2007  2007-01-22 02:57:38   \n3        NaN  Mon Jan 22 01:57:38 +0000 2007  2007-01-22 02:57:38   \n4        NaN  Mon Jan 22 01:57:38 +0000 2007  2007-01-22 02:57:38   \n5        NaN  Mon Jan 22 01:57:38 +0000 2007  2007-01-22 02:57:38   \n6        NaN  Mon Jan 22 01:57:38 +0000 2007  2007-01-22 02:57:38   \n7        NaN  Mon Jan 22 01:57:38 +0000 2007  2007-01-22 02:57:38   \n8        NaN  Mon Jan 22 01:57:38 +0000 2007  2007-01-22 02:57:38   \n9        NaN  Mon Jan 22 01:57:38 +0000 2007  2007-01-22 02:57:38   \n\n            crawled_at              updated test_set_1  test_set_2  \n0  2015-05-01 12:57:24  2016-03-15 16:05:16          0           0  \n1  2015-05-01 12:57:24  2016-03-15 16:05:16          0           0  \n2  2015-05-01 12:57:24  2016-03-15 16:05:16          0           0  \n3  2015-05-01 12:57:24  2016-03-15 16:05:16          0           0  \n4  2015-05-01 12:57:24  2016-03-15 16:05:16          0           0  \n5  2015-05-01 12:57:24  2016-03-15 16:05:16          0           0  \n6  2015-05-01 12:57:24  2016-03-15 16:05:16          0           0  \n7  2015-05-01 12:57:24  2016-03-15 16:05:16          0           0  \n8  2015-05-01 12:57:24  2016-03-15 16:05:16          0           0  \n9  2015-05-01 12:57:24  2016-03-15 16:05:16          0           0  \n\n[10 rows x 49 columns]"
     ]
    },
    {
     "name": "stdout",
     "output_type": "stream",
     "text": [
      "\n"
     ]
    }
   ],
   "source": [
    "print(text.head(10))\n"
   ]
  },
  {
   "cell_type": "code",
   "execution_count": null,
   "metadata": {},
   "outputs": [],
   "source": []
  }
 ],
 "metadata": {
  "kernelspec": {
   "display_name": "Python 2",
   "language": "python",
   "name": "python2"
  },
  "language_info": {
   "codemirror_mode": {
    "name": "ipython",
    "version": 2
   },
   "file_extension": ".py",
   "mimetype": "text/x-python",
   "name": "python",
   "nbconvert_exporter": "python",
   "pygments_lexer": "ipython2",
   "version": "2.7.6"
  }
 },
 "nbformat": 4,
 "nbformat_minor": 0
}
