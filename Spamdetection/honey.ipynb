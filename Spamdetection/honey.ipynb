{
 "cells": [
  {
   "cell_type": "code",
   "execution_count": 1,
   "metadata": {
    "collapsed": true
   },
   "outputs": [],
   "source": [
    "import re\n",
    "import pandas as pd\n",
    "import numpy as np"
   ]
  },
  {
   "cell_type": "code",
   "execution_count": 5,
   "metadata": {},
   "outputs": [],
   "source": [
    "normal=pd.read_csv('D:/study/Fake/Legitimate_user_new_tweets.csv')\n",
    "spam=pd.read_csv('D:/study/Fake/Polluter_new_tweets.csv')\n",
    "\n"
   ]
  },
  {
   "cell_type": "code",
   "execution_count": 6,
   "metadata": {
    "collapsed": true
   },
   "outputs": [
    {
     "name": "stdout",
     "output_type": "stream",
     "text": [
      "130049\n"
     ]
    }
   ],
   "source": [
    "normal.dropna(axis=1,inplace=True)\n",
    "normal.columns=['id','text','time']\n",
    "normal['isSpam']=0\n",
    "\n",
    "print(len(normal))"
   ]
  },
  {
   "cell_type": "code",
   "execution_count": 7,
   "metadata": {
    "collapsed": true
   },
   "outputs": [
    {
     "name": "stdout",
     "output_type": "stream",
     "text": [
      "               id                                               text  \\\n0            6301   Seaside PNW Wedding with Greenery Details at ...   \n1            6301   Whimsical stylish wedding in a Brooklyn brown...   \n2            6301   Beautiful Burgundy Hindu Fusion Wedding https...   \n3            6301   Chloe and Mike’s Classic Wedding at Moby Dick...   \n4            6301   Emily and Shaun’s Italian Inspired Wedding in...   \n5            6301   Behind the Scenes Look at an Autumn Floral Wo...   \n6            6301   Cocktail Friday – Coogee Bay Hotel’s Indulgen...   \n7            6301   Friday Roundup https://t.co/rVwDBReLqy https:...   \n8            6301   Take These Steps To Ensure A Stress Free Enga...   \n9            6301   Eclectic &amp; Earthy Livermore Wedding at We...   \n10           6301   How to Decide Which Photography Style Is Righ...   \n11           6301   A Refined Tropical Wedding at the Four Season...   \n12           6301   This Tool Makes it Easy to Find Wedding Renta...   \n13           6301   Join us for this 17-mile bike adventure to an...   \n14           6301   A Modern Green and White Wedding at Cornersto...   \n15           6301   We’d Rock This Boho Bridesmaids Look at the D...   \n16           6301   Sophisticated Indoor Wedding Inspiration in C...   \n17           6301   Our guide to planning a wedding weekend in Na...   \n18           6301   Colorful Retro Elopement Inspiration https://...   \n19          10836   RT @OCBCCycleSG: Event schedule: http://t.co/...   \n20          10836                     Follow us on @ bangkok_smiles!   \n21          10836   RT @techsailorgroup: We're hiring! http://t.c...   \n22          10836   Pledge now at http://t.co/WIhPSvUC to win pri...   \n23          10836   RT @Bangkok_Smiles: RT to tell your friends! ...   \n24          10836   How good is your Singlish? Take the Yago Quiz...   \n25          10836   Win Exclusive Invitations to LIVE Comedy with...   \n26          10836   Techsailor's Creative Director nominated Cozy...   \n27          10836   RT: @techsailorgroup is calling for designers...   \n28          10836   RT: @techsailorgroup is calling for designers...   \n29          10836   RT: @techsailorgroup is calling for designers...   \n...           ...                                                ...   \n275787  173646320   No matter how much you receive if you expecte...   \n275788  173646320   When you work too much without interspersing ...   \n275789  173646320   Baka gusto mong makatipid sa load.click here ...   \n275790  173646320   Hey! how about making your tweets work for yo...   \n275791  173646320   Well if you can't make it happen and no one e...   \n275792  173646320   If you worry a lot then day after day you are...   \n275793  173646320   When you focus on possibilities you will have...   \n275794  173646320   “Once we accept our limits we go beyond them....   \n275795  173699719   Easy Songs to Learn on the Guitar http://t.co...   \n275796  173699719   How to Write Great Emotional Songs Without Hu...   \n275797  173699719   Online Music Lessons - Good or Bad? http://t....   \n275798  173699719   Piano Lessons: What to Expect http://t.co/Jlm...   \n275799  173699719   Sophisticated Simple Music http://t.co/U8Bmvf...   \n275800  173699719   9 Tips to Practice Guitar Like a Pro http://t...   \n275801  173699719   What \"The Zone\" Feels Like for a Musician htt...   \n275802  173699719   Vocal Mixing - High Quality Vocal Mix Checkli...   \n275803  173699719   Songwriters - Secrets To Avoid Writer's Block...   \n275804  173699719   Songwriting 101 - Fundamentals of Songwriting...   \n275805  173699719   Mixing Your Vocals - Sound Ready For Radio Wi...   \n275806  173699719   End Your Frustration And Reignite Your Creati...   \n275807  173699719   How To Take An Electric Guitar Song And Make ...   \n275808  173699719   10 Quick Tips About Piano Practice http://t.c...   \n275809  173699719   Why Should We Learn Music Theory? http://t.co...   \n275810  173699719   3 Quick Tips About The Earliest Age http://t....   \n275811  173699719   Find a Great Music Teacher for Your KIDS http...   \n275812  173699719         Be A Guitar Teacher http://t.co/OzDlUwt9Fy   \n275813  173699719   What To Expect At Your First Vocal Lesson htt...   \n275814  173699719   Learn How to Sing Online Now! http://t.co/SAY...   \n275815  173766965                        Goin 2 Frisco.....UGH!!!!!!   \n275816  173766965         Bord as hell....sumbody PLEASE hmu..please   \n\n                        time  isSpam  \n0        2019-04-12 12:04:06       1  \n1        2019-04-12 12:04:04       1  \n2        2019-04-12 07:15:04       1  \n3        2019-04-12 05:07:34       1  \n4        2019-04-11 23:03:03       1  \n5        2019-04-11 22:04:08       1  \n6        2019-04-11 22:04:05       1  \n7        2019-04-11 22:04:04       1  \n8        2019-04-11 20:06:02       1  \n9        2019-04-11 19:11:03       1  \n10       2019-04-11 16:10:34       1  \n11       2019-04-11 16:10:33       1  \n12       2019-04-11 15:51:03       1  \n13       2019-04-11 13:13:33       1  \n14       2019-04-11 13:11:33       1  \n15       2019-04-11 12:53:02       1  \n16       2019-04-11 12:33:32       1  \n17       2019-04-11 12:04:33       1  \n18       2019-04-11 07:15:03       1  \n19       2012-03-03 03:36:08       1  \n20       2012-01-09 09:46:02       1  \n21       2011-12-30 09:21:33       1  \n22       2011-12-29 08:55:12       1  \n23       2011-12-21 17:30:48       1  \n24       2011-04-01 09:42:19       1  \n25       2011-03-28 07:14:47       1  \n26       2011-03-15 11:29:35       1  \n27       2011-03-14 08:23:32       1  \n28       2011-03-12 05:38:30       1  \n29       2011-03-11 11:11:25       1  \n...                      ...     ...  \n275787   2010-10-18 12:05:06       1  \n275788   2010-10-16 00:00:12       1  \n275789   2010-10-15 23:21:59       1  \n275790   2010-10-14 05:51:27       1  \n275791   2010-10-13 12:00:35       1  \n275792   2010-10-09 00:00:23       1  \n275793   2010-10-08 12:00:24       1  \n275794   2010-10-05 11:45:03       1  \n275795   2015-03-02 17:13:17       1  \n275796   2015-02-25 21:41:56       1  \n275797   2015-02-25 18:16:03       1  \n275798   2015-02-25 18:16:02       1  \n275799   2015-02-25 18:16:02       1  \n275800   2015-02-25 14:49:17       1  \n275801   2015-02-25 14:49:16       1  \n275802   2015-02-25 14:49:16       1  \n275803   2015-02-25 07:54:53       1  \n275804   2015-02-25 07:54:53       1  \n275805   2015-02-25 07:54:53       1  \n275806   2015-02-25 04:41:46       1  \n275807   2015-02-25 04:41:46       1  \n275808   2015-02-25 04:41:45       1  \n275809   2014-12-13 13:41:18       1  \n275810   2014-12-13 13:41:16       1  \n275811   2014-11-25 17:50:04       1  \n275812   2014-11-21 20:55:26       1  \n275813   2014-10-27 12:01:13       1  \n275814   2014-10-27 08:56:02       1  \n275815   2010-08-02 19:44:47       1  \n275816   2010-08-02 09:03:26       1  \n\n[275817 rows x 4 columns]\n"
     ]
    }
   ],
   "source": [
    "spam.dropna(axis=1,inplace=True)\n",
    "spam.columns=['id','text','time']\n",
    "spam['isSpam']=1\n",
    "\n",
    "print(spam)"
   ]
  },
  {
   "cell_type": "code",
   "execution_count": 8,
   "metadata": {
    "collapsed": true
   },
   "outputs": [],
   "source": [
    "df=pd.concat([normal,spam],axis=0)\n"
   ]
  },
  {
   "cell_type": "code",
   "execution_count": 9,
   "metadata": {},
   "outputs": [],
   "source": [
    "p2 = re.compile(r'(?:http|ftp|https)://(?:[\\w_-]+(?:(?:\\.[\\w_-]+)+))'\n",
    "                r'(?:[\\w.,@?^=%&:/~+#-]*[\\w@?^=%&/~+#-])?')\n",
    "def findurl(text):\n",
    "    url=p2.findall(text)\n",
    "    if len(url)<1:\n",
    "        url=np.nan\n",
    "    else:\n",
    "        url=\",\".join(url)\n",
    "    return url\n",
    "def removeurl(text):\n",
    "    text=re.sub(p2,'',text)\n",
    "    return text\n",
    "df['finalurl']=df['text'].apply(findurl)\n",
    "df['text']=df['text'].apply(removeurl)"
   ]
  },
  {
   "cell_type": "code",
   "execution_count": 10,
   "metadata": {
    "collapsed": true
   },
   "outputs": [],
   "source": [
    "df.dropna(axis=0,inplace=True)\n"
   ]
  },
  {
   "cell_type": "code",
   "execution_count": 11,
   "metadata": {
    "collapsed": true
   },
   "outputs": [
    {
     "name": "stdout",
     "output_type": "stream",
     "text": [
      "       id                                               text  \\\n0     614   @BrowneSebright @juliebjornstad I’m a huge fa...   \n1     614   @BrowneSebright @juliebjornstad I’m a huge fa...   \n2     614   @BrowneSebright @juliebjornstad I’m a huge fa...   \n3    6301   Seaside PNW Wedding with Greenery Details at ...   \n4    6301   Seaside PNW Wedding with Greenery Details at ...   \n5    6301   Seaside PNW Wedding with Greenery Details at ...   \n6     614   My friend Emily Brown of Emily Brown music is...   \n7     614   My friend Emily Brown of Emily Brown music is...   \n8     614   My friend Emily Brown of Emily Brown music is...   \n9    6301   Whimsical stylish wedding in a Brooklyn brown...   \n10   6301   Whimsical stylish wedding in a Brooklyn brown...   \n11   6301   Whimsical stylish wedding in a Brooklyn brown...   \n12   6301          Beautiful Burgundy Hindu Fusion Wedding     \n13   6301          Beautiful Burgundy Hindu Fusion Wedding     \n14    614   Live… from Provo?! Yup. I’m catching a @festi...   \n15    614   Live… from Provo?! Yup. I’m catching a @festi...   \n16    614   Live… from Provo?! Yup. I’m catching a @festi...   \n17   6301   Chloe and Mike’s Classic Wedding at Moby Dick...   \n18   6301   Chloe and Mike’s Classic Wedding at Moby Dick...   \n19   6301   Chloe and Mike’s Classic Wedding at Moby Dick...   \n20   6301   Emily and Shaun’s Italian Inspired Wedding in...   \n21   6301   Emily and Shaun’s Italian Inspired Wedding in...   \n22    614   A quick thank you to the River District Chamb...   \n23    614   A quick thank you to the River District Chamb...   \n24    614   A quick thank you to the River District Chamb...   \n25   6301   Behind the Scenes Look at an Autumn Floral Wo...   \n26   6301   Behind the Scenes Look at an Autumn Floral Wo...   \n27   6301   Behind the Scenes Look at an Autumn Floral Wo...   \n28    614                            West Side development.    \n29    614                            West Side development.    \n..    ...                                                ...   \n70   1038           @Lennartwesel @danielverlaan @RTLnieuws    \n71   6301   A Modern Green and White Wedding at Cornersto...   \n72   6301   A Modern Green and White Wedding at Cornersto...   \n73   6301   A Modern Green and White Wedding at Cornersto...   \n74   1038   RT @QueenDhami: 🎶 She wore a Raaaaaaspberry B...   \n75   1038   RT @QueenDhami: 🎶 She wore a Raaaaaaspberry B...   \n76   1038   RT @QueenDhami: 🎶 She wore a Raaaaaaspberry B...   \n77   6301   We’d Rock This Boho Bridesmaids Look at the D...   \n78   6301   We’d Rock This Boho Bridesmaids Look at the D...   \n79   6301   We’d Rock This Boho Bridesmaids Look at the D...   \n80   6301   Sophisticated Indoor Wedding Inspiration in C...   \n81   6301   Sophisticated Indoor Wedding Inspiration in C...   \n82   6301   Our guide to planning a wedding weekend in Na...   \n83   6301   Our guide to planning a wedding weekend in Na...   \n84   1038   RT @johnpaul_newman: #Brexit expectation vs. ...   \n85   1038   RT @johnpaul_newman: #Brexit expectation vs. ...   \n86   1038   RT @johnpaul_newman: #Brexit expectation vs. ...   \n87   6301             Colorful Retro Elopement Inspiration     \n88   6301             Colorful Retro Elopement Inspiration     \n89   6301             Colorful Retro Elopement Inspiration     \n90  10836   RT @OCBCCycleSG: Event schedule:   Come on do...   \n91  10836                RT @techsailorgroup: We're hiring!    \n92  10836                      Pledge now at  to win prizes!   \n93   1437   I'll just see what the AAP has to say about s...   \n94   1437   I'll just see what the AAP has to say about s...   \n95  10836   RT @Bangkok_Smiles: RT to tell your friends! ...   \n96  10836   RT @Bangkok_Smiles: RT to tell your friends! ...   \n97  10836   How good is your Singlish? Take the Yago Quiz...   \n98  10836   Win Exclusive Invitations to LIVE Comedy with...   \n99  10836   Techsailor's Creative Director nominated Cozy...   \n\n                    time  isSpam                  finalurl  \n0    2019-04-11 04:12:06       0   https://t.co/38AAN4Mt9d  \n1    2019-04-11 04:12:06       0   https://t.co/OSFkbGQjg7  \n2    2019-04-11 04:12:06       0   https://t.co/lhIhtF8hHw  \n3    2019-04-12 12:04:06       1   https://t.co/38AAN4Mt9d  \n4    2019-04-12 12:04:06       1   https://t.co/OSFkbGQjg7  \n5    2019-04-12 12:04:06       1   https://t.co/lhIhtF8hHw  \n6    2019-04-10 17:10:30       0   https://t.co/JwqZrfLa0d  \n7    2019-04-10 17:10:30       0   https://t.co/QBvOBulvtg  \n8    2019-04-10 17:10:30       0   https://t.co/j3xcktyUW8  \n9    2019-04-12 12:04:04       1   https://t.co/JwqZrfLa0d  \n10   2019-04-12 12:04:04       1   https://t.co/QBvOBulvtg  \n11   2019-04-12 12:04:04       1   https://t.co/j3xcktyUW8  \n12   2019-04-12 07:15:04       1   https://t.co/y7xLSIfeIC  \n13   2019-04-12 07:15:04       1   https://t.co/clHsz9Fdvs  \n14   2019-04-10 03:47:22       0   https://t.co/W1YVMygeKi  \n15   2019-04-10 03:47:22       0   https://t.co/qsco08Tlfs  \n16   2019-04-10 03:47:22       0   https://t.co/qeS64gUcjS  \n17   2019-04-12 05:07:34       1   https://t.co/W1YVMygeKi  \n18   2019-04-12 05:07:34       1   https://t.co/qsco08Tlfs  \n19   2019-04-12 05:07:34       1   https://t.co/qeS64gUcjS  \n20   2019-04-11 23:03:03       1   https://t.co/l9BSyURfDv  \n21   2019-04-11 23:03:03       1   https://t.co/frgGVNTpzB  \n22   2019-04-09 16:36:08       0   https://t.co/waUXjEjBmg  \n23   2019-04-09 16:36:08       0   https://t.co/WngFUA8hIQ  \n24   2019-04-09 16:36:08       0   https://t.co/mSaM5CluBl  \n25   2019-04-11 22:04:08       1   https://t.co/waUXjEjBmg  \n26   2019-04-11 22:04:08       1   https://t.co/WngFUA8hIQ  \n27   2019-04-11 22:04:08       1   https://t.co/mSaM5CluBl  \n28   2019-04-09 15:29:06       0   https://t.co/ngmha9GPth  \n29   2019-04-09 15:29:06       0   https://t.co/WqaPGLLXdQ  \n..                   ...     ...                       ...  \n70   2019-04-10 08:24:24       0   https://t.co/NO4x5iro1g  \n71   2019-04-11 13:11:33       1   https://t.co/EhIVVHubtX  \n72   2019-04-11 13:11:33       1   https://t.co/8Yx3W4etBp  \n73   2019-04-11 13:11:33       1   https://t.co/NO4x5iro1g  \n74   2019-04-10 08:10:15       0   https://t.co/LgaASFRDC0  \n75   2019-04-10 08:10:15       0   https://t.co/p63oNZZoAB  \n76   2019-04-10 08:10:15       0   https://t.co/jsKYNq06Ev  \n77   2019-04-11 12:53:02       1   https://t.co/LgaASFRDC0  \n78   2019-04-11 12:53:02       1   https://t.co/p63oNZZoAB  \n79   2019-04-11 12:53:02       1   https://t.co/jsKYNq06Ev  \n80   2019-04-11 12:33:32       1   https://t.co/mWRKbeI6au  \n81   2019-04-11 12:33:32       1   https://t.co/mo7QBZfprz  \n82   2019-04-11 12:04:33       1   https://t.co/KVLRr2Kmn1  \n83   2019-04-11 12:04:33       1   https://t.co/HB4NaZzABy  \n84   2019-04-10 08:00:33       0   https://t.co/hNYNF0CUBd  \n85   2019-04-10 08:00:33       0   https://t.co/Zdi380y7fK  \n86   2019-04-10 08:00:33       0   https://t.co/t8FN3PRjIY  \n87   2019-04-11 07:15:03       1   https://t.co/hNYNF0CUBd  \n88   2019-04-11 07:15:03       1   https://t.co/Zdi380y7fK  \n89   2019-04-11 07:15:03       1   https://t.co/t8FN3PRjIY  \n90   2012-03-03 03:36:08       1      http://t.co/vnvWaOIr  \n91   2011-12-30 09:21:33       1      http://t.co/GaxlodV6  \n92   2011-12-29 08:55:12       1      http://t.co/WIhPSvUC  \n93   2019-03-21 03:18:58       0   https://t.co/WxURqFpEsL  \n94   2019-03-21 03:18:58       0      http://t.co/of6bOYWz  \n95   2011-12-21 17:30:48       1   https://t.co/WxURqFpEsL  \n96   2011-12-21 17:30:48       1      http://t.co/of6bOYWz  \n97   2011-04-01 09:42:19       1          http://on.fb.me/  \n98   2011-03-28 07:14:47       1    http://bit.ly/UMembers  \n99   2011-03-15 11:29:35       1  http://bit.ly/likelingcc  \n\n[100 rows x 5 columns]\n"
     ]
    }
   ],
   "source": [
    "df2 = df.drop('finalurl', axis=1).join(df['finalurl']\n",
    "                                                    .str.split(\",\", expand=True).stack()\n",
    "                                                    .reset_index(level=1, drop=True)\n",
    "                                                    .rename('finalurl'))\n",
    "df2=df2.reset_index(drop=True)\n",
    "print(df2.head(100))"
   ]
  },
  {
   "cell_type": "code",
   "execution_count": 12,
   "metadata": {
    "collapsed": true
   },
   "outputs": [
    {
     "data": {
      "text/plain": [
       " 2017-11-20 03:54:03    26\n 2017-11-20 03:54:02    22\n 2013-05-10 10:59:14    18\n 2019-04-08 19:20:46    18\n 2010-09-02 00:23:28    17\n 2010-08-02 09:10:04    16\n 2013-08-19 20:37:37    15\n 2019-04-11 15:30:00    15\n 2019-04-11 23:21:30    14\n 2013-05-09 19:27:38    14\n 2017-11-13 11:47:03    13\n 2019-04-08 19:20:47    13\n 2019-04-11 14:00:00    13\n 2013-05-10 07:23:04    12\n 2019-03-09 15:51:00    12\n 2019-03-07 15:42:10    12\n 2010-09-08 06:04:40    12\n 2013-08-20 03:29:51    12\n 2011-07-07 00:53:27    11\n 2019-01-06 22:27:15    11\n 2013-08-08 15:25:11    11\n 2010-09-08 03:49:42    11\n 2019-04-11 18:04:21    11\n 2017-05-10 13:31:00    11\n 2019-04-08 19:20:48    11\n 2013-05-09 03:31:44    11\n 2013-07-22 12:35:31    11\n 2012-06-19 08:04:28    11\n 2013-03-09 05:00:14    11\n 2019-04-11 15:00:01    10\n                        ..\n 2014-03-18 18:56:56     1\n 2010-02-24 05:18:16     1\n 2010-08-24 06:15:47     1\n 2019-01-31 11:16:42     1\n 2013-07-05 01:37:08     1\n 2010-08-15 23:32:00     1\n 2013-07-06 10:11:41     1\n 2013-07-15 07:39:32     1\n 2010-07-14 09:36:48     1\n 2012-08-08 20:23:27     1\n 2010-10-06 04:08:18     1\n 2018-05-16 11:39:53     1\n 2010-11-07 12:11:31     1\n 2015-08-06 21:45:02     1\n 2019-04-11 19:01:02     1\n 2012-05-17 00:31:07     1\n 2015-09-23 23:51:22     1\n 2010-09-27 06:39:04     1\n 2010-08-15 17:14:17     1\n 2014-07-24 08:03:41     1\n 2016-07-26 23:16:44     1\n 2010-07-15 20:57:24     1\n 2012-02-09 05:45:52     1\n 2019-04-07 07:18:02     1\n 2015-05-22 16:03:54     1\n 2011-04-26 13:13:42     1\n 2010-06-22 17:25:20     1\n 2015-03-05 17:02:03     1\n 2010-04-15 16:10:19     1\n 2010-08-24 04:27:57     1\nName: time, Length: 263180, dtype: int64"
      ]
     },
     "execution_count": 12,
     "metadata": {},
     "output_type": "execute_result"
    }
   ],
   "source": [
    "df2['time'].value_counts()"
   ]
  },
  {
   "cell_type": "code",
   "execution_count": 13,
   "metadata": {
    "collapsed": true
   },
   "outputs": [
    {
     "name": "stdout",
     "output_type": "stream",
     "text": [
      " 2017-11-20 03:54:03    26\n 2017-11-20 03:54:02    22\n 2013-05-10 10:59:14    18\n 2019-04-08 19:20:46    18\n 2010-09-02 00:23:28    17\n 2010-08-02 09:10:04    16\n 2013-08-19 20:37:37    15\n 2019-04-11 15:30:00    15\n 2019-04-11 23:21:30    14\n 2013-05-09 19:27:38    14\n 2017-11-13 11:47:03    13\n 2019-04-08 19:20:47    13\n 2019-04-11 14:00:00    13\n 2013-05-10 07:23:04    12\n 2019-03-09 15:51:00    12\n 2019-03-07 15:42:10    12\n 2010-09-08 06:04:40    12\n 2013-08-20 03:29:51    12\n 2011-07-07 00:53:27    11\n 2019-01-06 22:27:15    11\n 2013-08-08 15:25:11    11\n 2010-09-08 03:49:42    11\n 2019-04-11 18:04:21    11\n 2017-05-10 13:31:00    11\n 2019-04-08 19:20:48    11\n 2013-05-09 03:31:44    11\n 2013-07-22 12:35:31    11\n 2012-06-19 08:04:28    11\n 2013-03-09 05:00:14    11\n 2019-04-11 15:00:01    10\n                        ..\n 2014-03-18 18:56:56     1\n 2010-02-24 05:18:16     1\n 2010-08-24 06:15:47     1\n 2019-01-31 11:16:42     1\n 2013-07-05 01:37:08     1\n 2010-08-15 23:32:00     1\n 2013-07-06 10:11:41     1\n 2013-07-15 07:39:32     1\n 2010-07-14 09:36:48     1\n 2012-08-08 20:23:27     1\n 2010-10-06 04:08:18     1\n 2018-05-16 11:39:53     1\n 2010-11-07 12:11:31     1\n 2015-08-06 21:45:02     1\n 2019-04-11 19:01:02     1\n 2012-05-17 00:31:07     1\n 2015-09-23 23:51:22     1\n 2010-09-27 06:39:04     1\n 2010-08-15 17:14:17     1\n 2014-07-24 08:03:41     1\n 2016-07-26 23:16:44     1\n 2010-07-15 20:57:24     1\n 2012-02-09 05:45:52     1\n 2019-04-07 07:18:02     1\n 2015-05-22 16:03:54     1\n 2011-04-26 13:13:42     1\n 2010-06-22 17:25:20     1\n 2015-03-05 17:02:03     1\n 2010-04-15 16:10:19     1\n 2010-08-24 04:27:57     1\nName: time, Length: 263180, dtype: int64\n"
     ]
    }
   ],
   "source": [
    "mask=df2['finalurl']!='empty'\n",
    "url=df2.loc[mask] \n",
    "print(url[\"time\"].value_counts())"
   ]
  },
  {
   "cell_type": "code",
   "execution_count": 14,
   "metadata": {
    "collapsed": true
   },
   "outputs": [
    {
     "name": "stdout",
     "output_type": "stream",
     "text": [
      "19928"
     ]
    },
    {
     "name": "stdout",
     "output_type": "stream",
     "text": [
      "\n"
     ]
    },
    {
     "name": "stdout",
     "output_type": "stream",
     "text": [
      "19928"
     ]
    },
    {
     "name": "stdout",
     "output_type": "stream",
     "text": [
      "\n"
     ]
    },
    {
     "name": "stdout",
     "output_type": "stream",
     "text": [
      "19928"
     ]
    },
    {
     "name": "stdout",
     "output_type": "stream",
     "text": [
      "\n"
     ]
    },
    {
     "name": "stdout",
     "output_type": "stream",
     "text": [
      "19928"
     ]
    },
    {
     "name": "stdout",
     "output_type": "stream",
     "text": [
      "\n"
     ]
    },
    {
     "name": "stdout",
     "output_type": "stream",
     "text": [
      "19928"
     ]
    },
    {
     "name": "stdout",
     "output_type": "stream",
     "text": [
      "\n"
     ]
    },
    {
     "name": "stdout",
     "output_type": "stream",
     "text": [
      "19928"
     ]
    },
    {
     "name": "stdout",
     "output_type": "stream",
     "text": [
      "\n"
     ]
    },
    {
     "name": "stdout",
     "output_type": "stream",
     "text": [
      "19928"
     ]
    },
    {
     "name": "stdout",
     "output_type": "stream",
     "text": [
      "\n"
     ]
    },
    {
     "name": "stdout",
     "output_type": "stream",
     "text": [
      "19928"
     ]
    },
    {
     "name": "stdout",
     "output_type": "stream",
     "text": [
      "\n"
     ]
    },
    {
     "name": "stdout",
     "output_type": "stream",
     "text": [
      "19928"
     ]
    },
    {
     "name": "stdout",
     "output_type": "stream",
     "text": [
      "\n"
     ]
    },
    {
     "name": "stdout",
     "output_type": "stream",
     "text": [
      "19928"
     ]
    },
    {
     "name": "stdout",
     "output_type": "stream",
     "text": [
      "\n"
     ]
    },
    {
     "name": "stdout",
     "output_type": "stream",
     "text": [
      "19928"
     ]
    },
    {
     "name": "stdout",
     "output_type": "stream",
     "text": [
      "\n"
     ]
    },
    {
     "name": "stdout",
     "output_type": "stream",
     "text": [
      "19928"
     ]
    },
    {
     "name": "stdout",
     "output_type": "stream",
     "text": [
      "\n"
     ]
    },
    {
     "name": "stdout",
     "output_type": "stream",
     "text": [
      "19928"
     ]
    },
    {
     "name": "stdout",
     "output_type": "stream",
     "text": [
      "\n"
     ]
    },
    {
     "name": "stdout",
     "output_type": "stream",
     "text": [
      "19928"
     ]
    },
    {
     "name": "stdout",
     "output_type": "stream",
     "text": [
      "\n"
     ]
    },
    {
     "name": "stdout",
     "output_type": "stream",
     "text": [
      "19928"
     ]
    },
    {
     "name": "stdout",
     "output_type": "stream",
     "text": [
      "\n"
     ]
    },
    {
     "name": "stdout",
     "output_type": "stream",
     "text": [
      "19928"
     ]
    },
    {
     "name": "stdout",
     "output_type": "stream",
     "text": [
      "\n"
     ]
    },
    {
     "name": "stdout",
     "output_type": "stream",
     "text": [
      "19928"
     ]
    },
    {
     "name": "stdout",
     "output_type": "stream",
     "text": [
      "\n"
     ]
    },
    {
     "name": "stdout",
     "output_type": "stream",
     "text": [
      "19928"
     ]
    },
    {
     "name": "stdout",
     "output_type": "stream",
     "text": [
      "\n"
     ]
    },
    {
     "name": "stdout",
     "output_type": "stream",
     "text": [
      "19928"
     ]
    },
    {
     "name": "stdout",
     "output_type": "stream",
     "text": [
      "\n"
     ]
    },
    {
     "name": "stdout",
     "output_type": "stream",
     "text": [
      "19927"
     ]
    },
    {
     "name": "stdout",
     "output_type": "stream",
     "text": [
      "\n"
     ]
    },
    {
     "name": "stdout",
     "output_type": "stream",
     "text": [
      "0 processor started !"
     ]
    },
    {
     "name": "stdout",
     "output_type": "stream",
     "text": [
      "\n"
     ]
    },
    {
     "name": "stdout",
     "output_type": "stream",
     "text": [
      "1 processor started !"
     ]
    },
    {
     "name": "stdout",
     "output_type": "stream",
     "text": [
      "\n"
     ]
    },
    {
     "name": "stdout",
     "output_type": "stream",
     "text": [
      "2 processor started !"
     ]
    },
    {
     "name": "stdout",
     "output_type": "stream",
     "text": [
      "\n"
     ]
    },
    {
     "name": "stdout",
     "output_type": "stream",
     "text": [
      "3 processor started !"
     ]
    },
    {
     "name": "stdout",
     "output_type": "stream",
     "text": [
      "\n"
     ]
    },
    {
     "name": "stdout",
     "output_type": "stream",
     "text": [
      "4 processor started !"
     ]
    },
    {
     "name": "stdout",
     "output_type": "stream",
     "text": [
      "\n"
     ]
    },
    {
     "name": "stdout",
     "output_type": "stream",
     "text": [
      "5 processor started !"
     ]
    },
    {
     "name": "stdout",
     "output_type": "stream",
     "text": [
      "\n"
     ]
    },
    {
     "name": "stdout",
     "output_type": "stream",
     "text": [
      "6 processor started !"
     ]
    },
    {
     "name": "stdout",
     "output_type": "stream",
     "text": [
      "\n"
     ]
    },
    {
     "name": "stdout",
     "output_type": "stream",
     "text": [
      "7 processor started !"
     ]
    },
    {
     "name": "stdout",
     "output_type": "stream",
     "text": [
      "\n"
     ]
    },
    {
     "name": "stdout",
     "output_type": "stream",
     "text": [
      "8 processor started !"
     ]
    },
    {
     "name": "stdout",
     "output_type": "stream",
     "text": [
      "\n"
     ]
    },
    {
     "name": "stdout",
     "output_type": "stream",
     "text": [
      "9 processor started !"
     ]
    },
    {
     "name": "stdout",
     "output_type": "stream",
     "text": [
      "\n"
     ]
    },
    {
     "name": "stdout",
     "output_type": "stream",
     "text": [
      "10 processor started !"
     ]
    },
    {
     "name": "stdout",
     "output_type": "stream",
     "text": [
      "\n"
     ]
    },
    {
     "name": "stdout",
     "output_type": "stream",
     "text": [
      "11 processor started !"
     ]
    },
    {
     "name": "stdout",
     "output_type": "stream",
     "text": [
      "\n"
     ]
    },
    {
     "name": "stdout",
     "output_type": "stream",
     "text": [
      "12 processor started !"
     ]
    },
    {
     "name": "stdout",
     "output_type": "stream",
     "text": [
      "\n"
     ]
    },
    {
     "name": "stdout",
     "output_type": "stream",
     "text": [
      "13 processor started !"
     ]
    },
    {
     "name": "stdout",
     "output_type": "stream",
     "text": [
      "\n"
     ]
    },
    {
     "name": "stdout",
     "output_type": "stream",
     "text": [
      "14 processor started !"
     ]
    },
    {
     "name": "stdout",
     "output_type": "stream",
     "text": [
      "\n"
     ]
    },
    {
     "name": "stdout",
     "output_type": "stream",
     "text": [
      "15 processor started !"
     ]
    },
    {
     "name": "stdout",
     "output_type": "stream",
     "text": [
      "\n"
     ]
    },
    {
     "name": "stdout",
     "output_type": "stream",
     "text": [
      "16 processor started !"
     ]
    },
    {
     "name": "stdout",
     "output_type": "stream",
     "text": [
      "\n"
     ]
    },
    {
     "name": "stdout",
     "output_type": "stream",
     "text": [
      "17 processor started !"
     ]
    },
    {
     "name": "stdout",
     "output_type": "stream",
     "text": [
      "\n"
     ]
    },
    {
     "name": "stdout",
     "output_type": "stream",
     "text": [
      "18 processor started !"
     ]
    },
    {
     "name": "stdout",
     "output_type": "stream",
     "text": [
      "\n"
     ]
    },
    {
     "name": "stdout",
     "output_type": "stream",
     "text": [
      "19 processor started !"
     ]
    },
    {
     "name": "stdout",
     "output_type": "stream",
     "text": [
      "\n"
     ]
    }
   ],
   "source": [
    "from multiprocessing import Pool\n",
    "from SpamDetection import run\n",
    "import math\n",
    "res= []\n",
    "count=0\n",
    "processor=20\n",
    "p=Pool(processor)\n",
    "l_data = len(df2)\n",
    "size = math.ceil(l_data / processor)\n",
    "\n",
    "\n",
    "for i in range(processor):\n",
    "    start = size * i\n",
    "    end = (i + 1) * size if (i + 1) * size < l_data else l_data\n",
    "    tmp = df2[start:end]\n",
    "    tmp.to_csv('D:/study/Fake/url_'+str(i)+'.csv',index=False)\n",
    "    print(len(tmp))\n",
    "for i in range(processor):\n",
    "    res.append(p.apply_async(run, args=(i,)))\n",
    "    print(str(i) + ' processor started !')\n",
    "p.close()\n",
    "p.join()      \n",
    "print('successful')"
   ]
  },
  {
   "cell_type": "code",
   "execution_count": 15,
   "metadata": {
    "collapsed": true
   },
   "outputs": [
    {
     "name": "stdout",
     "output_type": "stream",
     "text": [
      "[614, ' @BrowneSebright @juliebjornstad I’m a huge fan of protected bike lanes. For me it’s not a matter of whether but wh… ', ' 2019-04-11 04:12:06', 0, 'https://twitter.com/i/web/status/1116192171353186305']"
     ]
    },
    {
     "name": "stdout",
     "output_type": "stream",
     "text": [
      "\n"
     ]
    }
   ],
   "source": [
    "final=[]\n",
    "for i in res:\n",
    "    final+=i.get()\n",
    "print(final[0])\n",
    "\n",
    "\n",
    "# spamfinal=pd.DataFrame(final,columns=['id','text''finlurl',])"
   ]
  },
  {
   "cell_type": "code",
   "execution_count": 16,
   "metadata": {},
   "outputs": [],
   "source": [
    "final=pd.DataFrame(final,columns=['id','text','time','isSpam','finalurl'])"
   ]
  },
  {
   "cell_type": "code",
   "execution_count": null,
   "metadata": {},
   "outputs": [],
   "source": []
  },
  {
   "cell_type": "code",
   "execution_count": 10,
   "metadata": {},
   "outputs": [],
   "source": [
    "mask=df2['finalurl']=='empty'\n",
    "no_url=df2.loc[mask] \n",
    "finaldf=pd.concat([no_url,final],axis=0)"
   ]
  },
  {
   "cell_type": "code",
   "execution_count": 81,
   "metadata": {
    "collapsed": true
   },
   "outputs": [
    {
     "data": {
      "text/plain": [
       " 2017-11-20 03:54:03    26\n 2017-11-20 03:54:02    22\n 2013-05-10 10:59:14    18\n 2019-04-08 19:20:46    18\n 2010-09-02 00:23:28    17\n 2019-04-11 15:30:00    15\n 2013-08-19 20:37:37    15\n 2013-05-09 19:27:38    14\n 2019-04-11 23:21:30    14\n 2019-04-08 19:20:47    13\n 2017-11-13 11:47:03    13\n 2019-03-07 15:42:10    12\n 2010-09-08 06:04:40    12\n 2010-08-02 09:10:04    12\n 2013-05-10 07:23:04    12\n 2013-08-20 03:29:51    12\n 2019-04-08 19:20:48    11\n 2010-09-08 03:49:42    11\n 2013-03-09 05:00:14    11\n 2013-08-08 15:25:11    11\n 2013-07-22 12:35:31    11\n 2012-06-19 08:04:28    11\n 2013-05-09 03:31:44    11\n 2019-01-06 22:27:15    11\n 2017-05-10 13:31:00    11\n 2011-07-07 00:53:27    11\n 2011-03-06 16:51:04    10\n 2011-03-24 15:27:10    10\n 2013-05-08 17:33:17    10\n 2014-08-06 14:56:14    10\n                        ..\n 2012-07-06 21:16:32     1\n 2015-04-08 21:14:51     1\n 2013-03-11 20:37:43     1\n 2016-09-19 02:23:20     1\n 2011-01-09 19:08:25     1\n 2010-09-04 14:58:10     1\n 2019-03-26 13:26:11     1\n 2010-08-02 11:01:13     1\n 2018-06-08 20:01:41     1\n 2013-01-08 22:47:42     1\n 2012-12-28 04:50:07     1\n 2011-08-11 09:24:11     1\n 2019-02-03 17:46:13     1\n 2010-05-21 03:22:21     1\n 2012-03-01 14:11:11     1\n 2013-05-10 02:17:47     1\n 2013-05-07 23:50:22     1\n 2012-10-06 16:39:15     1\n 2010-07-15 17:18:04     1\n 2013-09-30 20:45:34     1\n 2010-09-01 19:04:20     1\n 2010-12-26 22:11:02     1\n 2018-03-28 02:30:59     1\n 2018-08-03 18:12:12     1\n 2014-10-13 01:11:04     1\n 2010-08-28 18:44:15     1\n 2014-01-30 20:54:40     1\n 2010-09-26 03:06:05     1\n 2019-04-01 17:23:40     1\n 2013-05-08 17:00:49     1\nName: time, Length: 245630, dtype: int64"
      ]
     },
     "execution_count": 81,
     "metadata": {},
     "output_type": "execute_result"
    }
   ],
   "source": [
    "finaldf[\"time\"].value_counts()"
   ]
  },
  {
   "cell_type": "code",
   "execution_count": null,
   "metadata": {},
   "outputs": [
    {
     "name": "stdout",
     "output_type": "stream",
     "text": [
      "398559"
     ]
    },
    {
     "name": "stdout",
     "output_type": "stream",
     "text": [
      "\n"
     ]
    }
   ],
   "source": [
    "final.to_csv('D:/study/Fake/honeypot.csv')\n",
    "print(len(final))"
   ]
  },
  {
   "cell_type": "code",
   "execution_count": 2,
   "metadata": {},
   "outputs": [],
   "source": [
    "final=pd.read_csv('D:/study/Fake/honeypot.csv')\n",
    "final.drop(['Unnamed: 0'],axis=1,inplace=True)\n",
    "\n",
    "final.columns=['id','text','time','isSpam','finalurl']"
   ]
  },
  {
   "cell_type": "code",
   "execution_count": 3,
   "metadata": {},
   "outputs": [],
   "source": [
    "import string\n",
    "from nltk.corpus import stopwords\n",
    "stopwords=stopwords.words('english')\n",
    "from nltk.stem.snowball import SnowballStemmer\n",
    "stemmer = SnowballStemmer(\"english\")\n",
    "from nltk.corpus import wordnet\n",
    "def token(text):\n",
    "    tokens=[]\n",
    "    remove_spl_char_regex = re.compile('[%s]' % re.escape(string.punctuation))\n",
    "    text = re.sub('http[s]?://(?:[a-zA-Z]|[0-9]|[$-_@.&+]|[!*(),]|(?:%[0-9a-fA-F][0-9a-fA-F]))+', '',\n",
    "                  text)  # to replace url with ''\n",
    "    text = remove_spl_char_regex.sub(\" \", text)  # Remove special characters\n",
    "    text = text.lower()\n",
    "    for word in text.split():\n",
    "        if word not in stopwords \\\n",
    "                and word not in string.punctuation \\\n",
    "                and len(word) > 2 \\\n",
    "                and word != '``':                  \n",
    "            tokens.append(word)\n",
    "    # stems = [stemmer.stem(t) for t in tokens]\n",
    "    tweet=' '.join(tokens)\n",
    "    return tweet"
   ]
  },
  {
   "cell_type": "code",
   "execution_count": 5,
   "metadata": {},
   "outputs": [],
   "source": [
    "finaldf=final.copy()\n",
    "def findhash(tweet):\n",
    "    count=0\n",
    "    tweet = re.sub('http[s]?://(?:[a-zA-Z]|[0-9]|[$-_@.&+]|[!*(),]|(?:%[0-9a-fA-F][0-9a-fA-F]))+', '',\n",
    "                  tweet)  # to replace url with ''\n",
    "    for i in tweet.split():\n",
    "        if i.startswith(\"#\"):\n",
    "            count+=1\n",
    "    return count\n",
    "def findmention(tweet):\n",
    "    count=0\n",
    "    for i in tweet.split():\n",
    "        if i.startswith(\"@\"):\n",
    "            count+=1\n",
    "    return count\n",
    "finaldf['num_hashtags']=finaldf['text'].apply(findhash)\n",
    "finaldf['num_mentions']=finaldf['text'].apply(findmention)\n",
    "\n",
    "            "
   ]
  },
  {
   "cell_type": "code",
   "execution_count": 7,
   "metadata": {
    "collapsed": true
   },
   "outputs": [],
   "source": [
    "finaldf['text']=finaldf['text'].apply(token)"
   ]
  },
  {
   "cell_type": "code",
   "execution_count": 8,
   "metadata": {
    "collapsed": true
   },
   "outputs": [
    {
     "name": "stdout",
     "output_type": "stream",
     "text": [
      "english    369627\nother       28932\nName: language, dtype: int64\n"
     ]
    }
   ],
   "source": [
    "import re\n",
    "def isenglish(w):\n",
    "\n",
    "    english_check = re.compile(r'[a-z]')\n",
    "\n",
    "    if english_check.match(w):\n",
    "        return \"english\"\n",
    "    else:\n",
    "        return \"other\"\n",
    "\n",
    "\n",
    "finaldf['language']=finaldf['text'].apply(isenglish)\n",
    "print(finaldf['language'].value_counts())\n"
   ]
  },
  {
   "cell_type": "code",
   "execution_count": 87,
   "metadata": {},
   "outputs": [
    {
     "name": "stdout",
     "output_type": "stream",
     "text": [
      "369627"
     ]
    },
    {
     "name": "stdout",
     "output_type": "stream",
     "text": [
      "\n"
     ]
    }
   ],
   "source": [
    "mask=finaldf['language']=='english'\n",
    "finaldf=finaldf.loc[mask]\n",
    "print(len(finaldf))\n",
    "\n"
   ]
  },
  {
   "cell_type": "code",
   "execution_count": 9,
   "metadata": {},
   "outputs": [],
   "source": [
    "#remove empty text\n",
    "mask=finaldf['text'].str.len()==0\n",
    "finaldf.loc[mask,'text'] =np.nan\n",
    "finaldf.dropna(axis=0,inplace=True)"
   ]
  },
  {
   "cell_type": "code",
   "execution_count": 10,
   "metadata": {},
   "outputs": [
    {
     "name": "stdout",
     "output_type": "stream",
     "text": [
      "386373\n"
     ]
    }
   ],
   "source": [
    "print(len(finaldf))\n"
   ]
  },
  {
   "cell_type": "code",
   "execution_count": 11,
   "metadata": {},
   "outputs": [],
   "source": [
    "def extractDomainFromURL(url):\n",
    "    \"\"\"Get domain name from url\"\"\"\n",
    "    from urllib.parse import urlparse\n",
    "    parsed_uri = urlparse(url)\n",
    "    header = '{uri.netloc}'.format(uri=parsed_uri)\n",
    "    domain = '{uri.netloc}'.format(uri=parsed_uri)\n",
    "    return domain\n",
    "finaldf['finalurl']=finaldf['finalurl'].apply(extractDomainFromURL)"
   ]
  },
  {
   "cell_type": "code",
   "execution_count": 12,
   "metadata": {
    "collapsed": true
   },
   "outputs": [
    {
     "data": {
      "text/plain": [
       "twitter.com                                                94876\nwww.youtube.com                                            11294\nwww.instagram.com                                           9179\nwww.facebook.com                                            8508\nt.co\\__CLIENT_ERROR__                                       3678\nwww.hugedomains.com                                         3419\ninstagram.com\\__CLIENT_ERROR__                              3166\nyoutube.com\\__CLIENT_ERROR__                                2968\nssl.clickbank.net                                           2948\namazon.com\\__CLIENT_ERROR__                                 2511\nt.co\\__CONNECTIONPOOL_ERROR__                               2036\npaper.li\\__CLIENT_ERROR__                                   1949\nwww.twittascope.com                                         1870\ntwitter.com\\__CLIENT_ERROR__                                1680\ntrustedshot.com\\__CLIENT_ERROR__                            1559\ntinyurl.com                                                 1543\nfacebook.com\\__CLIENT_ERROR__                               1495\ncli.gs\\__CONNECTIONPOOL_ERROR__                             1449\nwww.google.com                                              1210\npath.com\\__CONNECTIONPOOL_ERROR__                           1066\nt.co                                                        1062\nfllwrs.com                                                   964\nlinkee.com                                                   788\nlnk.ms\\__CONNECTIONPOOL_ERROR__                              788\nsu.pr\\__CONNECTIONPOOL_ERROR__                               787\nlnk.by\\__CONNECTIONPOOL_ERROR__                              775\nbleacherreport.com                                           752\nwww.pinterest.com.au                                         742\nur.ly\\__CLIENT_ERROR__                                       724\nyahoo.com\\__CLIENT_ERROR__                                   721\n                                                           ...  \nwww.sun-sentinel.com\\__CONNECTIONPOOL_ERROR__                  1\nwww.televizier.nl                                              1\nwww.gourmet-blog.de                                            1\nrummagesalecentral.com\\__CONNECTIONPOOL_ERROR__                1\ngolfinstruction.co.nz\\__CLIENT_ERROR__                         1\ncheap-invitations-wedding.com\\__CONNECTIONPOOL_ERROR__         1\nantichristidentity.com                                         1\nwww.nairaland.com                                              1\nwww.ebooksoda.com                                              1\ncoloncleansedeath.com\\__CONNECTIONPOOL_ERROR__                 1\nmodoeficaz.com                                                 1\njoelparko.com\\__CLIENT_ERROR__                                 1\nwww.swlondoner.co.uk\\__CONNECTIONPOOL_ERROR__                  1\nenglewoodreview.org                                            1\nshopfreemart.com\\__CLIENT_ERROR__                              1\nkvue.com\\__CLIENT_ERROR__                                      1\nthe-best-domain-hosting.com\\__CONNECTIONPOOL_ERROR__           1\niol.io\\__CLIENT_ERROR__                                        1\ntop-gadgets.besttop10ideas.com\\__CONNECTIONPOOL_ERROR__        1\nwww.iamstevenmichael.com\\__CONNECTIONPOOL_ERROR__              1\nwww.rakuten.com                                                1\nonlineproductdigital.com\\__CONNECTIONPOOL_ERROR__              1\nnamazu.org                                                     1\nwww.login-hilfe.com                                            1\nwww.surturrising.com\\__CONNECTIONPOOL_ERROR__                  1\ntips-for-losing-weight.org\\__CONNECTIONPOOL_ERROR__            1\nbellacqualake.com\\__CLIENT_ERROR__                             1\nmemoi.com                                                      1\nwikido.com\\__CLIENT_ERROR__                                    1\nfast-affiliate.com\\__CONNECTIONPOOL_ERROR__                    1\nName: finalurl, Length: 36482, dtype: int64"
      ]
     },
     "execution_count": 12,
     "metadata": {},
     "output_type": "execute_result"
    }
   ],
   "source": [
    "df2=finaldf.copy()\n",
    "finaldf['finalurl'].value_counts()"
   ]
  },
  {
   "cell_type": "code",
   "execution_count": 13,
   "metadata": {},
   "outputs": [],
   "source": [
    "\n",
    "mask=finaldf['time'].str.len()>30\n",
    "finaldf.loc[mask,'time'] =np.nan\n",
    "finaldf.dropna(axis=0,inplace=True)"
   ]
  },
  {
   "cell_type": "code",
   "execution_count": 14,
   "metadata": {
    "collapsed": true
   },
   "outputs": [],
   "source": [
    "df2['time']=pd.to_datetime(df2['time'],utc=True).dt.strftime('%Y')\n",
    "df2['time']=df2['time'].astype(int)"
   ]
  },
  {
   "cell_type": "code",
   "execution_count": 15,
   "metadata": {
    "collapsed": true
   },
   "outputs": [
    {
     "name": "stdout",
     "output_type": "stream",
     "text": [
      "                                                     size  index\nfinalurl                                                        \ntwitter.com                                         94876      0\nwww.youtube.com                                     11294      1\nwww.instagram.com                                    9179      2\nwww.facebook.com                                     8508      3\nt.co\\__CLIENT_ERROR__                                3678      4\nwww.hugedomains.com                                  3419      5\ninstagram.com\\__CLIENT_ERROR__                       3166      6\nyoutube.com\\__CLIENT_ERROR__                         2968      7\nssl.clickbank.net                                    2948      8\namazon.com\\__CLIENT_ERROR__                          2511      9\nt.co\\__CONNECTIONPOOL_ERROR__                        2036     10\npaper.li\\__CLIENT_ERROR__                            1949     11\nwww.twittascope.com                                  1870     12\ntwitter.com\\__CLIENT_ERROR__                         1680     13\ntrustedshot.com\\__CLIENT_ERROR__                     1559     14\ntinyurl.com                                          1543     15\nfacebook.com\\__CLIENT_ERROR__                        1495     16\ncli.gs\\__CONNECTIONPOOL_ERROR__                      1449     17\nwww.google.com                                       1210     18\npath.com\\__CONNECTIONPOOL_ERROR__                    1066     19\nt.co                                                 1062     20\nfllwrs.com                                            964     21\nlnk.ms\\__CONNECTIONPOOL_ERROR__                       788     22\nlinkee.com                                            788     23\nsu.pr\\__CONNECTIONPOOL_ERROR__                        787     24\nlnk.by\\__CONNECTIONPOOL_ERROR__                       775     25\nbleacherreport.com                                    752     26\nwww.pinterest.com.au                                  742     27\nur.ly\\__CLIENT_ERROR__                                724     28\nyahoo.com\\__CLIENT_ERROR__                            721     29\n...                                                   ...    ...\nsmlbit.com\\__CLIENT_ERROR__                             1  36452\nsmi.sh\\__CONNECTIONPOOL_ERROR__                         1  36453\nsocial-innovation.hitachi\\__CONNECTIONPOOL_ERROR__      1  36454\nsmdailyjournal.com\\__CLIENT_ERROR__                     1  36455\nsmbceo.com\\__CLIENT_ERROR__                             1  36456\nsmashburger.typeform.com                                1  36457\nsmarturl.it\\__CONNECTIONPOOL_ERROR__                    1  36458\nsmartsport.edublog.iim.bz\\__CONNECTIONPOOL_ERROR__      1  36459\nsmartrecruiters.com\\__CLIENT_ERROR__                    1  36460\nsmartfunnelformula.com\\__CLIENT_ERROR__                 1  36461\nsmudailycampus.com\\__CLIENT_ERROR__                     1  36462\nsn1-p3.myphone.microsoft.com\\__CONNECTIONPOOL_E...      1  36463\nsniminasutki.ru\\__CONNECTIONPOOL_ERROR__                1  36464\nsnip.ly\\__CONNECTIONPOOL_ERROR__                        1  36465\nsociai.me\\__CONNECTIONPOOL_ERROR__                      1  36466\nsoccerladuma.co.za\\__CLIENT_ERROR__                     1  36467\nsoccer.com\\__CLIENT_ERROR__                             1  36468\nsoccer-team-jerseys.net\\__CONNECTIONPOOL_ERROR__        1  36469\nsocalthrills.com\\__CLIENT_ERROR__                       1  36470\nsnuggiestore.com                                        1  36471\nsnuggiesstore.com                                       1  36472\narthritis-remedies.info\\__CONNECTIONPOOL_ERROR__        1  36473\narthritis-supplement.com\\__CONNECTIONPOOL_ERROR__       1  36474\nsnowtoseas.com                                          1  36475\nsnowboard-jacket-store.com\\__CONNECTIONPOOL_ERR...      1  36476\narthritis.top-nichewebsites.com\\__CONNECTIONPOO...      1  36477\nsnipsly.com\\__CONNECTIONPOOL_ERROR__                    1  36478\narthritiscures.org\\__CONNECTIONPOOL_ERROR__             1  36479\nsnippa.co.uk\\__CONNECTIONPOOL_ERROR__                   1  36480\nsmallbusiness.aol.com                                   1  36481\n\n[36482 rows x 2 columns]\n"
     ]
    }
   ],
   "source": [
    "total = pd.DataFrame({'size':df2.groupby('finalurl').size()})\n",
    "\n",
    "total = total.sort_values(['size'], ascending=False)\n",
    "total.reset_index(inplace=True)\n",
    "total['index']=total.index\n",
    "total.set_index(['finalurl'],inplace=True)\n",
    "print(total)\n",
    "\n"
   ]
  },
  {
   "cell_type": "code",
   "execution_count": 16,
   "metadata": {},
   "outputs": [],
   "source": [
    "df2=df2.join(total,on='finalurl')"
   ]
  },
  {
   "cell_type": "code",
   "execution_count": 17,
   "metadata": {
    "collapsed": true
   },
   "outputs": [
    {
     "name": "stdout",
     "output_type": "stream",
     "text": [
      "94876    94876\n2        18162\n1        14450\n20       13580\n11294    11294\n9179      9179\n8508      8508\n4         8404\n3         7026\n6         5430\n19        5168\n5         4945\n18        4500\n8         4232\n7         4151\n12        3960\n3678      3678\n14        3654\n10        3610\n16        3552\n3419      3419\n15        3375\n9         3366\n11        3344\n13        3198\n17        3196\n3166      3166\n2968      2968\n2948      2948\n2511      2511\n         ...  \n180        180\n179        179\n175        175\n174        174\n173        173\n172        172\n170        170\n166        166\n165        165\n164        164\n161        161\n158        158\n152        152\n150        150\n147        147\n145        145\n138        138\n119        119\n118        118\n117        117\n116        116\n114        114\n113        113\n110        110\n105        105\n102        102\n99          99\n97          97\n79          79\n67          67\nName: size, Length: 256, dtype: int64\n"
     ]
    }
   ],
   "source": [
    "print(df2['size'].value_counts())"
   ]
  },
  {
   "cell_type": "code",
   "execution_count": 19,
   "metadata": {},
   "outputs": [
    {
     "name": "stdout",
     "output_type": "stream",
     "text": [
      "174696\n"
     ]
    }
   ],
   "source": [
    "mask=df2['size']<100\n",
    "df2.loc[mask,'size'] =np.nan\n",
    "df2.dropna(inplace=True)\n",
    "print(len(df2))"
   ]
  },
  {
   "cell_type": "code",
   "execution_count": 20,
   "metadata": {},
   "outputs": [],
   "source": []
  },
  {
   "cell_type": "code",
   "execution_count": 20,
   "metadata": {
    "collapsed": true
   },
   "outputs": [
    {
     "name": "stdout",
     "output_type": "stream",
     "text": [
      "174696\n0     94876\n1     11294\n2      9179\n3      8508\n4      3678\n5      3419\n6      3166\n7      2968\n8      2948\n9      2511\n10     2036\n11     1949\n12     1870\n13     1680\n14     1559\n15     1543\n16     1495\n17     1449\n18     1210\n19     1066\n20     1062\n21      964\n22      788\n23      788\n24      787\n25      775\n26      752\n27      742\n28      724\n29      721\n30      640\n31      635\n32      634\n33      632\n34      619\n35      600\n36      599\n37      586\n38      577\n39      550\n40      538\n41      533\n42      528\n43      518\nName: index, dtype: int64\n"
     ]
    }
   ],
   "source": [
    "print(len(df2))\n",
    "print(df2['index'].value_counts())"
   ]
  },
  {
   "cell_type": "code",
   "execution_count": 21,
   "metadata": {},
   "outputs": [
    {
     "name": "stdout",
     "output_type": "stream",
     "text": [
      "Empty DataFrame\nColumns: []\nIndex: []\n"
     ]
    }
   ],
   "source": [
    "from pandas import DataFrame\n",
    "\n",
    "empty: DataFrame=pd.DataFrame()\n",
    "print(empty)"
   ]
  },
  {
   "cell_type": "code",
   "execution_count": 22,
   "metadata": {},
   "outputs": [
    {
     "name": "stdout",
     "output_type": "stream",
     "text": [
      "43\n"
     ]
    }
   ],
   "source": [
    "scope=df2['index'].max()\n",
    "print(scope)\n",
    "\n",
    "w1=0.8\n",
    "w2=0.5\n",
    "w3 = 1"
   ]
  },
  {
   "cell_type": "code",
   "execution_count": 23,
   "metadata": {
    "collapsed": true
   },
   "outputs": [
    {
     "name": "stdout",
     "output_type": "stream",
     "text": [
      "(94876, 2)\n"
     ]
    },
    {
     "name": "stderr",
     "output_type": "stream",
     "text": [
      "D:\\study\\python\\venv\\lib\\site-packages\\ipykernel_launcher.py:35: SettingWithCopyWarning: \nA value is trying to be set on a copy of a slice from a DataFrame.\nTry using .loc[row_indexer,col_indexer] = value instead\n\nSee the caveats in the documentation: http://pandas.pydata.org/pandas-docs/stable/indexing.html#indexing-view-versus-copy\nD:\\study\\python\\venv\\lib\\site-packages\\ipykernel_launcher.py:36: SettingWithCopyWarning: \nA value is trying to be set on a copy of a slice from a DataFrame.\nTry using .loc[row_indexer,col_indexer] = value instead\n\nSee the caveats in the documentation: http://pandas.pydata.org/pandas-docs/stable/indexing.html#indexing-view-versus-copy\nD:\\study\\python\\venv\\lib\\site-packages\\ipykernel_launcher.py:37: SettingWithCopyWarning: \nA value is trying to be set on a copy of a slice from a DataFrame.\nTry using .loc[row_indexer,col_indexer] = value instead\n\nSee the caveats in the documentation: http://pandas.pydata.org/pandas-docs/stable/indexing.html#indexing-view-versus-copy\n"
     ]
    },
    {
     "name": "stdout",
     "output_type": "stream",
     "text": [
      "(11294, 2)\n"
     ]
    },
    {
     "name": "stderr",
     "output_type": "stream",
     "text": [
      "D:\\study\\python\\venv\\lib\\site-packages\\ipykernel_launcher.py:35: SettingWithCopyWarning: \nA value is trying to be set on a copy of a slice from a DataFrame.\nTry using .loc[row_indexer,col_indexer] = value instead\n\nSee the caveats in the documentation: http://pandas.pydata.org/pandas-docs/stable/indexing.html#indexing-view-versus-copy\nD:\\study\\python\\venv\\lib\\site-packages\\ipykernel_launcher.py:36: SettingWithCopyWarning: \nA value is trying to be set on a copy of a slice from a DataFrame.\nTry using .loc[row_indexer,col_indexer] = value instead\n\nSee the caveats in the documentation: http://pandas.pydata.org/pandas-docs/stable/indexing.html#indexing-view-versus-copy\nD:\\study\\python\\venv\\lib\\site-packages\\ipykernel_launcher.py:37: SettingWithCopyWarning: \nA value is trying to be set on a copy of a slice from a DataFrame.\nTry using .loc[row_indexer,col_indexer] = value instead\n\nSee the caveats in the documentation: http://pandas.pydata.org/pandas-docs/stable/indexing.html#indexing-view-versus-copy\n"
     ]
    },
    {
     "name": "stdout",
     "output_type": "stream",
     "text": [
      "(9179, 2)\n"
     ]
    },
    {
     "name": "stderr",
     "output_type": "stream",
     "text": [
      "D:\\study\\python\\venv\\lib\\site-packages\\ipykernel_launcher.py:35: SettingWithCopyWarning: \nA value is trying to be set on a copy of a slice from a DataFrame.\nTry using .loc[row_indexer,col_indexer] = value instead\n\nSee the caveats in the documentation: http://pandas.pydata.org/pandas-docs/stable/indexing.html#indexing-view-versus-copy\nD:\\study\\python\\venv\\lib\\site-packages\\ipykernel_launcher.py:36: SettingWithCopyWarning: \nA value is trying to be set on a copy of a slice from a DataFrame.\nTry using .loc[row_indexer,col_indexer] = value instead\n\nSee the caveats in the documentation: http://pandas.pydata.org/pandas-docs/stable/indexing.html#indexing-view-versus-copy\nD:\\study\\python\\venv\\lib\\site-packages\\ipykernel_launcher.py:37: SettingWithCopyWarning: \nA value is trying to be set on a copy of a slice from a DataFrame.\nTry using .loc[row_indexer,col_indexer] = value instead\n\nSee the caveats in the documentation: http://pandas.pydata.org/pandas-docs/stable/indexing.html#indexing-view-versus-copy\n"
     ]
    },
    {
     "name": "stdout",
     "output_type": "stream",
     "text": [
      "(8508, 2)\n"
     ]
    },
    {
     "name": "stderr",
     "output_type": "stream",
     "text": [
      "D:\\study\\python\\venv\\lib\\site-packages\\ipykernel_launcher.py:35: SettingWithCopyWarning: \nA value is trying to be set on a copy of a slice from a DataFrame.\nTry using .loc[row_indexer,col_indexer] = value instead\n\nSee the caveats in the documentation: http://pandas.pydata.org/pandas-docs/stable/indexing.html#indexing-view-versus-copy\nD:\\study\\python\\venv\\lib\\site-packages\\ipykernel_launcher.py:36: SettingWithCopyWarning: \nA value is trying to be set on a copy of a slice from a DataFrame.\nTry using .loc[row_indexer,col_indexer] = value instead\n\nSee the caveats in the documentation: http://pandas.pydata.org/pandas-docs/stable/indexing.html#indexing-view-versus-copy\nD:\\study\\python\\venv\\lib\\site-packages\\ipykernel_launcher.py:37: SettingWithCopyWarning: \nA value is trying to be set on a copy of a slice from a DataFrame.\nTry using .loc[row_indexer,col_indexer] = value instead\n\nSee the caveats in the documentation: http://pandas.pydata.org/pandas-docs/stable/indexing.html#indexing-view-versus-copy\n"
     ]
    },
    {
     "name": "stdout",
     "output_type": "stream",
     "text": [
      "(3678, 2)\n"
     ]
    },
    {
     "name": "stderr",
     "output_type": "stream",
     "text": [
      "D:\\study\\python\\venv\\lib\\site-packages\\ipykernel_launcher.py:35: SettingWithCopyWarning: \nA value is trying to be set on a copy of a slice from a DataFrame.\nTry using .loc[row_indexer,col_indexer] = value instead\n\nSee the caveats in the documentation: http://pandas.pydata.org/pandas-docs/stable/indexing.html#indexing-view-versus-copy\nD:\\study\\python\\venv\\lib\\site-packages\\ipykernel_launcher.py:36: SettingWithCopyWarning: \nA value is trying to be set on a copy of a slice from a DataFrame.\nTry using .loc[row_indexer,col_indexer] = value instead\n\nSee the caveats in the documentation: http://pandas.pydata.org/pandas-docs/stable/indexing.html#indexing-view-versus-copy\nD:\\study\\python\\venv\\lib\\site-packages\\ipykernel_launcher.py:37: SettingWithCopyWarning: \nA value is trying to be set on a copy of a slice from a DataFrame.\nTry using .loc[row_indexer,col_indexer] = value instead\n\nSee the caveats in the documentation: http://pandas.pydata.org/pandas-docs/stable/indexing.html#indexing-view-versus-copy\n"
     ]
    },
    {
     "name": "stdout",
     "output_type": "stream",
     "text": [
      "(3419, 2)\n"
     ]
    },
    {
     "name": "stderr",
     "output_type": "stream",
     "text": [
      "D:\\study\\python\\venv\\lib\\site-packages\\ipykernel_launcher.py:35: SettingWithCopyWarning: \nA value is trying to be set on a copy of a slice from a DataFrame.\nTry using .loc[row_indexer,col_indexer] = value instead\n\nSee the caveats in the documentation: http://pandas.pydata.org/pandas-docs/stable/indexing.html#indexing-view-versus-copy\nD:\\study\\python\\venv\\lib\\site-packages\\ipykernel_launcher.py:36: SettingWithCopyWarning: \nA value is trying to be set on a copy of a slice from a DataFrame.\nTry using .loc[row_indexer,col_indexer] = value instead\n\nSee the caveats in the documentation: http://pandas.pydata.org/pandas-docs/stable/indexing.html#indexing-view-versus-copy\nD:\\study\\python\\venv\\lib\\site-packages\\ipykernel_launcher.py:37: SettingWithCopyWarning: \nA value is trying to be set on a copy of a slice from a DataFrame.\nTry using .loc[row_indexer,col_indexer] = value instead\n\nSee the caveats in the documentation: http://pandas.pydata.org/pandas-docs/stable/indexing.html#indexing-view-versus-copy\n"
     ]
    },
    {
     "name": "stdout",
     "output_type": "stream",
     "text": [
      "(3166, 2)\n"
     ]
    },
    {
     "name": "stderr",
     "output_type": "stream",
     "text": [
      "D:\\study\\python\\venv\\lib\\site-packages\\ipykernel_launcher.py:35: SettingWithCopyWarning: \nA value is trying to be set on a copy of a slice from a DataFrame.\nTry using .loc[row_indexer,col_indexer] = value instead\n\nSee the caveats in the documentation: http://pandas.pydata.org/pandas-docs/stable/indexing.html#indexing-view-versus-copy\nD:\\study\\python\\venv\\lib\\site-packages\\ipykernel_launcher.py:36: SettingWithCopyWarning: \nA value is trying to be set on a copy of a slice from a DataFrame.\nTry using .loc[row_indexer,col_indexer] = value instead\n\nSee the caveats in the documentation: http://pandas.pydata.org/pandas-docs/stable/indexing.html#indexing-view-versus-copy\nD:\\study\\python\\venv\\lib\\site-packages\\ipykernel_launcher.py:37: SettingWithCopyWarning: \nA value is trying to be set on a copy of a slice from a DataFrame.\nTry using .loc[row_indexer,col_indexer] = value instead\n\nSee the caveats in the documentation: http://pandas.pydata.org/pandas-docs/stable/indexing.html#indexing-view-versus-copy\n"
     ]
    },
    {
     "name": "stdout",
     "output_type": "stream",
     "text": [
      "(2968, 2)\n"
     ]
    },
    {
     "name": "stderr",
     "output_type": "stream",
     "text": [
      "D:\\study\\python\\venv\\lib\\site-packages\\ipykernel_launcher.py:35: SettingWithCopyWarning: \nA value is trying to be set on a copy of a slice from a DataFrame.\nTry using .loc[row_indexer,col_indexer] = value instead\n\nSee the caveats in the documentation: http://pandas.pydata.org/pandas-docs/stable/indexing.html#indexing-view-versus-copy\nD:\\study\\python\\venv\\lib\\site-packages\\ipykernel_launcher.py:36: SettingWithCopyWarning: \nA value is trying to be set on a copy of a slice from a DataFrame.\nTry using .loc[row_indexer,col_indexer] = value instead\n\nSee the caveats in the documentation: http://pandas.pydata.org/pandas-docs/stable/indexing.html#indexing-view-versus-copy\nD:\\study\\python\\venv\\lib\\site-packages\\ipykernel_launcher.py:37: SettingWithCopyWarning: \nA value is trying to be set on a copy of a slice from a DataFrame.\nTry using .loc[row_indexer,col_indexer] = value instead\n\nSee the caveats in the documentation: http://pandas.pydata.org/pandas-docs/stable/indexing.html#indexing-view-versus-copy\n"
     ]
    },
    {
     "name": "stdout",
     "output_type": "stream",
     "text": [
      "(2948, 2)\n"
     ]
    },
    {
     "name": "stderr",
     "output_type": "stream",
     "text": [
      "D:\\study\\python\\venv\\lib\\site-packages\\ipykernel_launcher.py:35: SettingWithCopyWarning: \nA value is trying to be set on a copy of a slice from a DataFrame.\nTry using .loc[row_indexer,col_indexer] = value instead\n\nSee the caveats in the documentation: http://pandas.pydata.org/pandas-docs/stable/indexing.html#indexing-view-versus-copy\nD:\\study\\python\\venv\\lib\\site-packages\\ipykernel_launcher.py:36: SettingWithCopyWarning: \nA value is trying to be set on a copy of a slice from a DataFrame.\nTry using .loc[row_indexer,col_indexer] = value instead\n\nSee the caveats in the documentation: http://pandas.pydata.org/pandas-docs/stable/indexing.html#indexing-view-versus-copy\nD:\\study\\python\\venv\\lib\\site-packages\\ipykernel_launcher.py:37: SettingWithCopyWarning: \nA value is trying to be set on a copy of a slice from a DataFrame.\nTry using .loc[row_indexer,col_indexer] = value instead\n\nSee the caveats in the documentation: http://pandas.pydata.org/pandas-docs/stable/indexing.html#indexing-view-versus-copy\n"
     ]
    },
    {
     "name": "stdout",
     "output_type": "stream",
     "text": [
      "(2511, 2)\n"
     ]
    },
    {
     "name": "stderr",
     "output_type": "stream",
     "text": [
      "D:\\study\\python\\venv\\lib\\site-packages\\ipykernel_launcher.py:35: SettingWithCopyWarning: \nA value is trying to be set on a copy of a slice from a DataFrame.\nTry using .loc[row_indexer,col_indexer] = value instead\n\nSee the caveats in the documentation: http://pandas.pydata.org/pandas-docs/stable/indexing.html#indexing-view-versus-copy\nD:\\study\\python\\venv\\lib\\site-packages\\ipykernel_launcher.py:36: SettingWithCopyWarning: \nA value is trying to be set on a copy of a slice from a DataFrame.\nTry using .loc[row_indexer,col_indexer] = value instead\n\nSee the caveats in the documentation: http://pandas.pydata.org/pandas-docs/stable/indexing.html#indexing-view-versus-copy\nD:\\study\\python\\venv\\lib\\site-packages\\ipykernel_launcher.py:37: SettingWithCopyWarning: \nA value is trying to be set on a copy of a slice from a DataFrame.\nTry using .loc[row_indexer,col_indexer] = value instead\n\nSee the caveats in the documentation: http://pandas.pydata.org/pandas-docs/stable/indexing.html#indexing-view-versus-copy\n"
     ]
    },
    {
     "name": "stdout",
     "output_type": "stream",
     "text": [
      "(2036, 2)\n"
     ]
    },
    {
     "name": "stderr",
     "output_type": "stream",
     "text": [
      "D:\\study\\python\\venv\\lib\\site-packages\\ipykernel_launcher.py:35: SettingWithCopyWarning: \nA value is trying to be set on a copy of a slice from a DataFrame.\nTry using .loc[row_indexer,col_indexer] = value instead\n\nSee the caveats in the documentation: http://pandas.pydata.org/pandas-docs/stable/indexing.html#indexing-view-versus-copy\nD:\\study\\python\\venv\\lib\\site-packages\\ipykernel_launcher.py:36: SettingWithCopyWarning: \nA value is trying to be set on a copy of a slice from a DataFrame.\nTry using .loc[row_indexer,col_indexer] = value instead\n\nSee the caveats in the documentation: http://pandas.pydata.org/pandas-docs/stable/indexing.html#indexing-view-versus-copy\nD:\\study\\python\\venv\\lib\\site-packages\\ipykernel_launcher.py:37: SettingWithCopyWarning: \nA value is trying to be set on a copy of a slice from a DataFrame.\nTry using .loc[row_indexer,col_indexer] = value instead\n\nSee the caveats in the documentation: http://pandas.pydata.org/pandas-docs/stable/indexing.html#indexing-view-versus-copy\n"
     ]
    },
    {
     "name": "stdout",
     "output_type": "stream",
     "text": [
      "(1949, 2)\n"
     ]
    },
    {
     "name": "stderr",
     "output_type": "stream",
     "text": [
      "D:\\study\\python\\venv\\lib\\site-packages\\ipykernel_launcher.py:35: SettingWithCopyWarning: \nA value is trying to be set on a copy of a slice from a DataFrame.\nTry using .loc[row_indexer,col_indexer] = value instead\n\nSee the caveats in the documentation: http://pandas.pydata.org/pandas-docs/stable/indexing.html#indexing-view-versus-copy\nD:\\study\\python\\venv\\lib\\site-packages\\ipykernel_launcher.py:36: SettingWithCopyWarning: \nA value is trying to be set on a copy of a slice from a DataFrame.\nTry using .loc[row_indexer,col_indexer] = value instead\n\nSee the caveats in the documentation: http://pandas.pydata.org/pandas-docs/stable/indexing.html#indexing-view-versus-copy\nD:\\study\\python\\venv\\lib\\site-packages\\ipykernel_launcher.py:37: SettingWithCopyWarning: \nA value is trying to be set on a copy of a slice from a DataFrame.\nTry using .loc[row_indexer,col_indexer] = value instead\n\nSee the caveats in the documentation: http://pandas.pydata.org/pandas-docs/stable/indexing.html#indexing-view-versus-copy\n"
     ]
    },
    {
     "name": "stdout",
     "output_type": "stream",
     "text": [
      "(1870, 2)\n"
     ]
    },
    {
     "name": "stderr",
     "output_type": "stream",
     "text": [
      "D:\\study\\python\\venv\\lib\\site-packages\\ipykernel_launcher.py:35: SettingWithCopyWarning: \nA value is trying to be set on a copy of a slice from a DataFrame.\nTry using .loc[row_indexer,col_indexer] = value instead\n\nSee the caveats in the documentation: http://pandas.pydata.org/pandas-docs/stable/indexing.html#indexing-view-versus-copy\nD:\\study\\python\\venv\\lib\\site-packages\\ipykernel_launcher.py:36: SettingWithCopyWarning: \nA value is trying to be set on a copy of a slice from a DataFrame.\nTry using .loc[row_indexer,col_indexer] = value instead\n\nSee the caveats in the documentation: http://pandas.pydata.org/pandas-docs/stable/indexing.html#indexing-view-versus-copy\nD:\\study\\python\\venv\\lib\\site-packages\\ipykernel_launcher.py:37: SettingWithCopyWarning: \nA value is trying to be set on a copy of a slice from a DataFrame.\nTry using .loc[row_indexer,col_indexer] = value instead\n\nSee the caveats in the documentation: http://pandas.pydata.org/pandas-docs/stable/indexing.html#indexing-view-versus-copy\n"
     ]
    },
    {
     "name": "stdout",
     "output_type": "stream",
     "text": [
      "(1680, 2)\n"
     ]
    },
    {
     "name": "stderr",
     "output_type": "stream",
     "text": [
      "D:\\study\\python\\venv\\lib\\site-packages\\ipykernel_launcher.py:35: SettingWithCopyWarning: \nA value is trying to be set on a copy of a slice from a DataFrame.\nTry using .loc[row_indexer,col_indexer] = value instead\n\nSee the caveats in the documentation: http://pandas.pydata.org/pandas-docs/stable/indexing.html#indexing-view-versus-copy\nD:\\study\\python\\venv\\lib\\site-packages\\ipykernel_launcher.py:36: SettingWithCopyWarning: \nA value is trying to be set on a copy of a slice from a DataFrame.\nTry using .loc[row_indexer,col_indexer] = value instead\n\nSee the caveats in the documentation: http://pandas.pydata.org/pandas-docs/stable/indexing.html#indexing-view-versus-copy\nD:\\study\\python\\venv\\lib\\site-packages\\ipykernel_launcher.py:37: SettingWithCopyWarning: \nA value is trying to be set on a copy of a slice from a DataFrame.\nTry using .loc[row_indexer,col_indexer] = value instead\n\nSee the caveats in the documentation: http://pandas.pydata.org/pandas-docs/stable/indexing.html#indexing-view-versus-copy\n"
     ]
    },
    {
     "name": "stdout",
     "output_type": "stream",
     "text": [
      "(1559, 2)\n"
     ]
    },
    {
     "name": "stderr",
     "output_type": "stream",
     "text": [
      "D:\\study\\python\\venv\\lib\\site-packages\\ipykernel_launcher.py:35: SettingWithCopyWarning: \nA value is trying to be set on a copy of a slice from a DataFrame.\nTry using .loc[row_indexer,col_indexer] = value instead\n\nSee the caveats in the documentation: http://pandas.pydata.org/pandas-docs/stable/indexing.html#indexing-view-versus-copy\nD:\\study\\python\\venv\\lib\\site-packages\\ipykernel_launcher.py:36: SettingWithCopyWarning: \nA value is trying to be set on a copy of a slice from a DataFrame.\nTry using .loc[row_indexer,col_indexer] = value instead\n\nSee the caveats in the documentation: http://pandas.pydata.org/pandas-docs/stable/indexing.html#indexing-view-versus-copy\nD:\\study\\python\\venv\\lib\\site-packages\\ipykernel_launcher.py:37: SettingWithCopyWarning: \nA value is trying to be set on a copy of a slice from a DataFrame.\nTry using .loc[row_indexer,col_indexer] = value instead\n\nSee the caveats in the documentation: http://pandas.pydata.org/pandas-docs/stable/indexing.html#indexing-view-versus-copy\n"
     ]
    },
    {
     "name": "stdout",
     "output_type": "stream",
     "text": [
      "(1543, 2)\n"
     ]
    },
    {
     "name": "stderr",
     "output_type": "stream",
     "text": [
      "D:\\study\\python\\venv\\lib\\site-packages\\ipykernel_launcher.py:35: SettingWithCopyWarning: \nA value is trying to be set on a copy of a slice from a DataFrame.\nTry using .loc[row_indexer,col_indexer] = value instead\n\nSee the caveats in the documentation: http://pandas.pydata.org/pandas-docs/stable/indexing.html#indexing-view-versus-copy\nD:\\study\\python\\venv\\lib\\site-packages\\ipykernel_launcher.py:36: SettingWithCopyWarning: \nA value is trying to be set on a copy of a slice from a DataFrame.\nTry using .loc[row_indexer,col_indexer] = value instead\n\nSee the caveats in the documentation: http://pandas.pydata.org/pandas-docs/stable/indexing.html#indexing-view-versus-copy\nD:\\study\\python\\venv\\lib\\site-packages\\ipykernel_launcher.py:37: SettingWithCopyWarning: \nA value is trying to be set on a copy of a slice from a DataFrame.\nTry using .loc[row_indexer,col_indexer] = value instead\n\nSee the caveats in the documentation: http://pandas.pydata.org/pandas-docs/stable/indexing.html#indexing-view-versus-copy\n"
     ]
    },
    {
     "name": "stdout",
     "output_type": "stream",
     "text": [
      "(1495, 2)\n"
     ]
    },
    {
     "name": "stderr",
     "output_type": "stream",
     "text": [
      "D:\\study\\python\\venv\\lib\\site-packages\\ipykernel_launcher.py:35: SettingWithCopyWarning: \nA value is trying to be set on a copy of a slice from a DataFrame.\nTry using .loc[row_indexer,col_indexer] = value instead\n\nSee the caveats in the documentation: http://pandas.pydata.org/pandas-docs/stable/indexing.html#indexing-view-versus-copy\nD:\\study\\python\\venv\\lib\\site-packages\\ipykernel_launcher.py:36: SettingWithCopyWarning: \nA value is trying to be set on a copy of a slice from a DataFrame.\nTry using .loc[row_indexer,col_indexer] = value instead\n\nSee the caveats in the documentation: http://pandas.pydata.org/pandas-docs/stable/indexing.html#indexing-view-versus-copy\nD:\\study\\python\\venv\\lib\\site-packages\\ipykernel_launcher.py:37: SettingWithCopyWarning: \nA value is trying to be set on a copy of a slice from a DataFrame.\nTry using .loc[row_indexer,col_indexer] = value instead\n\nSee the caveats in the documentation: http://pandas.pydata.org/pandas-docs/stable/indexing.html#indexing-view-versus-copy\n"
     ]
    },
    {
     "name": "stdout",
     "output_type": "stream",
     "text": [
      "(1449, 2)\n"
     ]
    },
    {
     "name": "stderr",
     "output_type": "stream",
     "text": [
      "D:\\study\\python\\venv\\lib\\site-packages\\ipykernel_launcher.py:35: SettingWithCopyWarning: \nA value is trying to be set on a copy of a slice from a DataFrame.\nTry using .loc[row_indexer,col_indexer] = value instead\n\nSee the caveats in the documentation: http://pandas.pydata.org/pandas-docs/stable/indexing.html#indexing-view-versus-copy\nD:\\study\\python\\venv\\lib\\site-packages\\ipykernel_launcher.py:36: SettingWithCopyWarning: \nA value is trying to be set on a copy of a slice from a DataFrame.\nTry using .loc[row_indexer,col_indexer] = value instead\n\nSee the caveats in the documentation: http://pandas.pydata.org/pandas-docs/stable/indexing.html#indexing-view-versus-copy\nD:\\study\\python\\venv\\lib\\site-packages\\ipykernel_launcher.py:37: SettingWithCopyWarning: \nA value is trying to be set on a copy of a slice from a DataFrame.\nTry using .loc[row_indexer,col_indexer] = value instead\n\nSee the caveats in the documentation: http://pandas.pydata.org/pandas-docs/stable/indexing.html#indexing-view-versus-copy\n"
     ]
    },
    {
     "name": "stdout",
     "output_type": "stream",
     "text": [
      "(1210, 2)\n"
     ]
    },
    {
     "name": "stderr",
     "output_type": "stream",
     "text": [
      "D:\\study\\python\\venv\\lib\\site-packages\\ipykernel_launcher.py:35: SettingWithCopyWarning: \nA value is trying to be set on a copy of a slice from a DataFrame.\nTry using .loc[row_indexer,col_indexer] = value instead\n\nSee the caveats in the documentation: http://pandas.pydata.org/pandas-docs/stable/indexing.html#indexing-view-versus-copy\nD:\\study\\python\\venv\\lib\\site-packages\\ipykernel_launcher.py:36: SettingWithCopyWarning: \nA value is trying to be set on a copy of a slice from a DataFrame.\nTry using .loc[row_indexer,col_indexer] = value instead\n\nSee the caveats in the documentation: http://pandas.pydata.org/pandas-docs/stable/indexing.html#indexing-view-versus-copy\nD:\\study\\python\\venv\\lib\\site-packages\\ipykernel_launcher.py:37: SettingWithCopyWarning: \nA value is trying to be set on a copy of a slice from a DataFrame.\nTry using .loc[row_indexer,col_indexer] = value instead\n\nSee the caveats in the documentation: http://pandas.pydata.org/pandas-docs/stable/indexing.html#indexing-view-versus-copy\n"
     ]
    },
    {
     "name": "stdout",
     "output_type": "stream",
     "text": [
      "(1066, 2)\n"
     ]
    },
    {
     "name": "stderr",
     "output_type": "stream",
     "text": [
      "D:\\study\\python\\venv\\lib\\site-packages\\ipykernel_launcher.py:35: SettingWithCopyWarning: \nA value is trying to be set on a copy of a slice from a DataFrame.\nTry using .loc[row_indexer,col_indexer] = value instead\n\nSee the caveats in the documentation: http://pandas.pydata.org/pandas-docs/stable/indexing.html#indexing-view-versus-copy\nD:\\study\\python\\venv\\lib\\site-packages\\ipykernel_launcher.py:36: SettingWithCopyWarning: \nA value is trying to be set on a copy of a slice from a DataFrame.\nTry using .loc[row_indexer,col_indexer] = value instead\n\nSee the caveats in the documentation: http://pandas.pydata.org/pandas-docs/stable/indexing.html#indexing-view-versus-copy\nD:\\study\\python\\venv\\lib\\site-packages\\ipykernel_launcher.py:37: SettingWithCopyWarning: \nA value is trying to be set on a copy of a slice from a DataFrame.\nTry using .loc[row_indexer,col_indexer] = value instead\n\nSee the caveats in the documentation: http://pandas.pydata.org/pandas-docs/stable/indexing.html#indexing-view-versus-copy\n"
     ]
    },
    {
     "name": "stdout",
     "output_type": "stream",
     "text": [
      "(1062, 2)\n"
     ]
    },
    {
     "name": "stderr",
     "output_type": "stream",
     "text": [
      "D:\\study\\python\\venv\\lib\\site-packages\\ipykernel_launcher.py:35: SettingWithCopyWarning: \nA value is trying to be set on a copy of a slice from a DataFrame.\nTry using .loc[row_indexer,col_indexer] = value instead\n\nSee the caveats in the documentation: http://pandas.pydata.org/pandas-docs/stable/indexing.html#indexing-view-versus-copy\nD:\\study\\python\\venv\\lib\\site-packages\\ipykernel_launcher.py:36: SettingWithCopyWarning: \nA value is trying to be set on a copy of a slice from a DataFrame.\nTry using .loc[row_indexer,col_indexer] = value instead\n\nSee the caveats in the documentation: http://pandas.pydata.org/pandas-docs/stable/indexing.html#indexing-view-versus-copy\nD:\\study\\python\\venv\\lib\\site-packages\\ipykernel_launcher.py:37: SettingWithCopyWarning: \nA value is trying to be set on a copy of a slice from a DataFrame.\nTry using .loc[row_indexer,col_indexer] = value instead\n\nSee the caveats in the documentation: http://pandas.pydata.org/pandas-docs/stable/indexing.html#indexing-view-versus-copy\n"
     ]
    },
    {
     "name": "stdout",
     "output_type": "stream",
     "text": [
      "(964, 2)\n"
     ]
    },
    {
     "name": "stderr",
     "output_type": "stream",
     "text": [
      "D:\\study\\python\\venv\\lib\\site-packages\\ipykernel_launcher.py:35: SettingWithCopyWarning: \nA value is trying to be set on a copy of a slice from a DataFrame.\nTry using .loc[row_indexer,col_indexer] = value instead\n\nSee the caveats in the documentation: http://pandas.pydata.org/pandas-docs/stable/indexing.html#indexing-view-versus-copy\nD:\\study\\python\\venv\\lib\\site-packages\\ipykernel_launcher.py:36: SettingWithCopyWarning: \nA value is trying to be set on a copy of a slice from a DataFrame.\nTry using .loc[row_indexer,col_indexer] = value instead\n\nSee the caveats in the documentation: http://pandas.pydata.org/pandas-docs/stable/indexing.html#indexing-view-versus-copy\nD:\\study\\python\\venv\\lib\\site-packages\\ipykernel_launcher.py:37: SettingWithCopyWarning: \nA value is trying to be set on a copy of a slice from a DataFrame.\nTry using .loc[row_indexer,col_indexer] = value instead\n\nSee the caveats in the documentation: http://pandas.pydata.org/pandas-docs/stable/indexing.html#indexing-view-versus-copy\n"
     ]
    },
    {
     "name": "stdout",
     "output_type": "stream",
     "text": [
      "(788, 2)\n"
     ]
    },
    {
     "name": "stderr",
     "output_type": "stream",
     "text": [
      "D:\\study\\python\\venv\\lib\\site-packages\\ipykernel_launcher.py:35: SettingWithCopyWarning: \nA value is trying to be set on a copy of a slice from a DataFrame.\nTry using .loc[row_indexer,col_indexer] = value instead\n\nSee the caveats in the documentation: http://pandas.pydata.org/pandas-docs/stable/indexing.html#indexing-view-versus-copy\nD:\\study\\python\\venv\\lib\\site-packages\\ipykernel_launcher.py:36: SettingWithCopyWarning: \nA value is trying to be set on a copy of a slice from a DataFrame.\nTry using .loc[row_indexer,col_indexer] = value instead\n\nSee the caveats in the documentation: http://pandas.pydata.org/pandas-docs/stable/indexing.html#indexing-view-versus-copy\nD:\\study\\python\\venv\\lib\\site-packages\\ipykernel_launcher.py:37: SettingWithCopyWarning: \nA value is trying to be set on a copy of a slice from a DataFrame.\nTry using .loc[row_indexer,col_indexer] = value instead\n\nSee the caveats in the documentation: http://pandas.pydata.org/pandas-docs/stable/indexing.html#indexing-view-versus-copy\n"
     ]
    },
    {
     "name": "stdout",
     "output_type": "stream",
     "text": [
      "(788, 2)\n"
     ]
    },
    {
     "name": "stderr",
     "output_type": "stream",
     "text": [
      "D:\\study\\python\\venv\\lib\\site-packages\\ipykernel_launcher.py:35: SettingWithCopyWarning: \nA value is trying to be set on a copy of a slice from a DataFrame.\nTry using .loc[row_indexer,col_indexer] = value instead\n\nSee the caveats in the documentation: http://pandas.pydata.org/pandas-docs/stable/indexing.html#indexing-view-versus-copy\nD:\\study\\python\\venv\\lib\\site-packages\\ipykernel_launcher.py:36: SettingWithCopyWarning: \nA value is trying to be set on a copy of a slice from a DataFrame.\nTry using .loc[row_indexer,col_indexer] = value instead\n\nSee the caveats in the documentation: http://pandas.pydata.org/pandas-docs/stable/indexing.html#indexing-view-versus-copy\nD:\\study\\python\\venv\\lib\\site-packages\\ipykernel_launcher.py:37: SettingWithCopyWarning: \nA value is trying to be set on a copy of a slice from a DataFrame.\nTry using .loc[row_indexer,col_indexer] = value instead\n\nSee the caveats in the documentation: http://pandas.pydata.org/pandas-docs/stable/indexing.html#indexing-view-versus-copy\n"
     ]
    },
    {
     "name": "stdout",
     "output_type": "stream",
     "text": [
      "(787, 2)\n"
     ]
    },
    {
     "name": "stderr",
     "output_type": "stream",
     "text": [
      "D:\\study\\python\\venv\\lib\\site-packages\\ipykernel_launcher.py:35: SettingWithCopyWarning: \nA value is trying to be set on a copy of a slice from a DataFrame.\nTry using .loc[row_indexer,col_indexer] = value instead\n\nSee the caveats in the documentation: http://pandas.pydata.org/pandas-docs/stable/indexing.html#indexing-view-versus-copy\nD:\\study\\python\\venv\\lib\\site-packages\\ipykernel_launcher.py:36: SettingWithCopyWarning: \nA value is trying to be set on a copy of a slice from a DataFrame.\nTry using .loc[row_indexer,col_indexer] = value instead\n\nSee the caveats in the documentation: http://pandas.pydata.org/pandas-docs/stable/indexing.html#indexing-view-versus-copy\nD:\\study\\python\\venv\\lib\\site-packages\\ipykernel_launcher.py:37: SettingWithCopyWarning: \nA value is trying to be set on a copy of a slice from a DataFrame.\nTry using .loc[row_indexer,col_indexer] = value instead\n\nSee the caveats in the documentation: http://pandas.pydata.org/pandas-docs/stable/indexing.html#indexing-view-versus-copy\n"
     ]
    },
    {
     "name": "stdout",
     "output_type": "stream",
     "text": [
      "(775, 2)\n"
     ]
    },
    {
     "name": "stderr",
     "output_type": "stream",
     "text": [
      "D:\\study\\python\\venv\\lib\\site-packages\\ipykernel_launcher.py:35: SettingWithCopyWarning: \nA value is trying to be set on a copy of a slice from a DataFrame.\nTry using .loc[row_indexer,col_indexer] = value instead\n\nSee the caveats in the documentation: http://pandas.pydata.org/pandas-docs/stable/indexing.html#indexing-view-versus-copy\nD:\\study\\python\\venv\\lib\\site-packages\\ipykernel_launcher.py:36: SettingWithCopyWarning: \nA value is trying to be set on a copy of a slice from a DataFrame.\nTry using .loc[row_indexer,col_indexer] = value instead\n\nSee the caveats in the documentation: http://pandas.pydata.org/pandas-docs/stable/indexing.html#indexing-view-versus-copy\nD:\\study\\python\\venv\\lib\\site-packages\\ipykernel_launcher.py:37: SettingWithCopyWarning: \nA value is trying to be set on a copy of a slice from a DataFrame.\nTry using .loc[row_indexer,col_indexer] = value instead\n\nSee the caveats in the documentation: http://pandas.pydata.org/pandas-docs/stable/indexing.html#indexing-view-versus-copy\n"
     ]
    },
    {
     "name": "stdout",
     "output_type": "stream",
     "text": [
      "(752, 2)\n"
     ]
    },
    {
     "name": "stderr",
     "output_type": "stream",
     "text": [
      "D:\\study\\python\\venv\\lib\\site-packages\\ipykernel_launcher.py:35: SettingWithCopyWarning: \nA value is trying to be set on a copy of a slice from a DataFrame.\nTry using .loc[row_indexer,col_indexer] = value instead\n\nSee the caveats in the documentation: http://pandas.pydata.org/pandas-docs/stable/indexing.html#indexing-view-versus-copy\nD:\\study\\python\\venv\\lib\\site-packages\\ipykernel_launcher.py:36: SettingWithCopyWarning: \nA value is trying to be set on a copy of a slice from a DataFrame.\nTry using .loc[row_indexer,col_indexer] = value instead\n\nSee the caveats in the documentation: http://pandas.pydata.org/pandas-docs/stable/indexing.html#indexing-view-versus-copy\nD:\\study\\python\\venv\\lib\\site-packages\\ipykernel_launcher.py:37: SettingWithCopyWarning: \nA value is trying to be set on a copy of a slice from a DataFrame.\nTry using .loc[row_indexer,col_indexer] = value instead\n\nSee the caveats in the documentation: http://pandas.pydata.org/pandas-docs/stable/indexing.html#indexing-view-versus-copy\n"
     ]
    },
    {
     "name": "stdout",
     "output_type": "stream",
     "text": [
      "(742, 2)\n"
     ]
    },
    {
     "name": "stderr",
     "output_type": "stream",
     "text": [
      "D:\\study\\python\\venv\\lib\\site-packages\\ipykernel_launcher.py:35: SettingWithCopyWarning: \nA value is trying to be set on a copy of a slice from a DataFrame.\nTry using .loc[row_indexer,col_indexer] = value instead\n\nSee the caveats in the documentation: http://pandas.pydata.org/pandas-docs/stable/indexing.html#indexing-view-versus-copy\nD:\\study\\python\\venv\\lib\\site-packages\\ipykernel_launcher.py:36: SettingWithCopyWarning: \nA value is trying to be set on a copy of a slice from a DataFrame.\nTry using .loc[row_indexer,col_indexer] = value instead\n\nSee the caveats in the documentation: http://pandas.pydata.org/pandas-docs/stable/indexing.html#indexing-view-versus-copy\nD:\\study\\python\\venv\\lib\\site-packages\\ipykernel_launcher.py:37: SettingWithCopyWarning: \nA value is trying to be set on a copy of a slice from a DataFrame.\nTry using .loc[row_indexer,col_indexer] = value instead\n\nSee the caveats in the documentation: http://pandas.pydata.org/pandas-docs/stable/indexing.html#indexing-view-versus-copy\n"
     ]
    },
    {
     "name": "stdout",
     "output_type": "stream",
     "text": [
      "(724, 2)\n"
     ]
    },
    {
     "name": "stderr",
     "output_type": "stream",
     "text": [
      "D:\\study\\python\\venv\\lib\\site-packages\\ipykernel_launcher.py:35: SettingWithCopyWarning: \nA value is trying to be set on a copy of a slice from a DataFrame.\nTry using .loc[row_indexer,col_indexer] = value instead\n\nSee the caveats in the documentation: http://pandas.pydata.org/pandas-docs/stable/indexing.html#indexing-view-versus-copy\nD:\\study\\python\\venv\\lib\\site-packages\\ipykernel_launcher.py:36: SettingWithCopyWarning: \nA value is trying to be set on a copy of a slice from a DataFrame.\nTry using .loc[row_indexer,col_indexer] = value instead\n\nSee the caveats in the documentation: http://pandas.pydata.org/pandas-docs/stable/indexing.html#indexing-view-versus-copy\nD:\\study\\python\\venv\\lib\\site-packages\\ipykernel_launcher.py:37: SettingWithCopyWarning: \nA value is trying to be set on a copy of a slice from a DataFrame.\nTry using .loc[row_indexer,col_indexer] = value instead\n\nSee the caveats in the documentation: http://pandas.pydata.org/pandas-docs/stable/indexing.html#indexing-view-versus-copy\n"
     ]
    },
    {
     "name": "stdout",
     "output_type": "stream",
     "text": [
      "(721, 2)\n"
     ]
    },
    {
     "name": "stderr",
     "output_type": "stream",
     "text": [
      "D:\\study\\python\\venv\\lib\\site-packages\\ipykernel_launcher.py:35: SettingWithCopyWarning: \nA value is trying to be set on a copy of a slice from a DataFrame.\nTry using .loc[row_indexer,col_indexer] = value instead\n\nSee the caveats in the documentation: http://pandas.pydata.org/pandas-docs/stable/indexing.html#indexing-view-versus-copy\nD:\\study\\python\\venv\\lib\\site-packages\\ipykernel_launcher.py:36: SettingWithCopyWarning: \nA value is trying to be set on a copy of a slice from a DataFrame.\nTry using .loc[row_indexer,col_indexer] = value instead\n\nSee the caveats in the documentation: http://pandas.pydata.org/pandas-docs/stable/indexing.html#indexing-view-versus-copy\nD:\\study\\python\\venv\\lib\\site-packages\\ipykernel_launcher.py:37: SettingWithCopyWarning: \nA value is trying to be set on a copy of a slice from a DataFrame.\nTry using .loc[row_indexer,col_indexer] = value instead\n\nSee the caveats in the documentation: http://pandas.pydata.org/pandas-docs/stable/indexing.html#indexing-view-versus-copy\n"
     ]
    },
    {
     "name": "stdout",
     "output_type": "stream",
     "text": [
      "(640, 2)\n"
     ]
    },
    {
     "name": "stderr",
     "output_type": "stream",
     "text": [
      "D:\\study\\python\\venv\\lib\\site-packages\\ipykernel_launcher.py:35: SettingWithCopyWarning: \nA value is trying to be set on a copy of a slice from a DataFrame.\nTry using .loc[row_indexer,col_indexer] = value instead\n\nSee the caveats in the documentation: http://pandas.pydata.org/pandas-docs/stable/indexing.html#indexing-view-versus-copy\nD:\\study\\python\\venv\\lib\\site-packages\\ipykernel_launcher.py:36: SettingWithCopyWarning: \nA value is trying to be set on a copy of a slice from a DataFrame.\nTry using .loc[row_indexer,col_indexer] = value instead\n\nSee the caveats in the documentation: http://pandas.pydata.org/pandas-docs/stable/indexing.html#indexing-view-versus-copy\nD:\\study\\python\\venv\\lib\\site-packages\\ipykernel_launcher.py:37: SettingWithCopyWarning: \nA value is trying to be set on a copy of a slice from a DataFrame.\nTry using .loc[row_indexer,col_indexer] = value instead\n\nSee the caveats in the documentation: http://pandas.pydata.org/pandas-docs/stable/indexing.html#indexing-view-versus-copy\n"
     ]
    },
    {
     "name": "stdout",
     "output_type": "stream",
     "text": [
      "(635, 2)\n"
     ]
    },
    {
     "name": "stderr",
     "output_type": "stream",
     "text": [
      "D:\\study\\python\\venv\\lib\\site-packages\\ipykernel_launcher.py:35: SettingWithCopyWarning: \nA value is trying to be set on a copy of a slice from a DataFrame.\nTry using .loc[row_indexer,col_indexer] = value instead\n\nSee the caveats in the documentation: http://pandas.pydata.org/pandas-docs/stable/indexing.html#indexing-view-versus-copy\nD:\\study\\python\\venv\\lib\\site-packages\\ipykernel_launcher.py:36: SettingWithCopyWarning: \nA value is trying to be set on a copy of a slice from a DataFrame.\nTry using .loc[row_indexer,col_indexer] = value instead\n\nSee the caveats in the documentation: http://pandas.pydata.org/pandas-docs/stable/indexing.html#indexing-view-versus-copy\nD:\\study\\python\\venv\\lib\\site-packages\\ipykernel_launcher.py:37: SettingWithCopyWarning: \nA value is trying to be set on a copy of a slice from a DataFrame.\nTry using .loc[row_indexer,col_indexer] = value instead\n\nSee the caveats in the documentation: http://pandas.pydata.org/pandas-docs/stable/indexing.html#indexing-view-versus-copy\n"
     ]
    },
    {
     "name": "stdout",
     "output_type": "stream",
     "text": [
      "(634, 2)\n"
     ]
    },
    {
     "name": "stderr",
     "output_type": "stream",
     "text": [
      "D:\\study\\python\\venv\\lib\\site-packages\\ipykernel_launcher.py:35: SettingWithCopyWarning: \nA value is trying to be set on a copy of a slice from a DataFrame.\nTry using .loc[row_indexer,col_indexer] = value instead\n\nSee the caveats in the documentation: http://pandas.pydata.org/pandas-docs/stable/indexing.html#indexing-view-versus-copy\nD:\\study\\python\\venv\\lib\\site-packages\\ipykernel_launcher.py:36: SettingWithCopyWarning: \nA value is trying to be set on a copy of a slice from a DataFrame.\nTry using .loc[row_indexer,col_indexer] = value instead\n\nSee the caveats in the documentation: http://pandas.pydata.org/pandas-docs/stable/indexing.html#indexing-view-versus-copy\nD:\\study\\python\\venv\\lib\\site-packages\\ipykernel_launcher.py:37: SettingWithCopyWarning: \nA value is trying to be set on a copy of a slice from a DataFrame.\nTry using .loc[row_indexer,col_indexer] = value instead\n\nSee the caveats in the documentation: http://pandas.pydata.org/pandas-docs/stable/indexing.html#indexing-view-versus-copy\n"
     ]
    },
    {
     "name": "stdout",
     "output_type": "stream",
     "text": [
      "(632, 2)\n"
     ]
    },
    {
     "name": "stderr",
     "output_type": "stream",
     "text": [
      "D:\\study\\python\\venv\\lib\\site-packages\\ipykernel_launcher.py:35: SettingWithCopyWarning: \nA value is trying to be set on a copy of a slice from a DataFrame.\nTry using .loc[row_indexer,col_indexer] = value instead\n\nSee the caveats in the documentation: http://pandas.pydata.org/pandas-docs/stable/indexing.html#indexing-view-versus-copy\nD:\\study\\python\\venv\\lib\\site-packages\\ipykernel_launcher.py:36: SettingWithCopyWarning: \nA value is trying to be set on a copy of a slice from a DataFrame.\nTry using .loc[row_indexer,col_indexer] = value instead\n\nSee the caveats in the documentation: http://pandas.pydata.org/pandas-docs/stable/indexing.html#indexing-view-versus-copy\nD:\\study\\python\\venv\\lib\\site-packages\\ipykernel_launcher.py:37: SettingWithCopyWarning: \nA value is trying to be set on a copy of a slice from a DataFrame.\nTry using .loc[row_indexer,col_indexer] = value instead\n\nSee the caveats in the documentation: http://pandas.pydata.org/pandas-docs/stable/indexing.html#indexing-view-versus-copy\n"
     ]
    },
    {
     "name": "stdout",
     "output_type": "stream",
     "text": [
      "(619, 2)\n"
     ]
    },
    {
     "name": "stderr",
     "output_type": "stream",
     "text": [
      "D:\\study\\python\\venv\\lib\\site-packages\\ipykernel_launcher.py:35: SettingWithCopyWarning: \nA value is trying to be set on a copy of a slice from a DataFrame.\nTry using .loc[row_indexer,col_indexer] = value instead\n\nSee the caveats in the documentation: http://pandas.pydata.org/pandas-docs/stable/indexing.html#indexing-view-versus-copy\nD:\\study\\python\\venv\\lib\\site-packages\\ipykernel_launcher.py:36: SettingWithCopyWarning: \nA value is trying to be set on a copy of a slice from a DataFrame.\nTry using .loc[row_indexer,col_indexer] = value instead\n\nSee the caveats in the documentation: http://pandas.pydata.org/pandas-docs/stable/indexing.html#indexing-view-versus-copy\nD:\\study\\python\\venv\\lib\\site-packages\\ipykernel_launcher.py:37: SettingWithCopyWarning: \nA value is trying to be set on a copy of a slice from a DataFrame.\nTry using .loc[row_indexer,col_indexer] = value instead\n\nSee the caveats in the documentation: http://pandas.pydata.org/pandas-docs/stable/indexing.html#indexing-view-versus-copy\n"
     ]
    },
    {
     "name": "stdout",
     "output_type": "stream",
     "text": [
      "(600, 2)\n"
     ]
    },
    {
     "name": "stderr",
     "output_type": "stream",
     "text": [
      "D:\\study\\python\\venv\\lib\\site-packages\\ipykernel_launcher.py:35: SettingWithCopyWarning: \nA value is trying to be set on a copy of a slice from a DataFrame.\nTry using .loc[row_indexer,col_indexer] = value instead\n\nSee the caveats in the documentation: http://pandas.pydata.org/pandas-docs/stable/indexing.html#indexing-view-versus-copy\nD:\\study\\python\\venv\\lib\\site-packages\\ipykernel_launcher.py:36: SettingWithCopyWarning: \nA value is trying to be set on a copy of a slice from a DataFrame.\nTry using .loc[row_indexer,col_indexer] = value instead\n\nSee the caveats in the documentation: http://pandas.pydata.org/pandas-docs/stable/indexing.html#indexing-view-versus-copy\nD:\\study\\python\\venv\\lib\\site-packages\\ipykernel_launcher.py:37: SettingWithCopyWarning: \nA value is trying to be set on a copy of a slice from a DataFrame.\nTry using .loc[row_indexer,col_indexer] = value instead\n\nSee the caveats in the documentation: http://pandas.pydata.org/pandas-docs/stable/indexing.html#indexing-view-versus-copy\n"
     ]
    },
    {
     "name": "stdout",
     "output_type": "stream",
     "text": [
      "(599, 2)\n"
     ]
    },
    {
     "name": "stderr",
     "output_type": "stream",
     "text": [
      "D:\\study\\python\\venv\\lib\\site-packages\\ipykernel_launcher.py:35: SettingWithCopyWarning: \nA value is trying to be set on a copy of a slice from a DataFrame.\nTry using .loc[row_indexer,col_indexer] = value instead\n\nSee the caveats in the documentation: http://pandas.pydata.org/pandas-docs/stable/indexing.html#indexing-view-versus-copy\nD:\\study\\python\\venv\\lib\\site-packages\\ipykernel_launcher.py:36: SettingWithCopyWarning: \nA value is trying to be set on a copy of a slice from a DataFrame.\nTry using .loc[row_indexer,col_indexer] = value instead\n\nSee the caveats in the documentation: http://pandas.pydata.org/pandas-docs/stable/indexing.html#indexing-view-versus-copy\nD:\\study\\python\\venv\\lib\\site-packages\\ipykernel_launcher.py:37: SettingWithCopyWarning: \nA value is trying to be set on a copy of a slice from a DataFrame.\nTry using .loc[row_indexer,col_indexer] = value instead\n\nSee the caveats in the documentation: http://pandas.pydata.org/pandas-docs/stable/indexing.html#indexing-view-versus-copy\n"
     ]
    },
    {
     "name": "stdout",
     "output_type": "stream",
     "text": [
      "(586, 2)\n"
     ]
    },
    {
     "name": "stderr",
     "output_type": "stream",
     "text": [
      "D:\\study\\python\\venv\\lib\\site-packages\\ipykernel_launcher.py:35: SettingWithCopyWarning: \nA value is trying to be set on a copy of a slice from a DataFrame.\nTry using .loc[row_indexer,col_indexer] = value instead\n\nSee the caveats in the documentation: http://pandas.pydata.org/pandas-docs/stable/indexing.html#indexing-view-versus-copy\nD:\\study\\python\\venv\\lib\\site-packages\\ipykernel_launcher.py:36: SettingWithCopyWarning: \nA value is trying to be set on a copy of a slice from a DataFrame.\nTry using .loc[row_indexer,col_indexer] = value instead\n\nSee the caveats in the documentation: http://pandas.pydata.org/pandas-docs/stable/indexing.html#indexing-view-versus-copy\nD:\\study\\python\\venv\\lib\\site-packages\\ipykernel_launcher.py:37: SettingWithCopyWarning: \nA value is trying to be set on a copy of a slice from a DataFrame.\nTry using .loc[row_indexer,col_indexer] = value instead\n\nSee the caveats in the documentation: http://pandas.pydata.org/pandas-docs/stable/indexing.html#indexing-view-versus-copy\n"
     ]
    },
    {
     "name": "stdout",
     "output_type": "stream",
     "text": [
      "(577, 2)\n"
     ]
    },
    {
     "name": "stderr",
     "output_type": "stream",
     "text": [
      "D:\\study\\python\\venv\\lib\\site-packages\\ipykernel_launcher.py:35: SettingWithCopyWarning: \nA value is trying to be set on a copy of a slice from a DataFrame.\nTry using .loc[row_indexer,col_indexer] = value instead\n\nSee the caveats in the documentation: http://pandas.pydata.org/pandas-docs/stable/indexing.html#indexing-view-versus-copy\nD:\\study\\python\\venv\\lib\\site-packages\\ipykernel_launcher.py:36: SettingWithCopyWarning: \nA value is trying to be set on a copy of a slice from a DataFrame.\nTry using .loc[row_indexer,col_indexer] = value instead\n\nSee the caveats in the documentation: http://pandas.pydata.org/pandas-docs/stable/indexing.html#indexing-view-versus-copy\nD:\\study\\python\\venv\\lib\\site-packages\\ipykernel_launcher.py:37: SettingWithCopyWarning: \nA value is trying to be set on a copy of a slice from a DataFrame.\nTry using .loc[row_indexer,col_indexer] = value instead\n\nSee the caveats in the documentation: http://pandas.pydata.org/pandas-docs/stable/indexing.html#indexing-view-versus-copy\n"
     ]
    },
    {
     "name": "stdout",
     "output_type": "stream",
     "text": [
      "(550, 2)\n"
     ]
    },
    {
     "name": "stderr",
     "output_type": "stream",
     "text": [
      "D:\\study\\python\\venv\\lib\\site-packages\\ipykernel_launcher.py:35: SettingWithCopyWarning: \nA value is trying to be set on a copy of a slice from a DataFrame.\nTry using .loc[row_indexer,col_indexer] = value instead\n\nSee the caveats in the documentation: http://pandas.pydata.org/pandas-docs/stable/indexing.html#indexing-view-versus-copy\nD:\\study\\python\\venv\\lib\\site-packages\\ipykernel_launcher.py:36: SettingWithCopyWarning: \nA value is trying to be set on a copy of a slice from a DataFrame.\nTry using .loc[row_indexer,col_indexer] = value instead\n\nSee the caveats in the documentation: http://pandas.pydata.org/pandas-docs/stable/indexing.html#indexing-view-versus-copy\nD:\\study\\python\\venv\\lib\\site-packages\\ipykernel_launcher.py:37: SettingWithCopyWarning: \nA value is trying to be set on a copy of a slice from a DataFrame.\nTry using .loc[row_indexer,col_indexer] = value instead\n\nSee the caveats in the documentation: http://pandas.pydata.org/pandas-docs/stable/indexing.html#indexing-view-versus-copy\n"
     ]
    },
    {
     "name": "stdout",
     "output_type": "stream",
     "text": [
      "(538, 2)\n"
     ]
    },
    {
     "name": "stderr",
     "output_type": "stream",
     "text": [
      "D:\\study\\python\\venv\\lib\\site-packages\\ipykernel_launcher.py:35: SettingWithCopyWarning: \nA value is trying to be set on a copy of a slice from a DataFrame.\nTry using .loc[row_indexer,col_indexer] = value instead\n\nSee the caveats in the documentation: http://pandas.pydata.org/pandas-docs/stable/indexing.html#indexing-view-versus-copy\nD:\\study\\python\\venv\\lib\\site-packages\\ipykernel_launcher.py:36: SettingWithCopyWarning: \nA value is trying to be set on a copy of a slice from a DataFrame.\nTry using .loc[row_indexer,col_indexer] = value instead\n\nSee the caveats in the documentation: http://pandas.pydata.org/pandas-docs/stable/indexing.html#indexing-view-versus-copy\nD:\\study\\python\\venv\\lib\\site-packages\\ipykernel_launcher.py:37: SettingWithCopyWarning: \nA value is trying to be set on a copy of a slice from a DataFrame.\nTry using .loc[row_indexer,col_indexer] = value instead\n\nSee the caveats in the documentation: http://pandas.pydata.org/pandas-docs/stable/indexing.html#indexing-view-versus-copy\n"
     ]
    },
    {
     "name": "stdout",
     "output_type": "stream",
     "text": [
      "(533, 2)\n"
     ]
    },
    {
     "name": "stderr",
     "output_type": "stream",
     "text": [
      "D:\\study\\python\\venv\\lib\\site-packages\\ipykernel_launcher.py:35: SettingWithCopyWarning: \nA value is trying to be set on a copy of a slice from a DataFrame.\nTry using .loc[row_indexer,col_indexer] = value instead\n\nSee the caveats in the documentation: http://pandas.pydata.org/pandas-docs/stable/indexing.html#indexing-view-versus-copy\nD:\\study\\python\\venv\\lib\\site-packages\\ipykernel_launcher.py:36: SettingWithCopyWarning: \nA value is trying to be set on a copy of a slice from a DataFrame.\nTry using .loc[row_indexer,col_indexer] = value instead\n\nSee the caveats in the documentation: http://pandas.pydata.org/pandas-docs/stable/indexing.html#indexing-view-versus-copy\nD:\\study\\python\\venv\\lib\\site-packages\\ipykernel_launcher.py:37: SettingWithCopyWarning: \nA value is trying to be set on a copy of a slice from a DataFrame.\nTry using .loc[row_indexer,col_indexer] = value instead\n\nSee the caveats in the documentation: http://pandas.pydata.org/pandas-docs/stable/indexing.html#indexing-view-versus-copy\n"
     ]
    },
    {
     "name": "stdout",
     "output_type": "stream",
     "text": [
      "(528, 2)\n"
     ]
    },
    {
     "name": "stderr",
     "output_type": "stream",
     "text": [
      "D:\\study\\python\\venv\\lib\\site-packages\\ipykernel_launcher.py:35: SettingWithCopyWarning: \nA value is trying to be set on a copy of a slice from a DataFrame.\nTry using .loc[row_indexer,col_indexer] = value instead\n\nSee the caveats in the documentation: http://pandas.pydata.org/pandas-docs/stable/indexing.html#indexing-view-versus-copy\nD:\\study\\python\\venv\\lib\\site-packages\\ipykernel_launcher.py:36: SettingWithCopyWarning: \nA value is trying to be set on a copy of a slice from a DataFrame.\nTry using .loc[row_indexer,col_indexer] = value instead\n\nSee the caveats in the documentation: http://pandas.pydata.org/pandas-docs/stable/indexing.html#indexing-view-versus-copy\nD:\\study\\python\\venv\\lib\\site-packages\\ipykernel_launcher.py:37: SettingWithCopyWarning: \nA value is trying to be set on a copy of a slice from a DataFrame.\nTry using .loc[row_indexer,col_indexer] = value instead\n\nSee the caveats in the documentation: http://pandas.pydata.org/pandas-docs/stable/indexing.html#indexing-view-versus-copy\n"
     ]
    },
    {
     "name": "stdout",
     "output_type": "stream",
     "text": [
      "(518, 2)\n"
     ]
    },
    {
     "name": "stderr",
     "output_type": "stream",
     "text": [
      "D:\\study\\python\\venv\\lib\\site-packages\\ipykernel_launcher.py:35: SettingWithCopyWarning: \nA value is trying to be set on a copy of a slice from a DataFrame.\nTry using .loc[row_indexer,col_indexer] = value instead\n\nSee the caveats in the documentation: http://pandas.pydata.org/pandas-docs/stable/indexing.html#indexing-view-versus-copy\nD:\\study\\python\\venv\\lib\\site-packages\\ipykernel_launcher.py:36: SettingWithCopyWarning: \nA value is trying to be set on a copy of a slice from a DataFrame.\nTry using .loc[row_indexer,col_indexer] = value instead\n\nSee the caveats in the documentation: http://pandas.pydata.org/pandas-docs/stable/indexing.html#indexing-view-versus-copy\nD:\\study\\python\\venv\\lib\\site-packages\\ipykernel_launcher.py:37: SettingWithCopyWarning: \nA value is trying to be set on a copy of a slice from a DataFrame.\nTry using .loc[row_indexer,col_indexer] = value instead\n\nSee the caveats in the documentation: http://pandas.pydata.org/pandas-docs/stable/indexing.html#indexing-view-versus-copy\n"
     ]
    }
   ],
   "source": [
    "from sklearn.feature_extraction.text import CountVectorizer\n",
    "from sklearn.feature_extraction.text import TfidfTransformer\n",
    "from sklearn.cluster import KMeans\n",
    "from sklearn.decomposition import PCA\n",
    "from sklearn.decomposition import TruncatedSVD\n",
    "from sklearn.metrics import silhouette_score\n",
    "for i in range(scope+1):\n",
    "    test=df2[df2['index']==i]\n",
    "    vectorizer = CountVectorizer()\n",
    "    X = vectorizer.fit_transform(test['text'])\n",
    "    transformer = TfidfTransformer()\n",
    "    tfidf = transformer.fit_transform(X)\n",
    "   \n",
    "    def k_mean_distance(data, cx, cy, i_centroid, cluster_labels):\n",
    "        distances = [np.sqrt((x-cx)**2+(y-cy)**2) for (x, y) in data[cluster_labels == i_centroid]]\n",
    "        return np.mean(distances)\n",
    "\n",
    "    t_data=TruncatedSVD(n_components=2).fit_transform(tfidf)\n",
    "    # test['tfidf']=tfidf\n",
    "    print(t_data.shape)\n",
    "    k_means=KMeans()\n",
    "    clusters=k_means.fit_predict(tfidf)\n",
    "    centroids = k_means.cluster_centers_\n",
    "    centroids=TruncatedSVD(n_components=2).fit_transform(centroids)\n",
    "    c_mean_distances = []\n",
    "    for i, (cx, cy) in enumerate(centroids):\n",
    "        mean_distance = k_mean_distance(t_data, cx, cy, i, clusters)\n",
    "        c_mean_distances.append(mean_distance)\n",
    "    test1=pd.DataFrame(clusters)\n",
    "\n",
    "    test2 = pd.DataFrame({'size':test1.groupby(0).size()})\n",
    "    test2 = test2.sort_index( ascending=True)\n",
    "    test2['cluster']=c_mean_distances[0:len(test2)]\n",
    "    test2['selfsimilar']=test2['size']**w1*test2['cluster']**w2/len(test2)*w3\n",
    "    test['self_similarity']=test2['selfsimilar'].sum()\n",
    "    test['num_hashtags']=test['num_hashtags'].sum()/test['size']\n",
    "    test['num_mentions']=test['num_mentions'].sum()/test['size']\n",
    "    empty=empty.append(test)\n"
   ]
  },
  {
   "cell_type": "code",
   "execution_count": 24,
   "metadata": {},
   "outputs": [
    {
     "name": "stdout",
     "output_type": "stream",
     "text": [
      "174696\n"
     ]
    }
   ],
   "source": [
    "print(len(empty))"
   ]
  },
  {
   "cell_type": "code",
   "execution_count": 25,
   "metadata": {
    "collapsed": true
   },
   "outputs": [
    {
     "name": "stdout",
     "output_type": "stream",
     "text": [
      "0.000000    24732\n0.500000    17008\n0.333333    11106\n1.000000     7915\n0.666667     7565\n0.250000     7055\n0.400000     6380\n0.600000     5715\n0.200000     4773\n0.750000     4346\n0.428571     3680\n0.166667     3291\n0.571429     3284\n0.285714     3277\n0.375000     2961\n0.444444     2913\n0.454545     2604\n0.800000     2587\n0.300000     2563\n0.363636     2493\n0.555556     2429\n0.625000     2379\n0.142857     2225\n0.545455     2213\n0.222222     2145\n0.272727     2087\n0.714286     1918\n0.416667     1847\n0.125000     1631\n0.636364     1590\n            ...  \n0.050000       12\n0.315789       11\n0.705882        9\n0.150000        9\n0.350000        8\n0.647059        8\n0.368421        6\n0.937500        6\n0.047619        5\n0.812500        4\n0.421053        4\n0.823529        4\n0.578947        3\n0.130435        3\n0.526316        3\n0.450000        3\n0.941176        2\n0.764706        2\n0.611111        2\n0.956522        2\n0.190476        2\n0.086957        2\n0.043478        2\n0.136364        2\n0.041667        1\n0.095238        1\n0.045455        1\n0.523810        1\n0.238095        1\n0.631579        1\nName: spamRatio, Length: 128, dtype: int64\n"
     ]
    }
   ],
   "source": [
    "spamList=open(\"D:\\study\\python\\Spamdetection\\\\blacklist.txt\",encoding='utf-8').read()\n",
    "spamList=spamList.split()\n",
    "def spamWordRatio(word):\n",
    "    word=word.split()\n",
    "    count=0\n",
    "    for i in word:\n",
    "        if i in spamList:\n",
    "            count=count+1\n",
    "    return count/len(word)\n",
    "empty['spamRatio']=empty['text'].apply(spamWordRatio)\n",
    "print(empty['spamRatio'].value_counts())"
   ]
  },
  {
   "cell_type": "code",
   "execution_count": 26,
   "metadata": {},
   "outputs": [
    {
     "name": "stdout",
     "output_type": "stream",
     "text": [
      "(174696, 175979)\n"
     ]
    }
   ],
   "source": [
    "from sklearn.feature_extraction.text import TfidfVectorizer\n",
    "vectorizer = TfidfVectorizer()\n",
    "tfidf= vectorizer.fit_transform(empty['text'])\n",
    "\n",
    "from sklearn.decomposition import TruncatedSVD\n",
    "print(tfidf.shape)\n",
    "\n",
    "svd = TruncatedSVD(n_components=50,random_state=42)\n",
    "tfidf=svd.fit_transform(tfidf)\n"
   ]
  },
  {
   "cell_type": "code",
   "execution_count": 83,
   "metadata": {
    "collapsed": true
   },
   "outputs": [
    {
     "data": {
      "image/png": "[encoded data removed]",
      "text/plain": [
       "<Figure size 432x288 with 1 Axes>"
      ]
     },
     "metadata": {},
     "output_type": "display_data"
    }
   ],
   "source": [
    "import matplotlib.pyplot as plt\n",
    "\n",
    "\n",
    "import seaborn as sns\n",
    "sns.distplot(empty.num_hashtags[empty.isSpam==0],label='normal')\n",
    "sns.distplot(empty.num_hashtags[empty.isSpam==1],label='spam')\n",
    "plt.legend()\n",
    "plt.show()"
   ]
  },
  {
   "cell_type": "code",
   "execution_count": 28,
   "metadata": {
    "collapsed": true
   },
   "outputs": [
    {
     "ename": "ValueError",
     "evalue": "Wrong number of items passed 50, placement implies 1",
     "traceback": [
      "\u001b[1;31m---------------------------------------------------------------------------\u001b[0m",
      "\u001b[1;31mKeyError\u001b[0m                                  Traceback (most recent call last)",
      "\u001b[1;32mD:\\study\\python\\venv\\lib\\site-packages\\pandas\\core\\indexes\\base.py\u001b[0m in \u001b[0;36mget_loc\u001b[1;34m(self, key, method, tolerance)\u001b[0m\n\u001b[0;32m   2656\u001b[0m             \u001b[1;32mtry\u001b[0m\u001b[1;33m:\u001b[0m\u001b[1;33m\u001b[0m\u001b[0m\n\u001b[1;32m-> 2657\u001b[1;33m                 \u001b[1;32mreturn\u001b[0m \u001b[0mself\u001b[0m\u001b[1;33m.\u001b[0m\u001b[0m_engine\u001b[0m\u001b[1;33m.\u001b[0m\u001b[0mget_loc\u001b[0m\u001b[1;33m(\u001b[0m\u001b[0mkey\u001b[0m\u001b[1;33m)\u001b[0m\u001b[1;33m\u001b[0m\u001b[0m\n\u001b[0m\u001b[0;32m   2658\u001b[0m             \u001b[1;32mexcept\u001b[0m \u001b[0mKeyError\u001b[0m\u001b[1;33m:\u001b[0m\u001b[1;33m\u001b[0m\u001b[0m\n",
      "\u001b[1;32mpandas\\_libs\\index.pyx\u001b[0m in \u001b[0;36mpandas._libs.index.IndexEngine.get_loc\u001b[1;34m()\u001b[0m\n",
      "\u001b[1;32mpandas\\_libs\\index.pyx\u001b[0m in \u001b[0;36mpandas._libs.index.IndexEngine.get_loc\u001b[1;34m()\u001b[0m\n",
      "\u001b[1;32mpandas\\_libs\\hashtable_class_helper.pxi\u001b[0m in \u001b[0;36mpandas._libs.hashtable.PyObjectHashTable.get_item\u001b[1;34m()\u001b[0m\n",
      "\u001b[1;32mpandas\\_libs\\hashtable_class_helper.pxi\u001b[0m in \u001b[0;36mpandas._libs.hashtable.PyObjectHashTable.get_item\u001b[1;34m()\u001b[0m\n",
      "\u001b[1;31mKeyError\u001b[0m: 'TFIDF'",
      "\nDuring handling of the above exception, another exception occurred:\n",
      "\u001b[1;31mKeyError\u001b[0m                                  Traceback (most recent call last)",
      "\u001b[1;32mD:\\study\\python\\venv\\lib\\site-packages\\pandas\\core\\internals\\managers.py\u001b[0m in \u001b[0;36mset\u001b[1;34m(self, item, value)\u001b[0m\n\u001b[0;32m   1052\u001b[0m         \u001b[1;32mtry\u001b[0m\u001b[1;33m:\u001b[0m\u001b[1;33m\u001b[0m\u001b[0m\n\u001b[1;32m-> 1053\u001b[1;33m             \u001b[0mloc\u001b[0m \u001b[1;33m=\u001b[0m \u001b[0mself\u001b[0m\u001b[1;33m.\u001b[0m\u001b[0mitems\u001b[0m\u001b[1;33m.\u001b[0m\u001b[0mget_loc\u001b[0m\u001b[1;33m(\u001b[0m\u001b[0mitem\u001b[0m\u001b[1;33m)\u001b[0m\u001b[1;33m\u001b[0m\u001b[0m\n\u001b[0m\u001b[0;32m   1054\u001b[0m         \u001b[1;32mexcept\u001b[0m \u001b[0mKeyError\u001b[0m\u001b[1;33m:\u001b[0m\u001b[1;33m\u001b[0m\u001b[0m\n",
      "\u001b[1;32mD:\\study\\python\\venv\\lib\\site-packages\\pandas\\core\\indexes\\base.py\u001b[0m in \u001b[0;36mget_loc\u001b[1;34m(self, key, method, tolerance)\u001b[0m\n\u001b[0;32m   2658\u001b[0m             \u001b[1;32mexcept\u001b[0m \u001b[0mKeyError\u001b[0m\u001b[1;33m:\u001b[0m\u001b[1;33m\u001b[0m\u001b[0m\n\u001b[1;32m-> 2659\u001b[1;33m                 \u001b[1;32mreturn\u001b[0m \u001b[0mself\u001b[0m\u001b[1;33m.\u001b[0m\u001b[0m_engine\u001b[0m\u001b[1;33m.\u001b[0m\u001b[0mget_loc\u001b[0m\u001b[1;33m(\u001b[0m\u001b[0mself\u001b[0m\u001b[1;33m.\u001b[0m\u001b[0m_maybe_cast_indexer\u001b[0m\u001b[1;33m(\u001b[0m\u001b[0mkey\u001b[0m\u001b[1;33m)\u001b[0m\u001b[1;33m)\u001b[0m\u001b[1;33m\u001b[0m\u001b[0m\n\u001b[0m\u001b[0;32m   2660\u001b[0m         \u001b[0mindexer\u001b[0m \u001b[1;33m=\u001b[0m \u001b[0mself\u001b[0m\u001b[1;33m.\u001b[0m\u001b[0mget_indexer\u001b[0m\u001b[1;33m(\u001b[0m\u001b[1;33m[\u001b[0m\u001b[0mkey\u001b[0m\u001b[1;33m]\u001b[0m\u001b[1;33m,\u001b[0m \u001b[0mmethod\u001b[0m\u001b[1;33m=\u001b[0m\u001b[0mmethod\u001b[0m\u001b[1;33m,\u001b[0m \u001b[0mtolerance\u001b[0m\u001b[1;33m=\u001b[0m\u001b[0mtolerance\u001b[0m\u001b[1;33m)\u001b[0m\u001b[1;33m\u001b[0m\u001b[0m\n",
      "\u001b[1;32mpandas\\_libs\\index.pyx\u001b[0m in \u001b[0;36mpandas._libs.index.IndexEngine.get_loc\u001b[1;34m()\u001b[0m\n",
      "\u001b[1;32mpandas\\_libs\\index.pyx\u001b[0m in \u001b[0;36mpandas._libs.index.IndexEngine.get_loc\u001b[1;34m()\u001b[0m\n",
      "\u001b[1;32mpandas\\_libs\\hashtable_class_helper.pxi\u001b[0m in \u001b[0;36mpandas._libs.hashtable.PyObjectHashTable.get_item\u001b[1;34m()\u001b[0m\n",
      "\u001b[1;32mpandas\\_libs\\hashtable_class_helper.pxi\u001b[0m in \u001b[0;36mpandas._libs.hashtable.PyObjectHashTable.get_item\u001b[1;34m()\u001b[0m\n",
      "\u001b[1;31mKeyError\u001b[0m: 'TFIDF'",
      "\nDuring handling of the above exception, another exception occurred:\n",
      "\u001b[1;31mValueError\u001b[0m                                Traceback (most recent call last)",
      "\u001b[1;32m<ipython-input-28-7a03ee5b5395>\u001b[0m in \u001b[0;36m<module>\u001b[1;34m\u001b[0m\n\u001b[1;32m----> 1\u001b[1;33m \u001b[0mempty\u001b[0m\u001b[1;33m[\u001b[0m\u001b[1;34m'TFIDF'\u001b[0m\u001b[1;33m]\u001b[0m\u001b[1;33m=\u001b[0m\u001b[0mtfidf\u001b[0m\u001b[1;33m\u001b[0m\u001b[0m\n\u001b[0m\u001b[0;32m      2\u001b[0m \u001b[1;33m\u001b[0m\u001b[0m\n\u001b[0;32m      3\u001b[0m \u001b[1;33m\u001b[0m\u001b[0m\n\u001b[0;32m      4\u001b[0m \u001b[1;33m\u001b[0m\u001b[0m\n\u001b[0;32m      5\u001b[0m \u001b[1;33m\u001b[0m\u001b[0m\n",
      "\u001b[1;32mD:\\study\\python\\venv\\lib\\site-packages\\pandas\\core\\frame.py\u001b[0m in \u001b[0;36m__setitem__\u001b[1;34m(self, key, value)\u001b[0m\n\u001b[0;32m   3368\u001b[0m         \u001b[1;32melse\u001b[0m\u001b[1;33m:\u001b[0m\u001b[1;33m\u001b[0m\u001b[0m\n\u001b[0;32m   3369\u001b[0m             \u001b[1;31m# set column\u001b[0m\u001b[1;33m\u001b[0m\u001b[1;33m\u001b[0m\u001b[0m\n\u001b[1;32m-> 3370\u001b[1;33m             \u001b[0mself\u001b[0m\u001b[1;33m.\u001b[0m\u001b[0m_set_item\u001b[0m\u001b[1;33m(\u001b[0m\u001b[0mkey\u001b[0m\u001b[1;33m,\u001b[0m \u001b[0mvalue\u001b[0m\u001b[1;33m)\u001b[0m\u001b[1;33m\u001b[0m\u001b[0m\n\u001b[0m\u001b[0;32m   3371\u001b[0m \u001b[1;33m\u001b[0m\u001b[0m\n\u001b[0;32m   3372\u001b[0m     \u001b[1;32mdef\u001b[0m \u001b[0m_setitem_slice\u001b[0m\u001b[1;33m(\u001b[0m\u001b[0mself\u001b[0m\u001b[1;33m,\u001b[0m \u001b[0mkey\u001b[0m\u001b[1;33m,\u001b[0m \u001b[0mvalue\u001b[0m\u001b[1;33m)\u001b[0m\u001b[1;33m:\u001b[0m\u001b[1;33m\u001b[0m\u001b[0m\n",
      "\u001b[1;32mD:\\study\\python\\venv\\lib\\site-packages\\pandas\\core\\frame.py\u001b[0m in \u001b[0;36m_set_item\u001b[1;34m(self, key, value)\u001b[0m\n\u001b[0;32m   3444\u001b[0m         \u001b[0mself\u001b[0m\u001b[1;33m.\u001b[0m\u001b[0m_ensure_valid_index\u001b[0m\u001b[1;33m(\u001b[0m\u001b[0mvalue\u001b[0m\u001b[1;33m)\u001b[0m\u001b[1;33m\u001b[0m\u001b[0m\n\u001b[0;32m   3445\u001b[0m         \u001b[0mvalue\u001b[0m \u001b[1;33m=\u001b[0m \u001b[0mself\u001b[0m\u001b[1;33m.\u001b[0m\u001b[0m_sanitize_column\u001b[0m\u001b[1;33m(\u001b[0m\u001b[0mkey\u001b[0m\u001b[1;33m,\u001b[0m \u001b[0mvalue\u001b[0m\u001b[1;33m)\u001b[0m\u001b[1;33m\u001b[0m\u001b[0m\n\u001b[1;32m-> 3446\u001b[1;33m         \u001b[0mNDFrame\u001b[0m\u001b[1;33m.\u001b[0m\u001b[0m_set_item\u001b[0m\u001b[1;33m(\u001b[0m\u001b[0mself\u001b[0m\u001b[1;33m,\u001b[0m \u001b[0mkey\u001b[0m\u001b[1;33m,\u001b[0m \u001b[0mvalue\u001b[0m\u001b[1;33m)\u001b[0m\u001b[1;33m\u001b[0m\u001b[0m\n\u001b[0m\u001b[0;32m   3447\u001b[0m \u001b[1;33m\u001b[0m\u001b[0m\n\u001b[0;32m   3448\u001b[0m         \u001b[1;31m# check if we are modifying a copy\u001b[0m\u001b[1;33m\u001b[0m\u001b[1;33m\u001b[0m\u001b[0m\n",
      "\u001b[1;32mD:\\study\\python\\venv\\lib\\site-packages\\pandas\\core\\generic.py\u001b[0m in \u001b[0;36m_set_item\u001b[1;34m(self, key, value)\u001b[0m\n\u001b[0;32m   3170\u001b[0m \u001b[1;33m\u001b[0m\u001b[0m\n\u001b[0;32m   3171\u001b[0m     \u001b[1;32mdef\u001b[0m \u001b[0m_set_item\u001b[0m\u001b[1;33m(\u001b[0m\u001b[0mself\u001b[0m\u001b[1;33m,\u001b[0m \u001b[0mkey\u001b[0m\u001b[1;33m,\u001b[0m \u001b[0mvalue\u001b[0m\u001b[1;33m)\u001b[0m\u001b[1;33m:\u001b[0m\u001b[1;33m\u001b[0m\u001b[0m\n\u001b[1;32m-> 3172\u001b[1;33m         \u001b[0mself\u001b[0m\u001b[1;33m.\u001b[0m\u001b[0m_data\u001b[0m\u001b[1;33m.\u001b[0m\u001b[0mset\u001b[0m\u001b[1;33m(\u001b[0m\u001b[0mkey\u001b[0m\u001b[1;33m,\u001b[0m \u001b[0mvalue\u001b[0m\u001b[1;33m)\u001b[0m\u001b[1;33m\u001b[0m\u001b[0m\n\u001b[0m\u001b[0;32m   3173\u001b[0m         \u001b[0mself\u001b[0m\u001b[1;33m.\u001b[0m\u001b[0m_clear_item_cache\u001b[0m\u001b[1;33m(\u001b[0m\u001b[1;33m)\u001b[0m\u001b[1;33m\u001b[0m\u001b[0m\n\u001b[0;32m   3174\u001b[0m \u001b[1;33m\u001b[0m\u001b[0m\n",
      "\u001b[1;32mD:\\study\\python\\venv\\lib\\site-packages\\pandas\\core\\internals\\managers.py\u001b[0m in \u001b[0;36mset\u001b[1;34m(self, item, value)\u001b[0m\n\u001b[0;32m   1054\u001b[0m         \u001b[1;32mexcept\u001b[0m \u001b[0mKeyError\u001b[0m\u001b[1;33m:\u001b[0m\u001b[1;33m\u001b[0m\u001b[0m\n\u001b[0;32m   1055\u001b[0m             \u001b[1;31m# This item wasn't present, just insert at end\u001b[0m\u001b[1;33m\u001b[0m\u001b[1;33m\u001b[0m\u001b[0m\n\u001b[1;32m-> 1056\u001b[1;33m             \u001b[0mself\u001b[0m\u001b[1;33m.\u001b[0m\u001b[0minsert\u001b[0m\u001b[1;33m(\u001b[0m\u001b[0mlen\u001b[0m\u001b[1;33m(\u001b[0m\u001b[0mself\u001b[0m\u001b[1;33m.\u001b[0m\u001b[0mitems\u001b[0m\u001b[1;33m)\u001b[0m\u001b[1;33m,\u001b[0m \u001b[0mitem\u001b[0m\u001b[1;33m,\u001b[0m \u001b[0mvalue\u001b[0m\u001b[1;33m)\u001b[0m\u001b[1;33m\u001b[0m\u001b[0m\n\u001b[0m\u001b[0;32m   1057\u001b[0m             \u001b[1;32mreturn\u001b[0m\u001b[1;33m\u001b[0m\u001b[0m\n\u001b[0;32m   1058\u001b[0m \u001b[1;33m\u001b[0m\u001b[0m\n",
      "\u001b[1;32mD:\\study\\python\\venv\\lib\\site-packages\\pandas\\core\\internals\\managers.py\u001b[0m in \u001b[0;36minsert\u001b[1;34m(self, loc, item, value, allow_duplicates)\u001b[0m\n\u001b[0;32m   1156\u001b[0m \u001b[1;33m\u001b[0m\u001b[0m\n\u001b[0;32m   1157\u001b[0m         block = make_block(values=value, ndim=self.ndim,\n\u001b[1;32m-> 1158\u001b[1;33m                            placement=slice(loc, loc + 1))\n\u001b[0m\u001b[0;32m   1159\u001b[0m \u001b[1;33m\u001b[0m\u001b[0m\n\u001b[0;32m   1160\u001b[0m         \u001b[1;32mfor\u001b[0m \u001b[0mblkno\u001b[0m\u001b[1;33m,\u001b[0m \u001b[0mcount\u001b[0m \u001b[1;32min\u001b[0m \u001b[0m_fast_count_smallints\u001b[0m\u001b[1;33m(\u001b[0m\u001b[0mself\u001b[0m\u001b[1;33m.\u001b[0m\u001b[0m_blknos\u001b[0m\u001b[1;33m[\u001b[0m\u001b[0mloc\u001b[0m\u001b[1;33m:\u001b[0m\u001b[1;33m]\u001b[0m\u001b[1;33m)\u001b[0m\u001b[1;33m:\u001b[0m\u001b[1;33m\u001b[0m\u001b[0m\n",
      "\u001b[1;32mD:\\study\\python\\venv\\lib\\site-packages\\pandas\\core\\internals\\blocks.py\u001b[0m in \u001b[0;36mmake_block\u001b[1;34m(values, placement, klass, ndim, dtype, fastpath)\u001b[0m\n\u001b[0;32m   3093\u001b[0m         \u001b[0mvalues\u001b[0m \u001b[1;33m=\u001b[0m \u001b[0mDatetimeArray\u001b[0m\u001b[1;33m.\u001b[0m\u001b[0m_simple_new\u001b[0m\u001b[1;33m(\u001b[0m\u001b[0mvalues\u001b[0m\u001b[1;33m,\u001b[0m \u001b[0mdtype\u001b[0m\u001b[1;33m=\u001b[0m\u001b[0mdtype\u001b[0m\u001b[1;33m)\u001b[0m\u001b[1;33m\u001b[0m\u001b[0m\n\u001b[0;32m   3094\u001b[0m \u001b[1;33m\u001b[0m\u001b[0m\n\u001b[1;32m-> 3095\u001b[1;33m     \u001b[1;32mreturn\u001b[0m \u001b[0mklass\u001b[0m\u001b[1;33m(\u001b[0m\u001b[0mvalues\u001b[0m\u001b[1;33m,\u001b[0m \u001b[0mndim\u001b[0m\u001b[1;33m=\u001b[0m\u001b[0mndim\u001b[0m\u001b[1;33m,\u001b[0m \u001b[0mplacement\u001b[0m\u001b[1;33m=\u001b[0m\u001b[0mplacement\u001b[0m\u001b[1;33m)\u001b[0m\u001b[1;33m\u001b[0m\u001b[0m\n\u001b[0m\u001b[0;32m   3096\u001b[0m \u001b[1;33m\u001b[0m\u001b[0m\n\u001b[0;32m   3097\u001b[0m \u001b[1;33m\u001b[0m\u001b[0m\n",
      "\u001b[1;32mD:\\study\\python\\venv\\lib\\site-packages\\pandas\\core\\internals\\blocks.py\u001b[0m in \u001b[0;36m__init__\u001b[1;34m(self, values, placement, ndim)\u001b[0m\n\u001b[0;32m     85\u001b[0m             raise ValueError(\n\u001b[0;32m     86\u001b[0m                 \u001b[1;34m'Wrong number of items passed {val}, placement implies '\u001b[0m\u001b[1;33m\u001b[0m\u001b[0m\n\u001b[1;32m---> 87\u001b[1;33m                 '{mgr}'.format(val=len(self.values), mgr=len(self.mgr_locs)))\n\u001b[0m\u001b[0;32m     88\u001b[0m \u001b[1;33m\u001b[0m\u001b[0m\n\u001b[0;32m     89\u001b[0m     \u001b[1;32mdef\u001b[0m \u001b[0m_check_ndim\u001b[0m\u001b[1;33m(\u001b[0m\u001b[0mself\u001b[0m\u001b[1;33m,\u001b[0m \u001b[0mvalues\u001b[0m\u001b[1;33m,\u001b[0m \u001b[0mndim\u001b[0m\u001b[1;33m)\u001b[0m\u001b[1;33m:\u001b[0m\u001b[1;33m\u001b[0m\u001b[0m\n",
      "\u001b[1;31mValueError\u001b[0m: Wrong number of items passed 50, placement implies 1"
     ],
     "output_type": "error"
    }
   ],
   "source": [
    "empty['TFIDF']=tfidf\n",
    "\n",
    "\n",
    "\n",
    "\n"
   ]
  },
  {
   "cell_type": "code",
   "execution_count": 32,
   "metadata": {},
   "outputs": [],
   "source": [
    "final3=empty.drop(['language','text','finalurl'],axis=1)"
   ]
  },
  {
   "cell_type": "code",
   "execution_count": 33,
   "metadata": {},
   "outputs": [
    {
     "name": "stdout",
     "output_type": "stream",
     "text": [
      "Index(['id', 'time', 'isSpam', 'num_hashtags', 'num_mentions', 'size', 'index',\n       'self_similarity', 'spamRatio'],\n      dtype='object')\n"
     ]
    }
   ],
   "source": [
    "print(final3.columns)"
   ]
  },
  {
   "cell_type": "code",
   "execution_count": 84,
   "metadata": {},
   "outputs": [
    {
     "name": "stderr",
     "output_type": "stream",
     "text": [
      "D:\\study\\python\\venv\\lib\\site-packages\\ipykernel_launcher.py:10: FutureWarning: Method .as_matrix will be removed in a future version. Use .values instead.\n  # Remove the CWD from sys.path while we load stuff.\nD:\\study\\python\\venv\\lib\\site-packages\\sklearn\\ensemble\\forest.py:246: FutureWarning: The default value of n_estimators will change from 10 in version 0.20 to 100 in 0.22.\n  \"10 in version 0.20 to 100 in 0.22.\", FutureWarning)\n"
     ]
    },
    {
     "name": "stdout",
     "output_type": "stream",
     "text": [
      "Train accuracy: 0.9845444918286156\nTest accuracy: 0.8178878076702919\n"
     ]
    },
    {
     "name": "stdout",
     "output_type": "stream",
     "text": [
      "              precision    recall  f1-score   support\n\n           0       0.75      0.75      0.75     12929\n           1       0.86      0.86      0.86     22011\n\n   micro avg       0.82      0.82      0.82     34940\n   macro avg       0.80      0.80      0.80     34940\nweighted avg       0.82      0.82      0.82     34940\n\n"
     ]
    }
   ],
   "source": [
    "from sklearn.ensemble import RandomForestClassifier\n",
    "from sklearn.model_selection import train_test_split\n",
    "from sklearn.neighbors import KNeighborsClassifier\n",
    "from sklearn.metrics import classification_report\n",
    "from sklearn.metrics import confusion_matrix\n",
    "from sklearn.tree import DecisionTreeClassifier\n",
    "from sklearn import metrics\n",
    "y = final3['isSpam']\n",
    "X = final3.drop(['isSpam'], axis=1)\n",
    "X_mat=X.as_matrix()\n",
    "rs=20\n",
    "\n",
    "X_train, X_test, y_train, y_test = train_test_split(X_mat, y\n",
    "                                            , stratify=y,test_size=0.2,\n",
    "                                                    random_state=42\n",
    "                                                    )\n",
    "model = RandomForestClassifier(max_depth=1000)\n",
    "model.fit(X_train,y_train)\n",
    "print(\"Train accuracy:\", model.score(X_train, y_train))\n",
    "print(\"Test accuracy:\", model.score(X_test, y_test))\n",
    "y_pred = model.predict(X_test)\n",
    "\n",
    "report =  classification_report(y_test, y_pred) \n",
    "\n",
    "\n",
    "print(report)"
   ]
  },
  {
   "cell_type": "code",
   "execution_count": null,
   "metadata": {},
   "outputs": [],
   "source": []
  }
 ],
 "metadata": {
  "kernelspec": {
   "display_name": "Python 2",
   "language": "python",
   "name": "python2"
  },
  "language_info": {
   "codemirror_mode": {
    "name": "ipython",
    "version": 2
   },
   "file_extension": ".py",
   "mimetype": "text/x-python",
   "name": "python",
   "nbconvert_exporter": "python",
   "pygments_lexer": "ipython2",
   "version": "2.7.6"
  }
 },
 "nbformat": 4,
 "nbformat_minor": 0
}
